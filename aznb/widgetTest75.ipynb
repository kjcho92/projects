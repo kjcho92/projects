{
  "cells": [
    {
      "cell_type": "code",
      "execution_count": 2,
      "metadata": {},
      "outputs": [
        {
          "data": {
            "application/vnd.jupyter.widget-view+json": {
              "model_id": "bcfedeed5dc6464d8be502c0a9024e25",
              "version_major": 2,
              "version_minor": 0
            },
            "text/plain": [
              "IntSlider(value=0)"
            ]
          },
          "metadata": {},
          "output_type": "display_data"
        }
      ],
      "source": [
        "import ipywidgets\n",
        "w = ipywidgets.IntSlider()\n",
        "display(w)"
      ]
    }
  ],
  "metadata": {
    "kernelspec": {
      "display_name": "Python 3",
      "language": "python",
      "name": "python3"
    },
    "language_info": {
      "codemirror_mode": {
        "name": "ipython",
        "version": 3
      },
      "file_extension": ".py",
      "mimetype": "text/x-python",
      "name": "python",
      "nbconvert_exporter": "python",
      "pygments_lexer": "ipython3",
      "version": "3.7.6"
    },
    "widgets": {
      "application/vnd.jupyter.widget-state+json": {
        "state": {
          "c7e204ea2af3495b8e2a2d9689929f42": {
            "state": {
              "_view_module_version": "1.2.0",
              "_model_name": "LayoutModel",
              "grid_row": null,
              "_model_module": "@jupyter-widgets/base",
              "overflow": null,
              "max_height": null,
              "display": null,
              "grid_auto_flow": null,
              "grid_template_rows": null,
              "align_self": null,
              "grid_auto_columns": null,
              "width": null,
              "grid_area": null,
              "align_items": null,
              "_view_name": "LayoutView",
              "left": null,
              "height": null,
              "_view_module": "@jupyter-widgets/base",
              "object_position": null,
              "justify_content": null,
              "bottom": null,
              "max_width": null,
              "border": null,
              "margin": null,
              "order": null,
              "grid_column": null,
              "grid_auto_rows": null,
              "padding": null,
              "grid_template_columns": null,
              "justify_items": null,
              "object_fit": null,
              "visibility": null,
              "_view_count": null,
              "flex_flow": null,
              "min_height": null,
              "top": null,
              "min_width": null,
              "flex": null,
              "_model_module_version": "1.2.0",
              "grid_template_areas": null,
              "overflow_x": null,
              "right": null,
              "overflow_y": null,
              "grid_gap": null,
              "align_content": null
            },
            "buffer_paths": []
          },
          "b0889f9874b2493984daf3bcb29fdb67": {
            "state": {
              "_view_module_version": "1.2.0",
              "_model_name": "SliderStyleModel",
              "_model_module": "@jupyter-widgets/controls",
              "description_width": "",
              "_view_name": "StyleView",
              "_view_module": "@jupyter-widgets/base",
              "handle_color": null,
              "_view_count": null,
              "_model_module_version": "1.5.0"
            },
            "buffer_paths": []
          },
          "bcfedeed5dc6464d8be502c0a9024e25": {
            "state": {
              "_view_module_version": "1.5.0",
              "description_tooltip": null,
              "_model_name": "IntSliderModel",
              "_model_module": "@jupyter-widgets/controls",
              "max": 100,
              "_view_name": "IntSliderView",
              "_view_module": "@jupyter-widgets/controls",
              "_dom_classes": [],
              "layout": "IPY_MODEL_c7e204ea2af3495b8e2a2d9689929f42",
              "step": 1,
              "orientation": "horizontal",
              "value": 75,
              "style": "IPY_MODEL_b0889f9874b2493984daf3bcb29fdb67",
              "min": 0,
              "_view_count": null,
              "readout": true,
              "continuous_update": true,
              "_model_module_version": "1.5.0",
              "disabled": false,
              "description": "",
              "readout_format": "d"
            },
            "buffer_paths": []
          }
        }
      },
      "version_major": 2,
      "version_minor": 0
    }
  },
  "nbformat": 4,
  "nbformat_minor": 4
}