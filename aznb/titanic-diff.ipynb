/** the "before" notebook for the diff */
export const titanic = {
  cells: [
    {
      cell_type: "markdown",
      metadata: {
        id: "5baf97fa-2351-43e0-a4bf-506104abe192"
      },
      source: [
        "# Predicting Survivors of the Titanic\n",
        "\n",
        "This notebook predicts the survivors of the Titanic using [datasets from Kaggle](https://www.kaggle.com/c/titanic/data). \n",
        "The outline of what we want to do is:\n",
        "\n",
        "* Read the training dataset from a SQL table\n",
        "* Open the training dataset from Python\n",
        "* Explore the dataset to explore some of the features\n",
        "* See which features correlate well with survival\n",
        "* Engineer a new feature that will make the prediction\n",
        "* Create a simple notebook that reproducibly generates the engineered feature"
      ]
    },
    {
      cell_type: "markdown",
      metadata: {
        id: "8ce127cb-c837-4810-a384-0909b0f01a3a"
      },
      source: [
        "## Retrieve training dataset from SQL database\n",
        "\n",
        "Run the cell below to retrieve the dataset from SQL. We have connected to the database already using \n",
        "a connection string:\n",
        "\n",
        "```Server=localhost;Trusted_Connection=True```"
      ]
    },
    {
      cell_type: "code",
      execution_count: null,
      metadata: {
        SQLSpecial: true,
        id: "dac0ae4c-ca9d-4e2a-b152-1cb9a0dc27f3",
        inputHidden: false,
        outputHidden: false
      },
      outputs: [],
      source: [
        "SELECT TOP(5) PassengerId, Survived, Pclass, Name, Sex, Age, SibSp, Parch, Ticket, Fare, Cabin, Embarked\n",
        "\n"
      ]
    },
    {
      cell_type: "markdown",
      metadata: {
        id: "b4f3d7aa-b247-4a09-872a-5e58d6d32011"
      },
      source: ['Read the training dataset into a read-only shared memory region "training".']
    },
    {
      cell_type: "code",
      execution_count: null,
      metadata: {
        SQLSpecial2: true,
        id: "55899e0d-463d-4767-8ee0-f004faec60af",
        inputHidden: false,
        outputHidden: false
      },
      outputs: [
        {
          output_type: "execute_result",
          execution_count: 4,
          data: {
            "text/plain": []
          },
          metadata: {}
        }
      ],
      source: [
        "@training =\n",
        "    SELECT PassengerId, Survived, Pclass, Name, Sex, Age, SibSp, Parch, Ticket, Fare, Cabin, Embarked\n",
        "    FROM survivors\n",
        '    WHERE DataSet = "train"\n',
        "    \n",
        "OUTPUT @training \n",
        "TO @training"
      ]
    },
    {
      cell_type: "markdown",
      metadata: {
        id: "7e5683b7-5e05-4c1c-9838-3c342a7dc81e"
      },
      source: [
        "## Inspect the same data from Python\n",
        "\n",
        'Let\'s retrieve the training and testing datasets from the named read-only shared memory region "training".'
      ]
    },
    {
      cell_type: "code",
      execution_count: null,
      metadata: {
        id: "d8707cbc-40b0-4010-9e02-d4e8dab422d2",
        inputHidden: false,
        outputHidden: false
      },
      outputs: [],
      source: ['df = attach_plasma_object("training")']
    },
    {
      cell_type: "code",
      execution_count: null,
      metadata: {
        id: "a95468a6-b260-4d6b-aedf-ef7444acce86",
        inputHidden: false,
        outputHidden: false
      },
      outputs: [],
      source: ["\n", "\n", "\n"]
    },
    {
      cell_type: "code",
      execution_count: null,
      metadata: {
        id: "acb57256-a155-4153-9cb3-e8322fad54c3",
        inputHidden: false,
        outputHidden: false
      },
      outputs: [],
      source: ["\n", "\n", "\n", "\n"]
    },
    {
      cell_type: "markdown",
      metadata: {
        id: "f547532c-3d31-48d6-b4ac-8cd9f6c7cb82"
      },
      source: [
        "## Visualizing data\n",
        "\n",
        "Let's visualize some of the data to look for promising features to train on. \n",
        "We've certainly all heard the expression \"Women and children first\". Let's see if this is true!"
      ]
    },
    {
      cell_type: "code",
      execution_count: null,
      metadata: {
        id: "28e07f3b-44ca-4920-a0e8-acae73263904",
        inputHidden: false,
        outputHidden: false,
        scrolled: false
      },
      outputs: [],
      source: ['g = sns.barplot(x="Sex",y="Survived",data=df)\n', 'g = g.set_ylabel("Survival Probability")']
    },
    {
      cell_type: "markdown",
      metadata: {
        id: "a2d28d5e-a902-4163-8a11-81d4be61f62a"
      },
      source: ["We can see that females survived at rates significantly greater than males. "]
    },
    {
      cell_type: "code",
      execution_count: null,
      metadata: {
        id: "c6beb991-0882-41b9-a34d-376dde6b6802",
        inputHidden: false,
        outputHidden: false,
        scrolled: true
      },
      outputs: [],
      source: [
        "child_age = 12\n",
        "\n",
        "children = (df['Age'] < child_age).sum()\n",
        "children_survived = ((df['Age'] < child_age) & (df['Survived'] == 1)).sum()\n",
        "adults = (df['Age'] >= child_age).sum()\n",
        "adults_survived = ((df['Age'] >= child_age) & (df['Survived'] == 1)).sum()\n",
        "\n",
        "data = [['Children', children_survived/children], ['Adults', adults_survived/adults]]\n",
        "df_age = pd.DataFrame(data, columns=['Age', 'Survival'])\n",
        "\n",
        'g = sns.barplot(x="Age", y="Survival", data=df_age)\n',
        'g = g.set_ylabel("Survival Probability")'
      ]
    },
    {
      cell_type: "markdown",
      metadata: {
        id: "74ed80e0-d3e4-446c-8e81-e2fd86a1abeb"
      },
      source: ["Age looks promising, but we can see that Age has a significant number of missing values."]
    },
    {
      cell_type: "code",
      execution_count: null,
      metadata: {
        id: "105cc6ad-770a-4f04-8320-1d7b0cbf5d09",
        inputHidden: false,
        outputHidden: false
      },
      outputs: [],
      source: ["df.info()"]
    },
    {
      cell_type: "markdown",
      metadata: {
        id: "6ab5308a-90fe-42e6-8b9c-6c99ac9a894e"
      },
      source: ["I wonder if we can use the formal titles in the names to infer age?"]
    },
    {
      cell_type: "code",
      execution_count: null,
      metadata: {
        id: "3b215acc-0e6c-49b6-833d-6cdb072daa14",
        inputHidden: false,
        outputHidden: false
      },
      outputs: [],
      source: ["df['Name'].head(20)"]
    },
    {
      cell_type: "markdown",
      metadata: {
        id: "90115354-f4d5-4761-81c0-d78f6886eb5e"
      },
      source: [
        "## PROSE\n",
        "\n",
        "Looks promising! But how do we extract the titles from the names? Let's ask a friend!"
      ]
    },
    {
      cell_type: "code",
      execution_count: null,
      metadata: {
        id: "b7320468-319e-4fe9-bce6-174f53fe901d",
        inputHidden: false,
        outputHidden: false,
        prague: true
      },
      outputs: [],
      source: []
    }
  ],
  metadata: {
    kernel_info: {
      name: "python3"
    },
    kernelspec: {
      display_name: "Python 3",
      language: "python",
      name: "python3"
    },
    language_info: {
      codemirror_mode: {
        name: "ipython",
        version: 3
      },
      file_extension: ".py",
      mimetype: "text/x-python",
      name: "python",
      nbconvert_exporter: "python",
      pygments_lexer: "ipython3",
      version: "3.7.3"
    },
    nteract: {
      version: "nteract-front-end@1.0.0"
    }
  },
  nbformat: 4,
  nbformat_minor: 2
};

/** language the diff is in */
export const titanicDiffLanguage = titanic.metadata.kernelspec.language;
