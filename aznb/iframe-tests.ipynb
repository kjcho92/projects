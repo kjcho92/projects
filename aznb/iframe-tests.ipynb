{
	"cells": [
		{
			"cell_type": "code",
			"execution_count": 1,
			"metadata": {},
			"outputs": [
				{
					"output_type": "display_data",
					"data": {
						"text/plain": "IntSlider(value=0)",
						"application/vnd.jupyter.widget-view+json": {
							"version_major": 2,
							"version_minor": 0,
							"model_id": "01021ba78c894b1981cb38df27fc7365"
						}
					},
					"metadata": {}
				}
			],
			"source": [
				"import ipywidgets\n",
				"w = ipywidgets.IntSlider()\n",
				"display(w)"
			]
		}
	],
	"metadata": {
		"nteract": {
			"version": "nteract-front-end@1.0.0"
		},
		"language_info": {
			"name": "python",
			"version": "3.7.6-final",
			"mimetype": "text/x-python",
			"codemirror_mode": {
				"name": "ipython",
				"version": 3
			},
			"pygments_lexer": "ipython3",
			"nbconvert_exporter": "python",
			"file_extension": ".py"
		},
		"kernelspec": {
			"name": "python3",
			"display_name": "Python 3",
			"language": "python"
		},
		"kernel_info": {
			"name": ""
		}
	},
	"nbformat": 4,
	"nbformat_minor": 0
}