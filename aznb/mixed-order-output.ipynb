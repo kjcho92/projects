{
  "cells": [
    {
      "cell_type": "code",
      "source": [
        "print(\"stream: cell 1\")\r\n"
      ],
      "outputs": [
        {
          "output_type": "stream",
          "name": "stdout",
          "text": "cell 1\n"
        }
      ],
      "execution_count": 1,
      "metadata": {
        "trusted": true,
        "gather": {
          "logged": 1644538914172
        }
      }
    },
    {
      "cell_type": "code",
      "source": [
        "%%html\r\n",
        "display_data: <H1>cell 2</H1>"
      ],
      "outputs": [
        {
          "output_type": "display_data",
          "data": {
            "text/plain": "<IPython.core.display.HTML object>",
            "text/html": "<H1>cell 2</H1>\n"
          },
          "metadata": {}
        }
      ],
      "execution_count": 2,
      "metadata": {
        "trusted": true
      }
    },
    {
      "cell_type": "code",
      "source": [
        "%%markdown\r\n",
        "display_data: <H1>cell 3</H1>"
      ],
      "outputs": [
        {
          "output_type": "display_data",
          "data": {
            "text/plain": "<IPython.core.display.Markdown object>",
            "text/markdown": "<H1>cell 3</H1>\n"
          },
          "metadata": {}
        }
      ],
      "execution_count": 3,
      "metadata": {
        "trusted": true
      }
    },
    {
      "cell_type": "code",
      "source": [
        "print(\"stream: cell 4\")\r\n"
      ],
      "outputs": [
        {
          "output_type": "stream",
          "name": "stdout",
          "text": "cell 4\n"
        }
      ],
      "execution_count": 4,
      "metadata": {
        "trusted": true,
        "gather": {
          "logged": 1644538917743
        }
      }
    },
    {
      "cell_type": "code",
      "source": [
        "# %run test1\r\n"
      ],
      "outputs": [
        {
          "output_type": "stream",
          "name": "stdout",
          "text": "cell 1\ncell 4\n"
        },
        {
          "output_type": "display_data",
          "data": {
            "text/plain": "<IPython.core.display.HTML object>",
            "text/html": "<H1>cell 2</H1>"
          },
          "metadata": {}
        },
        {
          "output_type": "display_data",
          "data": {
            "text/plain": "<IPython.core.display.Markdown object>",
            "text/markdown": "<H1>cell 3</H1>"
          },
          "metadata": {}
        }
      ],
      "execution_count": 9,
      "metadata": {
        "jupyter": {
          "source_hidden": false,
          "outputs_hidden": false
        },
        "nteract": {
          "transient": {
            "deleting": false
          }
        }
      }
    }
  ],
  "metadata": {
    "kernelspec": {
      "name": "python3",
      "language": "python",
      "display_name": "Python 3"
    },
    "language_info": {
      "name": "python",
      "version": "3.7.6",
      "mimetype": "text/x-python",
      "codemirror_mode": {
        "name": "ipython",
        "version": 3
      },
      "pygments_lexer": "ipython3",
      "nbconvert_exporter": "python",
      "file_extension": ".py"
    },
    "nteract": {
      "version": "nteract-front-end@1.0.0"
    },
    "kernel_info": {
      "name": "python3"
    }
  },
  "nbformat": 4,
  "nbformat_minor": 1
}
