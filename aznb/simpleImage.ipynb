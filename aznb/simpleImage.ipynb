{
	"cells": [
		{
			"cell_type": "code",
			"source": [
				"from IPython.display import Image\n",
				"url = 'http://upload.wikimedia.org/wikipedia/commons/5/56/Kosaciec_szczecinkowaty_Iris_setosa.jpg'\n",
				"Image(url,width=300, height=300)"
			],
			"outputs": [
			],
			"execution_count": 4,
			"metadata": {
				"collapsed": false,
				"outputHidden": false,
				"inputHidden": false
			}
		}
	],
	"metadata": {
		"nteract": {
			"version": "nteract-front-end@1.0.0"
		},
		"language_info": {
			"name": "python",
			"version": "3.7.6-final",
			"mimetype": "text/x-python",
			"codemirror_mode": {
				"name": "ipython",
				"version": 3
			},
			"pygments_lexer": "ipython3",
			"nbconvert_exporter": "python",
			"file_extension": ".py"
		},
		"kernelspec": {
			"name": "python3",
			"display_name": "Python 3"
		},
		"kernel_info": {
			"name": ""
		}
	},
	"nbformat": 4,
	"nbformat_minor": 0
}
