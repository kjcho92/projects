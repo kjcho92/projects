{
	"cells": [
		{
			"cell_type": "code",
			"execution_count": null,
			"metadata": {},
			"outputs": [],
			"source": [
				"%%html\n",
				"hi"
			]
		},
		{
			"cell_type": "code",
			"execution_count": null,
			"metadata": {},
			"outputs": [],
			"source": [
				"from bokeh.plotting import figure \n",
				"from bokeh.io import output_notebook, show\n",
				"from bokeh.sampledata.autompg import autompg\n",
				"from bokeh.models import ColumnDataSource\n",
				"from bokeh.layouts import gridplot\n",
				"\n",
				"output_notebook()\n",
				"\n",
				"source = ColumnDataSource(autompg)\n",
				"\n",
				"options = dict(plot_width=200, plot_height=200,\n",
				"               tools=\"pan,wheel_zoom,box_zoom,box_select,lasso_select\")\n",
				"\n",
				"p1 = figure(title=\"MPG by Year\", **options)\n",
				"p1.circle(\"yr\", \"mpg\", color=\"blue\", source=source)\n",
				"\n",
				"p2 = figure(title=\"MPG vs. Displacement\", **options)\n",
				"p2.circle(\"mpg\", \"displ\", size=\"cyl\", line_color=\"red\", fill_color=None, source=source)\n",
				"\n",
				"p = gridplot([[ p1, p2]], toolbar_location=\"right\")\n",
				"\n",
				"show(p)"
			]
		},
		{
			"cell_type": "code",
			"source": [
				"from IPython.display import Image\n",
				"url = 'http://upload.wikimedia.org/wikipedia/commons/5/56/Kosaciec_szczecinkowaty_Iris_setosa.jpg'\n",
				"Image(url,width=300, height=300)"
			],
			"outputs": [],
			"execution_count": null,
			"metadata": {
				"collapsed": false,
				"outputHidden": false,
				"inputHidden": false
			}
		},
		{
			"cell_type": "code",
			"execution_count": null,
			"metadata": {},
			"outputs": [],
			"source": [
				"%%svg\n",
				"<svg viewBox=\"-10 -10 120 120\" width=\"100\" xmlns=\"http://www.w3.org/2000/svg\">\n",
				"  <ellipse fill-rule=\"evenodd\" cx=\"50\" cy=\"50\" rx=\"50\" ry=\"50\" style=\"stroke: green; stroke-width: 5; fill: none\"/>\n",
				"  <path d=\"M30,45 l20,20 l50,-50\" style=\"stroke: blue; stroke-width: 10; fill: none\"/>\n",
				"</svg>"
			]
		},
		{
			"cell_type": "code",
			"execution_count": null,
			"metadata": {},
			"outputs": [],
			"source": [
				"from IPython.display import display\n",
				"def display_image(url, title):\n",
				"    display(\n",
				"        {\n",
				"            'application/custom+image': {\n",
				"               'title':title,\n",
				"                'url': url\n",
				"            }\n",
				"        },\n",
				"        raw=True\n",
				"    )\n",
				"\n",
				"display_image(\"https://homepages.cae.wisc.edu/~ece533/images/cat.png\", \"awesome Cat\")"
			]
		}
	],
	"metadata": {
		"nteract": {
			"version": "nteract-front-end@1.0.0"
		},
		"language_info": {
			"name": "python",
			"version": "3.7.6-final",
			"mimetype": "text/x-python",
			"codemirror_mode": {
				"name": "ipython",
				"version": 3
			},
			"pygments_lexer": "ipython3",
			"nbconvert_exporter": "python",
			"file_extension": ".py"
		},
		"kernelspec": {
			"name": "python3",
			"display_name": "Python 3"
		},
		"kernel_info": {
			"name": ""
		}
	},
	"nbformat": 4,
	"nbformat_minor": 0
}
