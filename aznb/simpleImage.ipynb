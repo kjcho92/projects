{
	"cells": [
		{
			"cell_type": "code",
			"source": [
				"from IPython.display import Image\n",
				"url = 'http://upload.wikimedia.org/wikipedia/commons/5/56/Kosaciec_szczecinkowaty_Iris_setosa.jpg'\n",
				"Image(url,width=300, height=300)"
			],
			"outputs": [
			],
			"execution_count": 4,
			"metadata": {
				"collapsed": false,
				"outputHidden": false,
				"inputHidden": false
			}
		},
		{
			"cell_type": "code",
			"source": [
				"%%svg"
				"<svg viewBox="-10 -10 120 120" width="100" xmlns="http://www.w3.org/2000/svg">"
  				"<ellipse fill-rule="evenodd" cx="50" cy="50" rx="50" ry="50" style="stroke: green; stroke-width: 5; fill: none"/>"
  				"<path d="M30,45 l20,20 l50,-50" style="stroke: blue; stroke-width: 10; fill: none"/>"
				"</svg>"
			],
			"outputs": [
			],
			"execution_count": 4,
			"metadata": {
				"collapsed": false,
				"outputHidden": false,
				"inputHidden": false
			}
		}
	],
	"metadata": {
		"nteract": {
			"version": "nteract-front-end@1.0.0"
		},
		"language_info": {
			"name": "python",
			"version": "3.7.6-final",
			"mimetype": "text/x-python",
			"codemirror_mode": {
				"name": "ipython",
				"version": 3
			},
			"pygments_lexer": "ipython3",
			"nbconvert_exporter": "python",
			"file_extension": ".py"
		},
		"kernelspec": {
			"name": "python3",
			"display_name": "Python 3"
		},
		"kernel_info": {
			"name": ""
		}
	},
	"nbformat": 4,
	"nbformat_minor": 0
}
