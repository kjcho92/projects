{
  "cells": [
    {
      "cell_type": "markdown",
      "source": [
        "[Index](Index.ipynb) - [Back](Widget Basics.ipynb) - [Next](Output Widget.ipynb)"
      ],
      "metadata": {
        "nbsphinx": "hidden"
      }
    },
    {
      "cell_type": "markdown",
      "source": [
        "# Widget List"
      ],
      "metadata": {}
    },
    {
      "cell_type": "code",
      "source": [
        "import ipywidgets as widgets"
      ],
      "outputs": [],
      "execution_count": 56,
      "metadata": {
        "gather": {
          "logged": 1654279228970
        }
      }
    },
    {
      "cell_type": "markdown",
      "source": [
        "## Numeric widgets"
      ],
      "metadata": {
        "slideshow": {
          "slide_type": "slide"
        }
      }
    },
    {
      "cell_type": "markdown",
      "source": [
        "There are many widgets distributed with ipywidgets that are designed to display numeric values.  Widgets exist for displaying integers and floats, both bounded and unbounded.  The integer widgets share a similar naming scheme to their floating point counterparts.  By replacing `Float` with `Int` in the widget name, you can find the Integer equivalent."
      ],
      "metadata": {}
    },
    {
      "cell_type": "markdown",
      "source": [
        "### IntSlider  \n",
        "- The slider is displayed with a specified, initial `value`. Lower and upper bounds are defined by `min` and `max`, and the value can be incremented according to the `step` parameter.\n",
        "- The slider's label is defined by `description` parameter \n",
        "- The slider's `orientation` is either 'horizontal' (default) or 'vertical'\n",
        "- `readout`  displays the current value of the slider next to it. The options are **True** (default) or **False** \n",
        "    - `readout_format` specifies the format function used to represent slider value. The default is '.2f'\n",
        "  "
      ],
      "metadata": {}
    },
    {
      "cell_type": "code",
      "source": [
        "widgets.IntSlider(\n",
        "    value=7,\n",
        "    min=0,\n",
        "    max=10,\n",
        "    step=1,\n",
        "    description='Test:',\n",
        "    disabled=False,\n",
        "    continuous_update=False,\n",
        "    orientation='horizontal',\n",
        "    readout=True,\n",
        "    readout_format='d'\n",
        ")"
      ],
      "outputs": [
        {
          "output_type": "display_data",
          "data": {
            "text/plain": "IntSlider(value=7, continuous_update=False, description='Test:', max=10)",
            "application/vnd.jupyter.widget-view+json": {
              "version_major": 2,
              "version_minor": 0,
              "model_id": "c11af20cf8a94d4aaa6eddabdecf6501"
            }
          },
          "metadata": {}
        }
      ],
      "execution_count": 57,
      "metadata": {
        "gather": {
          "logged": 1654279232044
        },
        "jupyter": {
          "outputs_hidden": false
        }
      }
    },
    {
      "cell_type": "markdown",
      "source": [
        "### FloatSlider  "
      ],
      "metadata": {
        "slideshow": {
          "slide_type": "slide"
        }
      }
    },
    {
      "cell_type": "code",
      "source": [
        "widgets.FloatSlider(\n",
        "    value=7.5,\n",
        "    min=0,\n",
        "    max=10.0,\n",
        "    step=0.1,\n",
        "    description='Test:',\n",
        "    disabled=False,\n",
        "    continuous_update=False,\n",
        "    orientation='horizontal',\n",
        "    readout=True,\n",
        "    readout_format='.1f',\n",
        ")"
      ],
      "outputs": [
        {
          "output_type": "display_data",
          "data": {
            "text/plain": "FloatSlider(value=7.5, continuous_update=False, description='Test:', max=10.0, readout_format='.1f')",
            "application/vnd.jupyter.widget-view+json": {
              "version_major": 2,
              "version_minor": 0,
              "model_id": "61065ee6e3ea4a1b84b1473b24dad639"
            }
          },
          "metadata": {}
        }
      ],
      "execution_count": 58,
      "metadata": {
        "gather": {
          "logged": 1654279234304
        }
      }
    },
    {
      "cell_type": "markdown",
      "source": [
        "An example of sliders **displayed vertically**."
      ],
      "metadata": {}
    },
    {
      "cell_type": "code",
      "source": [
        "widgets.FloatSlider(\n",
        "    value=7.5,\n",
        "    min=0,\n",
        "    max=10.0,\n",
        "    step=0.1,\n",
        "    description='Test:',\n",
        "    disabled=False,\n",
        "    continuous_update=False,\n",
        "    orientation='vertical',\n",
        "    readout=True,\n",
        "    readout_format='.1f',\n",
        ")"
      ],
      "outputs": [
        {
          "output_type": "display_data",
          "data": {
            "text/plain": "FloatSlider(value=7.5, continuous_update=False, description='Test:', max=10.0, orientation='vertical', readout…",
            "application/vnd.jupyter.widget-view+json": {
              "version_major": 2,
              "version_minor": 0,
              "model_id": "4f2590a0b7ea4c9dbc7aa232e3f303e4"
            }
          },
          "metadata": {}
        }
      ],
      "execution_count": 59,
      "metadata": {
        "gather": {
          "logged": 1654279236495
        }
      }
    },
    {
      "cell_type": "markdown",
      "source": [
        "### FloatLogSlider"
      ],
      "metadata": {}
    },
    {
      "cell_type": "markdown",
      "source": [
        "The `FloatLogSlider` has a log scale, which makes it easy to have a slider that covers a wide range of positive magnitudes. The `min` and `max` refer to the minimum and maximum exponents of the `base`, and the `value` refers to the actual value of the slider."
      ],
      "metadata": {}
    },
    {
      "cell_type": "code",
      "source": [
        "widgets.FloatLogSlider(\n",
        "    value=10,\n",
        "    base=10,\n",
        "    min=-10, # max exponent of base\n",
        "    max=10, # min exponent of base\n",
        "    step=0.2, # exponent step\n",
        "    description='Log Slider'\n",
        ")"
      ],
      "outputs": [
        {
          "output_type": "display_data",
          "data": {
            "text/plain": "FloatLogSlider(value=10.0, description='Log Slider', max=10.0, min=-10.0, step=0.2)",
            "application/vnd.jupyter.widget-view+json": {
              "version_major": 2,
              "version_minor": 0,
              "model_id": "5fe3e8fde4904d2fa0c2146317dbb76d"
            }
          },
          "metadata": {}
        }
      ],
      "execution_count": 60,
      "metadata": {
        "gather": {
          "logged": 1654279238355
        }
      }
    },
    {
      "cell_type": "markdown",
      "source": [
        "### IntRangeSlider"
      ],
      "metadata": {}
    },
    {
      "cell_type": "code",
      "source": [
        "widgets.IntRangeSlider(\n",
        "    value=[5, 7],\n",
        "    min=0,\n",
        "    max=10,\n",
        "    step=1,\n",
        "    description='Test:',\n",
        "    disabled=False,\n",
        "    continuous_update=False,\n",
        "    orientation='horizontal',\n",
        "    readout=True,\n",
        "    readout_format='d',\n",
        ")"
      ],
      "outputs": [
        {
          "output_type": "display_data",
          "data": {
            "text/plain": "IntRangeSlider(value=(5, 7), continuous_update=False, description='Test:', max=10)",
            "application/vnd.jupyter.widget-view+json": {
              "version_major": 2,
              "version_minor": 0,
              "model_id": "f19d98128e084d9fb8acbcbdd15ab1f0"
            }
          },
          "metadata": {}
        }
      ],
      "execution_count": 61,
      "metadata": {
        "gather": {
          "logged": 1654279240201
        }
      }
    },
    {
      "cell_type": "markdown",
      "source": [
        "### FloatRangeSlider"
      ],
      "metadata": {}
    },
    {
      "cell_type": "code",
      "source": [
        "widgets.FloatRangeSlider(\n",
        "    value=[5, 7.5],\n",
        "    min=0,\n",
        "    max=10.0,\n",
        "    step=0.1,\n",
        "    description='Test:',\n",
        "    disabled=False,\n",
        "    continuous_update=False,\n",
        "    orientation='horizontal',\n",
        "    readout=True,\n",
        "    readout_format='.1f',\n",
        ")"
      ],
      "outputs": [
        {
          "output_type": "display_data",
          "data": {
            "text/plain": "FloatRangeSlider(value=(5.0, 7.5), continuous_update=False, description='Test:', max=10.0, readout_format='.1f…",
            "application/vnd.jupyter.widget-view+json": {
              "version_major": 2,
              "version_minor": 0,
              "model_id": "e59b3cf217e04a3b9afc4bb531207550"
            }
          },
          "metadata": {}
        }
      ],
      "execution_count": 62,
      "metadata": {
        "gather": {
          "logged": 1654279242048
        }
      }
    },
    {
      "cell_type": "markdown",
      "source": [
        "### IntProgress"
      ],
      "metadata": {}
    },
    {
      "cell_type": "code",
      "source": [
        "widgets.IntProgress(\n",
        "    value=7,\n",
        "    min=0,\n",
        "    max=10,\n",
        "    description='Loading:',\n",
        "    bar_style='', # 'success', 'info', 'warning', 'danger' or ''\n",
        "    style={'bar_color': 'maroon'},\n",
        "    orientation='horizontal'\n",
        ")"
      ],
      "outputs": [
        {
          "output_type": "display_data",
          "data": {
            "text/plain": "IntProgress(value=7, description='Loading:', max=10, style=ProgressStyle(bar_color='maroon'))",
            "application/vnd.jupyter.widget-view+json": {
              "version_major": 2,
              "version_minor": 0,
              "model_id": "a1eb383789ca4faf826858ffa7cd3141"
            }
          },
          "metadata": {}
        }
      ],
      "execution_count": 63,
      "metadata": {
        "gather": {
          "logged": 1654279244747
        }
      }
    },
    {
      "cell_type": "markdown",
      "source": [
        "### FloatProgress"
      ],
      "metadata": {
        "slideshow": {
          "slide_type": "slide"
        }
      }
    },
    {
      "cell_type": "code",
      "source": [
        "widgets.FloatProgress(\n",
        "    value=7.5,\n",
        "    min=0,\n",
        "    max=10.0,\n",
        "    description='Loading:',\n",
        "    bar_style='info',\n",
        "    style={'bar_color': '#ffff00'},\n",
        "    orientation='horizontal'\n",
        ")"
      ],
      "outputs": [
        {
          "output_type": "display_data",
          "data": {
            "text/plain": "FloatProgress(value=7.5, bar_style='info', description='Loading:', max=10.0, style=ProgressStyle(bar_color='#f…",
            "application/vnd.jupyter.widget-view+json": {
              "version_major": 2,
              "version_minor": 0,
              "model_id": "0506c4da101e4858a2ab708b930be30c"
            }
          },
          "metadata": {}
        }
      ],
      "execution_count": 64,
      "metadata": {
        "gather": {
          "logged": 1654279246644
        }
      }
    },
    {
      "cell_type": "markdown",
      "source": [
        "The numerical text boxes that impose some limit on the data (range, integer-only) impose that restriction when the user presses enter.\n",
        "\n",
        "### BoundedIntText"
      ],
      "metadata": {}
    },
    {
      "cell_type": "code",
      "source": [
        "widgets.BoundedIntText(\n",
        "    value=7,\n",
        "    min=0,\n",
        "    max=10,\n",
        "    step=1,\n",
        "    description='Text:',\n",
        "    disabled=False\n",
        ")"
      ],
      "outputs": [
        {
          "output_type": "display_data",
          "data": {
            "text/plain": "BoundedIntText(value=7, description='Text:', max=10)",
            "application/vnd.jupyter.widget-view+json": {
              "version_major": 2,
              "version_minor": 0,
              "model_id": "64b1493cf91043a2b5e94c5eccb07ae1"
            }
          },
          "metadata": {}
        }
      ],
      "execution_count": 65,
      "metadata": {
        "gather": {
          "logged": 1654279248746
        }
      }
    },
    {
      "cell_type": "markdown",
      "source": [
        "### BoundedFloatText"
      ],
      "metadata": {
        "slideshow": {
          "slide_type": "slide"
        }
      }
    },
    {
      "cell_type": "code",
      "source": [
        "widgets.BoundedFloatText(\n",
        "    value=7.5,\n",
        "    min=0,\n",
        "    max=10.0,\n",
        "    step=0.1,\n",
        "    description='Text:',\n",
        "    disabled=False\n",
        ")"
      ],
      "outputs": [
        {
          "output_type": "display_data",
          "data": {
            "text/plain": "BoundedFloatText(value=7.5, description='Text:', max=10.0, step=0.1)",
            "application/vnd.jupyter.widget-view+json": {
              "version_major": 2,
              "version_minor": 0,
              "model_id": "22252e7fe12043d6bdf86a9f08540272"
            }
          },
          "metadata": {}
        }
      ],
      "execution_count": 66,
      "metadata": {
        "gather": {
          "logged": 1654279251061
        }
      }
    },
    {
      "cell_type": "markdown",
      "source": [
        "### IntText"
      ],
      "metadata": {}
    },
    {
      "cell_type": "code",
      "source": [
        "widgets.IntText(\n",
        "    value=7,\n",
        "    description='Any:',\n",
        "    disabled=False\n",
        ")"
      ],
      "outputs": [
        {
          "output_type": "display_data",
          "data": {
            "text/plain": "IntText(value=7, description='Any:')",
            "application/vnd.jupyter.widget-view+json": {
              "version_major": 2,
              "version_minor": 0,
              "model_id": "1b2a204cfffa4bafa15f4f914c426dd7"
            }
          },
          "metadata": {}
        }
      ],
      "execution_count": 67,
      "metadata": {
        "gather": {
          "logged": 1654279253621
        }
      }
    },
    {
      "cell_type": "markdown",
      "source": [
        "### FloatText"
      ],
      "metadata": {
        "slideshow": {
          "slide_type": "slide"
        }
      }
    },
    {
      "cell_type": "code",
      "source": [
        "widgets.FloatText(\n",
        "    value=7.5,\n",
        "    description='Any:',\n",
        "    disabled=False\n",
        ")"
      ],
      "outputs": [
        {
          "output_type": "display_data",
          "data": {
            "text/plain": "FloatText(value=7.5, description='Any:')",
            "application/vnd.jupyter.widget-view+json": {
              "version_major": 2,
              "version_minor": 0,
              "model_id": "23503b037acf4814b9813d3aade9187c"
            }
          },
          "metadata": {}
        }
      ],
      "execution_count": 69,
      "metadata": {
        "gather": {
          "logged": 1654279256805
        }
      }
    },
    {
      "cell_type": "markdown",
      "source": [
        "## Boolean widgets"
      ],
      "metadata": {
        "slideshow": {
          "slide_type": "slide"
        }
      }
    },
    {
      "cell_type": "markdown",
      "source": [
        "There are three widgets that are designed to display a boolean value."
      ],
      "metadata": {}
    },
    {
      "cell_type": "markdown",
      "source": [
        "### ToggleButton"
      ],
      "metadata": {}
    },
    {
      "cell_type": "code",
      "source": [
        "widgets.ToggleButton(\n",
        "    value=False,\n",
        "    description='Click me',\n",
        "    disabled=False,\n",
        "    button_style='', # 'success', 'info', 'warning', 'danger' or ''\n",
        "    tooltip='Description',\n",
        "    icon='check' # (FontAwesome names without the `fa-` prefix)\n",
        ")"
      ],
      "outputs": [
        {
          "output_type": "display_data",
          "data": {
            "text/plain": "ToggleButton(value=False, description='Click me', icon='check', tooltip='Description')",
            "application/vnd.jupyter.widget-view+json": {
              "version_major": 2,
              "version_minor": 0,
              "model_id": "4cd9fce92fa34f1c88f7be7dc3b91525"
            }
          },
          "metadata": {}
        }
      ],
      "execution_count": 70,
      "metadata": {
        "gather": {
          "logged": 1654279258692
        }
      }
    },
    {
      "cell_type": "markdown",
      "source": [
        "### Checkbox  \n",
        "- `value` specifies the value of the checkbox\n",
        "- `indent` parameter places an indented checkbox, aligned with other controls. Options are **True** (default) or **False**    \n"
      ],
      "metadata": {
        "slideshow": {
          "slide_type": "slide"
        }
      }
    },
    {
      "cell_type": "code",
      "source": [
        "widgets.Checkbox(\n",
        "    value=False,\n",
        "    description='Check me',\n",
        "    disabled=False,\n",
        "    indent=False\n",
        ")"
      ],
      "outputs": [
        {
          "output_type": "display_data",
          "data": {
            "text/plain": "Checkbox(value=False, description='Check me', indent=False)",
            "application/vnd.jupyter.widget-view+json": {
              "version_major": 2,
              "version_minor": 0,
              "model_id": "ce78f9f17eab41e7bd6200281f2d293d"
            }
          },
          "metadata": {}
        }
      ],
      "execution_count": 71,
      "metadata": {
        "gather": {
          "logged": 1654279260888
        }
      }
    },
    {
      "cell_type": "markdown",
      "source": [
        "### Valid\n",
        "\n",
        "The valid widget provides a read-only indicator."
      ],
      "metadata": {}
    },
    {
      "cell_type": "code",
      "source": [
        "widgets.Valid(\n",
        "    value=False,\n",
        "    description='Valid!',\n",
        ")"
      ],
      "outputs": [
        {
          "output_type": "display_data",
          "data": {
            "text/plain": "Valid(value=False, description='Valid!')",
            "application/vnd.jupyter.widget-view+json": {
              "version_major": 2,
              "version_minor": 0,
              "model_id": "6754150a3c4747d4a6d2b9650a96f4f2"
            }
          },
          "metadata": {}
        }
      ],
      "execution_count": 72,
      "metadata": {
        "gather": {
          "logged": 1654279263198
        }
      }
    },
    {
      "cell_type": "markdown",
      "source": [
        "## Selection widgets"
      ],
      "metadata": {
        "slideshow": {
          "slide_type": "slide"
        }
      }
    },
    {
      "cell_type": "markdown",
      "source": [
        "There are several widgets that can be used to display single selection lists, and two that can be used to select multiple values.  All inherit from the same base class.  You can specify the **enumeration of selectable options by passing a list** (options are either (label, value) pairs, or simply values for which the labels are derived by calling `str`).\n",
        "\n",
        "<div class=\"alert alert-info\">\n",
        "Changes in *ipywidgets 8*:\n",
        "    \n",
        "Selection widgets no longer accept a dictionary of options. Pass a list of key-value pairs instead.\n",
        "</div>"
      ],
      "metadata": {}
    },
    {
      "cell_type": "markdown",
      "source": [
        "### Dropdown"
      ],
      "metadata": {
        "slideshow": {
          "slide_type": "slide"
        }
      }
    },
    {
      "cell_type": "code",
      "source": [
        "widgets.Dropdown(\n",
        "    options=['1', '2', '3'],\n",
        "    value='2',\n",
        "    description='Number:',\n",
        "    disabled=False,\n",
        ")"
      ],
      "outputs": [
        {
          "output_type": "display_data",
          "data": {
            "text/plain": "Dropdown(description='Number:', index=1, options=('1', '2', '3'), value='2')",
            "application/vnd.jupyter.widget-view+json": {
              "version_major": 2,
              "version_minor": 0,
              "model_id": "6a09de83ad2c4536a2d599094efc694d"
            }
          },
          "metadata": {}
        }
      ],
      "execution_count": 74,
      "metadata": {
        "gather": {
          "logged": 1654279266011
        }
      }
    },
    {
      "cell_type": "markdown",
      "source": [
        "The following is also valid, displaying the words `'One', 'Two', 'Three'` as the dropdown choices but returning the values `1, 2, 3`."
      ],
      "metadata": {}
    },
    {
      "cell_type": "code",
      "source": [
        "widgets.Dropdown(\n",
        "    options=[('One', 1), ('Two', 2), ('Three', 3)],\n",
        "    value=2,\n",
        "    description='Number:',\n",
        ")"
      ],
      "outputs": [
        {
          "output_type": "display_data",
          "data": {
            "text/plain": "Dropdown(description='Number:', index=1, options=(('One', 1), ('Two', 2), ('Three', 3)), value=2)",
            "application/vnd.jupyter.widget-view+json": {
              "version_major": 2,
              "version_minor": 0,
              "model_id": "c8d8ce3874994f62839b0e545b866890"
            }
          },
          "metadata": {}
        }
      ],
      "execution_count": 75,
      "metadata": {
        "gather": {
          "logged": 1654279268510
        }
      }
    },
    {
      "cell_type": "markdown",
      "source": [
        "### RadioButtons"
      ],
      "metadata": {
        "slideshow": {
          "slide_type": "slide"
        }
      }
    },
    {
      "cell_type": "code",
      "source": [
        "widgets.RadioButtons(\n",
        "    options=['pepperoni', 'pineapple', 'anchovies'],\n",
        "#    value='pineapple', # Defaults to 'pineapple'\n",
        "#    layout={'width': 'max-content'}, # If the items' names are long\n",
        "    description='Pizza topping:',\n",
        "    disabled=False\n",
        ")"
      ],
      "outputs": [
        {
          "output_type": "display_data",
          "data": {
            "text/plain": "RadioButtons(description='Pizza topping:', options=('pepperoni', 'pineapple', 'anchovies'), value='pepperoni')",
            "application/vnd.jupyter.widget-view+json": {
              "version_major": 2,
              "version_minor": 0,
              "model_id": "4952cf588bd64d129e77f51ea04ae778"
            }
          },
          "metadata": {}
        }
      ],
      "execution_count": 76,
      "metadata": {
        "gather": {
          "logged": 1654279271372
        }
      }
    },
    {
      "cell_type": "markdown",
      "source": [
        "#### With dynamic layout and very long labels"
      ],
      "metadata": {}
    },
    {
      "cell_type": "code",
      "source": [
        "widgets.Box(\n",
        "    [\n",
        "        widgets.Label(value='Pizza topping with a very long label:'), \n",
        "        widgets.RadioButtons(\n",
        "            options=[\n",
        "                'pepperoni', \n",
        "                'pineapple', \n",
        "                'anchovies', \n",
        "                'and the long name that will fit fine and the long name that will fit fine and the long name that will fit fine '\n",
        "            ],\n",
        "            layout={'width': 'max-content'}\n",
        "        )\n",
        "    ]\n",
        ")"
      ],
      "outputs": [
        {
          "output_type": "display_data",
          "data": {
            "text/plain": "Box(children=(Label(value='Pizza topping with a very long label:'), RadioButtons(layout=Layout(width='max-cont…",
            "application/vnd.jupyter.widget-view+json": {
              "version_major": 2,
              "version_minor": 0,
              "model_id": "21e85172ea244455a78b64d67781286f"
            }
          },
          "metadata": {}
        }
      ],
      "execution_count": 77,
      "metadata": {
        "gather": {
          "logged": 1654279275070
        }
      }
    },
    {
      "cell_type": "markdown",
      "source": [
        "### Select"
      ],
      "metadata": {
        "slideshow": {
          "slide_type": "slide"
        }
      }
    },
    {
      "cell_type": "code",
      "source": [
        "widgets.Select(\n",
        "    options=['Linux', 'Windows', 'macOS'],\n",
        "    value='macOS',\n",
        "    # rows=10,\n",
        "    description='OS:',\n",
        "    disabled=False\n",
        ")"
      ],
      "outputs": [
        {
          "output_type": "display_data",
          "data": {
            "text/plain": "Select(description='OS:', index=2, options=('Linux', 'Windows', 'macOS'), value='macOS')",
            "application/vnd.jupyter.widget-view+json": {
              "version_major": 2,
              "version_minor": 0,
              "model_id": "478acafe27ac423cbbb3db21b71975f7"
            }
          },
          "metadata": {}
        }
      ],
      "execution_count": 78,
      "metadata": {
        "gather": {
          "logged": 1654279278281
        }
      }
    },
    {
      "cell_type": "markdown",
      "source": [
        "### SelectionSlider"
      ],
      "metadata": {}
    },
    {
      "cell_type": "code",
      "source": [
        "widgets.SelectionSlider(\n",
        "    options=['scrambled', 'sunny side up', 'poached', 'over easy'],\n",
        "    value='sunny side up',\n",
        "    description='I like my eggs ...',\n",
        "    disabled=False,\n",
        "    continuous_update=False,\n",
        "    orientation='horizontal',\n",
        "    readout=True\n",
        ")"
      ],
      "outputs": [
        {
          "output_type": "display_data",
          "data": {
            "text/plain": "SelectionSlider(continuous_update=False, description='I like my eggs ...', index=1, options=('scrambled', 'sun…",
            "application/vnd.jupyter.widget-view+json": {
              "version_major": 2,
              "version_minor": 0,
              "model_id": "697918b0c85f4cd88f70ee8fce07ff0e"
            }
          },
          "metadata": {}
        }
      ],
      "execution_count": 79,
      "metadata": {
        "gather": {
          "logged": 1654279281581
        }
      }
    },
    {
      "cell_type": "markdown",
      "source": [
        "### SelectionRangeSlider\n",
        "\n",
        "The value, index, and label keys are 2-tuples of the min and max values selected. The options must be nonempty."
      ],
      "metadata": {}
    },
    {
      "cell_type": "code",
      "source": [
        "import datetime\n",
        "dates = [datetime.date(2015, i, 1) for i in range(1, 13)]\n",
        "options = [(i.strftime('%b'), i) for i in dates]\n",
        "widgets.SelectionRangeSlider(\n",
        "    options=options,\n",
        "    index=(0, 11),\n",
        "    description='Months (2015)',\n",
        "    disabled=False\n",
        ")"
      ],
      "outputs": [
        {
          "output_type": "display_data",
          "data": {
            "text/plain": "SelectionRangeSlider(description='Months (2015)', index=(0, 11), options=(('Jan', datetime.date(2015, 1, 1)), …",
            "application/vnd.jupyter.widget-view+json": {
              "version_major": 2,
              "version_minor": 0,
              "model_id": "0bf1e007b5124eacafba0af081a64672"
            }
          },
          "metadata": {}
        }
      ],
      "execution_count": 80,
      "metadata": {
        "gather": {
          "logged": 1654279284961
        }
      }
    },
    {
      "cell_type": "markdown",
      "source": [
        "### ToggleButtons"
      ],
      "metadata": {
        "slideshow": {
          "slide_type": "slide"
        }
      }
    },
    {
      "cell_type": "code",
      "source": [
        "widgets.ToggleButtons(\n",
        "    options=['Slow', 'Regular', 'Fast'],\n",
        "    description='Speed:',\n",
        "    disabled=False,\n",
        "    button_style='', # 'success', 'info', 'warning', 'danger' or ''\n",
        "    tooltips=['Description of slow', 'Description of regular', 'Description of fast'],\n",
        "#     icons=['check'] * 3\n",
        ")"
      ],
      "outputs": [
        {
          "output_type": "display_data",
          "data": {
            "text/plain": "ToggleButtons(description='Speed:', options=('Slow', 'Regular', 'Fast'), tooltips=('Description of slow', 'Des…",
            "application/vnd.jupyter.widget-view+json": {
              "version_major": 2,
              "version_minor": 0,
              "model_id": "a7466467535648ca8790767b2eea4383"
            }
          },
          "metadata": {}
        }
      ],
      "execution_count": 81,
      "metadata": {
        "gather": {
          "logged": 1654279288209
        }
      }
    },
    {
      "cell_type": "markdown",
      "source": [
        "### SelectMultiple\n",
        "Multiple values can be selected with <kbd>shift</kbd> and/or <kbd>ctrl</kbd> (or <kbd>command</kbd>) pressed and mouse clicks or arrow keys."
      ],
      "metadata": {}
    },
    {
      "cell_type": "code",
      "source": [
        "widgets.SelectMultiple(\n",
        "    options=['Apples', 'Oranges', 'Pears'],\n",
        "    value=['Oranges'],\n",
        "    #rows=10,\n",
        "    description='Fruits',\n",
        "    disabled=False\n",
        ")"
      ],
      "outputs": [
        {
          "output_type": "display_data",
          "data": {
            "text/plain": "SelectMultiple(description='Fruits', index=(1,), options=('Apples', 'Oranges', 'Pears'), value=('Oranges',))",
            "application/vnd.jupyter.widget-view+json": {
              "version_major": 2,
              "version_minor": 0,
              "model_id": "24123375a2be40b9abe1b2000e9724ea"
            }
          },
          "metadata": {}
        }
      ],
      "execution_count": 82,
      "metadata": {
        "gather": {
          "logged": 1654279293041
        }
      }
    },
    {
      "cell_type": "markdown",
      "source": [
        "## String widgets"
      ],
      "metadata": {
        "slideshow": {
          "slide_type": "slide"
        }
      }
    },
    {
      "cell_type": "markdown",
      "source": [
        "There are several widgets that can be used to display a string value.  The `Text`, `Textarea`, and `Combobox` widgets accept input.  The `HTML` and `HTMLMath` widgets display a string as HTML (`HTMLMath` also renders math). The `Label` widget can be used to construct a custom control label."
      ],
      "metadata": {}
    },
    {
      "cell_type": "markdown",
      "source": [
        "### Text"
      ],
      "metadata": {
        "slideshow": {
          "slide_type": "slide"
        }
      }
    },
    {
      "cell_type": "code",
      "source": [
        "widgets.Text(\n",
        "    value='Hello World',\n",
        "    placeholder='Type something',\n",
        "    description='String:',\n",
        "    disabled=False   \n",
        ")"
      ],
      "outputs": [
        {
          "output_type": "display_data",
          "data": {
            "text/plain": "Text(value='Hello World', description='String:', placeholder='Type something')",
            "application/vnd.jupyter.widget-view+json": {
              "version_major": 2,
              "version_minor": 0,
              "model_id": "64f1c2db5d6545dea09b843a2c983dad"
            }
          },
          "metadata": {}
        }
      ],
      "execution_count": 83,
      "metadata": {
        "gather": {
          "logged": 1654279297598
        }
      }
    },
    {
      "cell_type": "markdown",
      "source": [
        "### Textarea"
      ],
      "metadata": {}
    },
    {
      "cell_type": "code",
      "source": [
        "widgets.Textarea(\n",
        "    value='Hello World',\n",
        "    placeholder='Type something',\n",
        "    description='String:',\n",
        "    disabled=False\n",
        ")"
      ],
      "outputs": [
        {
          "output_type": "display_data",
          "data": {
            "text/plain": "Textarea(value='Hello World', description='String:', placeholder='Type something')",
            "application/vnd.jupyter.widget-view+json": {
              "version_major": 2,
              "version_minor": 0,
              "model_id": "73ff316ad786450e99cda0ebd1660aee"
            }
          },
          "metadata": {}
        }
      ],
      "execution_count": 84,
      "metadata": {
        "gather": {
          "logged": 1654279300636
        }
      }
    },
    {
      "cell_type": "markdown",
      "source": [
        "### Combobox"
      ],
      "metadata": {}
    },
    {
      "cell_type": "code",
      "source": [
        "widgets.Combobox(\n",
        "    # value='John',\n",
        "    placeholder='Choose Someone',\n",
        "    options=['Paul', 'John', 'George', 'Ringo'],\n",
        "    description='Combobox:',\n",
        "    ensure_option=True,\n",
        "    disabled=False\n",
        ")"
      ],
      "outputs": [
        {
          "output_type": "display_data",
          "data": {
            "text/plain": "Combobox(value='', description='Combobox:', ensure_option=True, options=('Paul', 'John', 'George', 'Ringo'), p…",
            "application/vnd.jupyter.widget-view+json": {
              "version_major": 2,
              "version_minor": 0,
              "model_id": "fdbdf455fa8444b2960dd4f197b536be"
            }
          },
          "metadata": {}
        }
      ],
      "execution_count": 85,
      "metadata": {
        "gather": {
          "logged": 1654279303113
        }
      }
    },
    {
      "cell_type": "markdown",
      "source": [
        "### Password\n",
        "\n",
        "The `Password` widget hides user input on the screen. **This widget is not a secure way to collect sensitive information because:**\n",
        "\n",
        "+ The contents of the `Password` widget are transmitted unencrypted.\n",
        "+ If the widget state is saved in the notebook the contents of the `Password` widget is stored as plain text."
      ],
      "metadata": {}
    },
    {
      "cell_type": "code",
      "source": [
        "widgets.Password(\n",
        "    value='password',\n",
        "    placeholder='Enter password',\n",
        "    description='Password:',\n",
        "    disabled=False\n",
        ")"
      ],
      "outputs": [
        {
          "output_type": "display_data",
          "data": {
            "text/plain": "Password(description='Password:', placeholder='Enter password')",
            "application/vnd.jupyter.widget-view+json": {
              "version_major": 2,
              "version_minor": 0,
              "model_id": "c6e7931999d54920be4d9db77c3c5a81"
            }
          },
          "metadata": {}
        }
      ],
      "execution_count": 86,
      "metadata": {
        "gather": {
          "logged": 1654279305079
        }
      }
    },
    {
      "cell_type": "markdown",
      "source": [
        "### Label\n",
        "\n",
        "The `Label` widget is useful if you need to build a custom description next to a control using similar styling to the built-in control descriptions."
      ],
      "metadata": {
        "slideshow": {
          "slide_type": "slide"
        }
      }
    },
    {
      "cell_type": "code",
      "source": [
        "widgets.HBox([widgets.Label(value=\"The $m$ in $E=mc^2$:\"), widgets.FloatSlider()])"
      ],
      "outputs": [
        {
          "output_type": "display_data",
          "data": {
            "text/plain": "HBox(children=(Label(value='The $m$ in $E=mc^2$:'), FloatSlider(value=0.0)))",
            "application/vnd.jupyter.widget-view+json": {
              "version_major": 2,
              "version_minor": 0,
              "model_id": "d9019cc729b0402193315572806498e2"
            }
          },
          "metadata": {}
        }
      ],
      "execution_count": 87,
      "metadata": {
        "gather": {
          "logged": 1654279307403
        }
      }
    },
    {
      "cell_type": "markdown",
      "source": [
        "### HTML"
      ],
      "metadata": {}
    },
    {
      "cell_type": "code",
      "source": [
        "widgets.HTML(\n",
        "    value=\"Hello <b>World</b>\",\n",
        "    placeholder='Some HTML',\n",
        "    description='Some HTML',\n",
        ")"
      ],
      "outputs": [
        {
          "output_type": "display_data",
          "data": {
            "text/plain": "HTML(value='Hello <b>World</b>', description='Some HTML', placeholder='Some HTML')",
            "application/vnd.jupyter.widget-view+json": {
              "version_major": 2,
              "version_minor": 0,
              "model_id": "7314b6a36ddc4e399a50eaa6399f6449"
            }
          },
          "metadata": {}
        }
      ],
      "execution_count": 88,
      "metadata": {
        "gather": {
          "logged": 1654279308985
        }
      }
    },
    {
      "cell_type": "markdown",
      "source": [
        "### HTML Math"
      ],
      "metadata": {}
    },
    {
      "cell_type": "code",
      "source": [
        "widgets.HTMLMath(\n",
        "    value=r\"Some math and <i>HTML</i>: \\(x^2\\) and $$\\frac{x+1}{x-1}$$\",\n",
        "    placeholder='Some HTML',\n",
        "    description='Some HTML',\n",
        ")"
      ],
      "outputs": [
        {
          "output_type": "display_data",
          "data": {
            "text/plain": "HTMLMath(value='Some math and <i>HTML</i>: \\\\(x^2\\\\) and $$\\\\frac{x+1}{x-1}$$', description='Some HTML', place…",
            "application/vnd.jupyter.widget-view+json": {
              "version_major": 2,
              "version_minor": 0,
              "model_id": "9ccb82466f78444cb246320044ff3f33"
            }
          },
          "metadata": {}
        }
      ],
      "execution_count": 89,
      "metadata": {
        "gather": {
          "logged": 1654279312036
        }
      }
    },
    {
      "cell_type": "markdown",
      "source": [
        "## Image"
      ],
      "metadata": {}
    },
    {
      "cell_type": "code",
      "source": [
        "# file = open(\"images/WidgetArch.png\", \"rb\")\n",
        "# image = file.read()\n",
        "# widgets.Image(\n",
        "#     value=image,\n",
        "#     format='png',\n",
        "#     width=300,\n",
        "#     height=400,\n",
        "# )"
      ],
      "outputs": [],
      "execution_count": 90,
      "metadata": {
        "gather": {
          "logged": 1654279314855
        }
      }
    },
    {
      "cell_type": "markdown",
      "source": [
        "## Button"
      ],
      "metadata": {
        "slideshow": {
          "slide_type": "slide"
        }
      }
    },
    {
      "cell_type": "code",
      "source": [
        "button = widgets.Button(\n",
        "    description='Click me',\n",
        "    disabled=False,\n",
        "    button_style='', # 'success', 'info', 'warning', 'danger' or ''\n",
        "    tooltip='Click me',\n",
        "    icon='check' # (FontAwesome names without the `fa-` prefix)\n",
        ")\n",
        "button"
      ],
      "outputs": [
        {
          "output_type": "display_data",
          "data": {
            "text/plain": "Button(description='Click me', icon='check', style=ButtonStyle(), tooltip='Click me')",
            "application/vnd.jupyter.widget-view+json": {
              "version_major": 2,
              "version_minor": 0,
              "model_id": "e59c2490312443b8b73668c624156253"
            }
          },
          "metadata": {}
        }
      ],
      "execution_count": 91,
      "metadata": {
        "gather": {
          "logged": 1654279317652
        }
      }
    },
    {
      "cell_type": "markdown",
      "source": [
        "The `icon` attribute can be used to define an icon; see the [fontawesome](https://fontawesome.com/icons) page for available icons. \n",
        "A callback function `foo` can be registered using `button.on_click(foo)`. The function `foo` will be called when the button is clicked with the button instance as its single argument."
      ],
      "metadata": {}
    },
    {
      "cell_type": "markdown",
      "source": [
        "## Output\n",
        "\n",
        "The `Output` widget can capture and display stdout, stderr and [rich output generated by IPython](http://ipython.readthedocs.io/en/stable/api/generated/IPython.display.html#module-IPython.display). For detailed documentation, see the [output widget examples](https://ipywidgets.readthedocs.io/en/latest/examples/Output Widget.html)."
      ],
      "metadata": {}
    },
    {
      "cell_type": "markdown",
      "source": [
        "## Play (Animation) widget"
      ],
      "metadata": {}
    },
    {
      "cell_type": "markdown",
      "source": [
        "The `Play` widget is useful to perform animations by iterating on a sequence of integers with a certain speed. The value of the slider below is linked to the player."
      ],
      "metadata": {}
    },
    {
      "cell_type": "code",
      "source": [
        "play = widgets.Play(\n",
        "    value=50,\n",
        "    min=0,\n",
        "    max=100,\n",
        "    step=1,\n",
        "    interval=500,\n",
        "    description=\"Press play\",\n",
        "    disabled=False\n",
        ")\n",
        "slider = widgets.IntSlider()\n",
        "widgets.jslink((play, 'value'), (slider, 'value'))\n",
        "widgets.HBox([play, slider])"
      ],
      "outputs": [
        {
          "output_type": "display_data",
          "data": {
            "text/plain": "HBox(children=(Play(value=50, description='Press play', interval=500), IntSlider(value=0)))",
            "application/vnd.jupyter.widget-view+json": {
              "version_major": 2,
              "version_minor": 0,
              "model_id": "1ce08fe8d8f64320a2484f3683226d80"
            }
          },
          "metadata": {}
        }
      ],
      "execution_count": 92,
      "metadata": {
        "gather": {
          "logged": 1654279321008
        }
      }
    },
    {
      "cell_type": "markdown",
      "source": [
        "## Tags input widget"
      ],
      "metadata": {}
    },
    {
      "cell_type": "markdown",
      "source": [
        "The `TagsInput` widget is useful to for selecting/creating a list of tags. You can drag and drop tags to reorder them, limit them to a set of allowed values, or even prevent making duplicate tags."
      ],
      "metadata": {}
    },
    {
      "cell_type": "code",
      "source": [
        "# tags = widgets.TagsInput(\n",
        "#     value=['pizza', 'fries'],\n",
        "#     allowed_tags=['pizza', 'fries', 'tomatoes', 'steak'],\n",
        "#     allow_duplicates=False\n",
        "# )\n",
        "# tags"
      ],
      "outputs": [
        {
          "output_type": "error",
          "ename": "AttributeError",
          "evalue": "module 'ipywidgets' has no attribute 'TagsInput'",
          "traceback": [
            "\u001b[1;31m---------------------------------------------------------------------------\u001b[0m",
            "\u001b[1;31mAttributeError\u001b[0m                            Traceback (most recent call last)",
            "\u001b[1;32m<ipython-input-93-6e3b8dff8e5d>\u001b[0m in \u001b[0;36m<module>\u001b[1;34m\u001b[0m\n\u001b[1;32m----> 1\u001b[1;33m tags = widgets.TagsInput(\n\u001b[0m\u001b[0;32m      2\u001b[0m     \u001b[0mvalue\u001b[0m\u001b[1;33m=\u001b[0m\u001b[1;33m[\u001b[0m\u001b[1;34m'pizza'\u001b[0m\u001b[1;33m,\u001b[0m \u001b[1;34m'fries'\u001b[0m\u001b[1;33m]\u001b[0m\u001b[1;33m,\u001b[0m\u001b[1;33m\u001b[0m\u001b[1;33m\u001b[0m\u001b[0m\n\u001b[0;32m      3\u001b[0m     \u001b[0mallowed_tags\u001b[0m\u001b[1;33m=\u001b[0m\u001b[1;33m[\u001b[0m\u001b[1;34m'pizza'\u001b[0m\u001b[1;33m,\u001b[0m \u001b[1;34m'fries'\u001b[0m\u001b[1;33m,\u001b[0m \u001b[1;34m'tomatoes'\u001b[0m\u001b[1;33m,\u001b[0m \u001b[1;34m'steak'\u001b[0m\u001b[1;33m]\u001b[0m\u001b[1;33m,\u001b[0m\u001b[1;33m\u001b[0m\u001b[1;33m\u001b[0m\u001b[0m\n\u001b[0;32m      4\u001b[0m     \u001b[0mallow_duplicates\u001b[0m\u001b[1;33m=\u001b[0m\u001b[1;32mFalse\u001b[0m\u001b[1;33m\u001b[0m\u001b[1;33m\u001b[0m\u001b[0m\n\u001b[0;32m      5\u001b[0m )\n",
            "\u001b[1;31mAttributeError\u001b[0m: module 'ipywidgets' has no attribute 'TagsInput'"
          ]
        }
      ],
      "execution_count": 93,
      "metadata": {
        "gather": {
          "logged": 1654279322120
        }
      }
    },
    {
      "cell_type": "code",
      "source": [
        "# color_tags = widgets.ColorsInput(\n",
        "#     value=['red', '#2f6d30'],\n",
        "#     # allowed_tags=['red', 'blue', 'green'],\n",
        "#     # allow_duplicates=False\n",
        "# )\n",
        "# color_tags"
      ],
      "outputs": [
        {
          "output_type": "error",
          "ename": "AttributeError",
          "evalue": "module 'ipywidgets' has no attribute 'ColorsInput'",
          "traceback": [
            "\u001b[1;31m---------------------------------------------------------------------------\u001b[0m",
            "\u001b[1;31mAttributeError\u001b[0m                            Traceback (most recent call last)",
            "\u001b[1;32m<ipython-input-95-f8290bf45ccd>\u001b[0m in \u001b[0;36m<module>\u001b[1;34m\u001b[0m\n\u001b[1;32m----> 1\u001b[1;33m color_tags = widgets.ColorsInput(\n\u001b[0m\u001b[0;32m      2\u001b[0m     \u001b[0mvalue\u001b[0m\u001b[1;33m=\u001b[0m\u001b[1;33m[\u001b[0m\u001b[1;34m'red'\u001b[0m\u001b[1;33m,\u001b[0m \u001b[1;34m'#2f6d30'\u001b[0m\u001b[1;33m]\u001b[0m\u001b[1;33m,\u001b[0m\u001b[1;33m\u001b[0m\u001b[1;33m\u001b[0m\u001b[0m\n\u001b[0;32m      3\u001b[0m     \u001b[1;31m# allowed_tags=['red', 'blue', 'green'],\u001b[0m\u001b[1;33m\u001b[0m\u001b[1;33m\u001b[0m\u001b[1;33m\u001b[0m\u001b[0m\n\u001b[0;32m      4\u001b[0m     \u001b[1;31m# allow_duplicates=False\u001b[0m\u001b[1;33m\u001b[0m\u001b[1;33m\u001b[0m\u001b[1;33m\u001b[0m\u001b[0m\n\u001b[0;32m      5\u001b[0m )\n",
            "\u001b[1;31mAttributeError\u001b[0m: module 'ipywidgets' has no attribute 'ColorsInput'"
          ]
        }
      ],
      "execution_count": 95,
      "metadata": {
        "gather": {
          "logged": 1654279349876
        }
      }
    },
    {
      "cell_type": "markdown",
      "source": [
        "## Date picker\n",
        "\n",
        "For a list of browsers that support the date picker widget, see the [MDN article for the HTML date input field](https://developer.mozilla.org/en-US/docs/Web/HTML/Element/input/date#Browser_compatibility)."
      ],
      "metadata": {}
    },
    {
      "cell_type": "code",
      "source": [
        "widgets.DatePicker(\n",
        "    description='Pick a Date',\n",
        "    disabled=False\n",
        ")"
      ],
      "outputs": [
        {
          "output_type": "display_data",
          "data": {
            "text/plain": "DatePicker(value=None, description='Pick a Date')",
            "application/vnd.jupyter.widget-view+json": {
              "version_major": 2,
              "version_minor": 0,
              "model_id": "99f81a9b1cc74d57b931351c1811ba5e"
            }
          },
          "metadata": {}
        }
      ],
      "execution_count": 96,
      "metadata": {
        "gather": {
          "logged": 1654279369594
        }
      }
    },
    {
      "cell_type": "markdown",
      "source": [
        "## Time picker\n",
        "\n",
        "For a list of browsers that support the time picker widget, see the [MDN article for the HTML time input field](https://developer.mozilla.org/en-US/docs/Web/HTML/Element/input/time#Browser_compatibility)."
      ],
      "metadata": {}
    },
    {
      "cell_type": "code",
      "source": [
        "# widgets.TimePicker(\n",
        "#     description='Pick a Time',\n",
        "#     disabled=False\n",
        "# )"
      ],
      "outputs": [],
      "execution_count": 98,
      "metadata": {
        "gather": {
          "logged": 1654279385455
        }
      }
    },
    {
      "cell_type": "markdown",
      "source": [
        "## Datetime picker\n",
        "\n",
        "For a list of browsers that support the datetime picker widget, see the [MDN article for the HTML datetime-local input field](https://developer.mozilla.org/en-US/docs/Web/HTML/Element/input/datetime-local#Browser_compatibility). For the browsers that do not support the datetime-local input, we try to fall back on displaying separate date and time inputs.\n",
        "\n",
        "### Time zones\n",
        "\n",
        "There are two points worth to note with regards to timezones for datetimes:\n",
        "- The browser always picks datetimes using *its* timezone.\n",
        "- The kernel always gets the datetimes in the default system timezone of the kernel (see https://docs.python.org/3/library/datetime.html#datetime.datetime.astimezone with `None` as the argument).\n",
        "\n",
        "This means that if the kernel and browser have different timezones, the default string serialization of the timezones might differ, but they will still represent the same point in time."
      ],
      "metadata": {}
    },
    {
      "cell_type": "code",
      "source": [
        "# widgets.DatetimePicker(\n",
        "#     description='Pick a Time',\n",
        "#     disabled=False\n",
        "# )"
      ],
      "outputs": [
        {
          "output_type": "error",
          "ename": "AttributeError",
          "evalue": "module 'ipywidgets' has no attribute 'DatetimePicker'",
          "traceback": [
            "\u001b[1;31m---------------------------------------------------------------------------\u001b[0m",
            "\u001b[1;31mAttributeError\u001b[0m                            Traceback (most recent call last)",
            "\u001b[1;32m<ipython-input-99-14f647b78eed>\u001b[0m in \u001b[0;36m<module>\u001b[1;34m\u001b[0m\n\u001b[1;32m----> 1\u001b[1;33m widgets.DatetimePicker(\n\u001b[0m\u001b[0;32m      2\u001b[0m     \u001b[0mdescription\u001b[0m\u001b[1;33m=\u001b[0m\u001b[1;34m'Pick a Time'\u001b[0m\u001b[1;33m,\u001b[0m\u001b[1;33m\u001b[0m\u001b[1;33m\u001b[0m\u001b[0m\n\u001b[0;32m      3\u001b[0m     \u001b[0mdisabled\u001b[0m\u001b[1;33m=\u001b[0m\u001b[1;32mFalse\u001b[0m\u001b[1;33m\u001b[0m\u001b[1;33m\u001b[0m\u001b[0m\n\u001b[0;32m      4\u001b[0m )\n",
            "\u001b[1;31mAttributeError\u001b[0m: module 'ipywidgets' has no attribute 'DatetimePicker'"
          ]
        }
      ],
      "execution_count": 99,
      "metadata": {
        "gather": {
          "logged": 1654279392386
        }
      }
    },
    {
      "cell_type": "markdown",
      "source": [
        "## Color picker"
      ],
      "metadata": {}
    },
    {
      "cell_type": "code",
      "source": [
        "widgets.ColorPicker(\n",
        "    concise=False,\n",
        "    description='Pick a color',\n",
        "    value='blue',\n",
        "    disabled=False\n",
        ")"
      ],
      "outputs": [
        {
          "output_type": "display_data",
          "data": {
            "text/plain": "ColorPicker(value='blue', description='Pick a color')",
            "application/vnd.jupyter.widget-view+json": {
              "version_major": 2,
              "version_minor": 0,
              "model_id": "34dbcf6ab07d42c5998ad56dbfba1f41"
            }
          },
          "metadata": {}
        }
      ],
      "execution_count": 100,
      "metadata": {
        "gather": {
          "logged": 1654279405195
        }
      }
    },
    {
      "cell_type": "markdown",
      "source": [
        "## File Upload\n",
        "\n",
        "The `FileUpload` allows to upload any type of file(s) into memory in the kernel."
      ],
      "metadata": {}
    },
    {
      "cell_type": "code",
      "source": [
        "widgets.FileUpload(\n",
        "    accept='',  # Accepted file extension e.g. '.txt', '.pdf', 'image/*', 'image/*,.pdf'\n",
        "    multiple=False  # True to accept multiple files upload else False\n",
        ")"
      ],
      "outputs": [
        {
          "output_type": "display_data",
          "data": {
            "text/plain": "FileUpload(value={}, description='Upload')",
            "application/vnd.jupyter.widget-view+json": {
              "version_major": 2,
              "version_minor": 0,
              "model_id": "a05a5d4ddfaa4a31ad1d76f38ebbdf50"
            }
          },
          "metadata": {}
        }
      ],
      "execution_count": 101,
      "metadata": {
        "gather": {
          "logged": 1654279411064
        }
      }
    },
    {
      "cell_type": "markdown",
      "source": [
        "The upload widget exposes a `value` attribute that contains the files uploaded. The value attribute is a tuple with a dictionary for each uploaded file. For instance:\n",
        "\n",
        "```python\n",
        "uploader = widgets.FileUpload()\n",
        "display(uploader)\n",
        "\n",
        "# upload something...\n",
        "\n",
        "# once a file is uploaded, use the `.value` attribute to retrieve the content:\n",
        "uploader.value\n",
        "#=> (\n",
        "#=>   {\n",
        "#=>     'name': 'example.txt',\n",
        "#=>     'type': 'text/plain',\n",
        "#=>     'size': 36,\n",
        "#=>     'last_modified': datetime.datetime(2020, 1, 9, 15, 58, 43, 321000, tzinfo=datetime.timezone.utc), \n",
        "#=>     'content': <memory at 0x10c1b37c8>\n",
        "#=>   },\n",
        "#=> )\n",
        "```\n",
        "\n",
        "Entries in the dictionary can be accessed either as items, as one would any dictionary, or as attributes:\n",
        "\n",
        "```\n",
        "uploaded_file = uploader.value[0]\n",
        "uploaded_file[\"size\"]\n",
        "#=> 36\n",
        "uploaded_file.size\n",
        "#=> 36\n",
        "```\n",
        "\n",
        "The contents of the file uploaded are in the value of the `content` key. They are a [memory view](https://docs.python.org/3/library/stdtypes.html#memory-views):\n",
        "\n",
        "```python\n",
        "uploaded_file.content\n",
        "#=> <memory at 0x10c1b37c8>\n",
        "```\n",
        "\n",
        "You can extract the content to bytes:\n",
        "\n",
        "```python\n",
        "uploaded_file.content.tobytes()\n",
        "#=> b'This is the content of example.txt.\\n'\n",
        "```\n",
        "\n",
        "If the file is a text file, you can get the contents as a string by [decoding it](https://docs.python.org/3/library/codecs.html):\n",
        "\n",
        "```python\n",
        "import codecs\n",
        "codecs.decode(uploaded_file.content, encoding=\"utf-8\")\n",
        "#=> 'This is the content of example.txt.\\n'\n",
        "```\n",
        "\n",
        "You can save the uploaded file to the filesystem from the kernel:\n",
        "\n",
        "```python\n",
        "with open(\"./saved-output.txt\", \"wb\") as fp:\n",
        "    fp.write(uploaded_file.content)\n",
        "```\n",
        "\n",
        "To convert the uploaded file into a Pandas dataframe, you can use a [BytesIO object](https://docs.python.org/3/library/io.html#binary-i-o):\n",
        "\n",
        "```python\n",
        "import io\n",
        "import pandas as pd\n",
        "pd.read_csv(io.BytesIO(uploaded_file.content))\n",
        "```\n",
        "\n",
        "If the uploaded file is an image, you can visualize it with an [image](#Image) widget:\n",
        "\n",
        "```python\n",
        "widgets.Image(value=uploaded_file.content.tobytes())\n",
        "```\n",
        "\n",
        "<div class=\"alert alert-info\">\n",
        "Changes in *ipywidgets 8*:\n",
        "    \n",
        "The `FileUpload` changed significantly in ipywidgets 8:\n",
        "    \n",
        "- The `.value` traitlet is now a list of dictionaries, rather than a dictionary mapping the uploaded name to the content. To retrieve the original form, use `{f[\"name\"]: f.content.tobytes() for f in uploader.value}`.\n",
        "- The `.data` traitlet has been removed. To retrieve it, use `[f.content.tobytes() for f in uploader.value]`.\n",
        "- The `.metadata` traitlet has been removed. To retrieve it, use `[{k: v for k, v in f.items() if k != \"content\"} for f in w.value]`.\n",
        "</div>\n",
        "\n",
        "<div class=\"alert alert-warning\">\n",
        "Warning: When using the `FileUpload` Widget, uploaded file content might be saved in the notebook if widget state is saved.\n",
        "</div>"
      ],
      "metadata": {}
    },
    {
      "cell_type": "markdown",
      "source": [
        "## Controller\n",
        "\n",
        "The `Controller` allows a game controller to be used as an input device."
      ],
      "metadata": {}
    },
    {
      "cell_type": "code",
      "source": [
        "widgets.Controller(\n",
        "    index=0,\n",
        ")"
      ],
      "outputs": [
        {
          "output_type": "display_data",
          "data": {
            "text/plain": "Controller()",
            "application/vnd.jupyter.widget-view+json": {
              "version_major": 2,
              "version_minor": 0,
              "model_id": "495fcc8981e343289de2d937f06493a5"
            }
          },
          "metadata": {}
        }
      ],
      "execution_count": 102,
      "metadata": {
        "gather": {
          "logged": 1654279423126
        }
      }
    },
    {
      "cell_type": "markdown",
      "source": [
        "## Container/Layout widgets\n",
        "\n",
        "These widgets are used to hold other widgets, called children. Each has a `children` property that may be set either when the widget is created or later."
      ],
      "metadata": {}
    },
    {
      "cell_type": "markdown",
      "source": [
        "### Box"
      ],
      "metadata": {}
    },
    {
      "cell_type": "code",
      "source": [
        "items = [widgets.Label(str(i)) for i in range(4)]\n",
        "widgets.Box(items)"
      ],
      "outputs": [
        {
          "output_type": "display_data",
          "data": {
            "text/plain": "Box(children=(Label(value='0'), Label(value='1'), Label(value='2'), Label(value='3')))",
            "application/vnd.jupyter.widget-view+json": {
              "version_major": 2,
              "version_minor": 0,
              "model_id": "7c640ba8ca4c446f9bb2afaf10293c3e"
            }
          },
          "metadata": {}
        }
      ],
      "execution_count": 103,
      "metadata": {
        "gather": {
          "logged": 1654279432248
        }
      }
    },
    {
      "cell_type": "markdown",
      "source": [
        "### HBox"
      ],
      "metadata": {}
    },
    {
      "cell_type": "code",
      "source": [
        "items = [widgets.Label(str(i)) for i in range(4)]\n",
        "widgets.HBox(items)"
      ],
      "outputs": [
        {
          "output_type": "display_data",
          "data": {
            "text/plain": "HBox(children=(Label(value='0'), Label(value='1'), Label(value='2'), Label(value='3')))",
            "application/vnd.jupyter.widget-view+json": {
              "version_major": 2,
              "version_minor": 0,
              "model_id": "1bd63d2fb9bc4e30b5b2439d01c2446e"
            }
          },
          "metadata": {}
        }
      ],
      "execution_count": 104,
      "metadata": {
        "gather": {
          "logged": 1654279434910
        }
      }
    },
    {
      "cell_type": "markdown",
      "source": [
        "### VBox"
      ],
      "metadata": {}
    },
    {
      "cell_type": "code",
      "source": [
        "items = [widgets.Label(str(i)) for i in range(4)]\n",
        "left_box = widgets.VBox([items[0], items[1]])\n",
        "right_box = widgets.VBox([items[2], items[3]])\n",
        "widgets.HBox([left_box, right_box])"
      ],
      "outputs": [
        {
          "output_type": "display_data",
          "data": {
            "text/plain": "HBox(children=(VBox(children=(Label(value='0'), Label(value='1'))), VBox(children=(Label(value='2'), Label(val…",
            "application/vnd.jupyter.widget-view+json": {
              "version_major": 2,
              "version_minor": 0,
              "model_id": "036bc6758dba4ca0b2522b9dcbc3c7ab"
            }
          },
          "metadata": {}
        }
      ],
      "execution_count": 105,
      "metadata": {
        "gather": {
          "logged": 1654279445023
        }
      }
    },
    {
      "cell_type": "markdown",
      "source": [
        "### GridBox\n",
        "\n",
        "This box uses the HTML Grid specification to lay out its children in two dimensional grid. The example below lays out the 8 items inside in 3 columns and as many rows as needed to accommodate the items."
      ],
      "metadata": {}
    },
    {
      "cell_type": "code",
      "source": [
        "items = [widgets.Label(str(i)) for i in range(8)]\n",
        "widgets.GridBox(items, layout=widgets.Layout(grid_template_columns=\"repeat(3, 100px)\"))"
      ],
      "outputs": [
        {
          "output_type": "display_data",
          "data": {
            "text/plain": "GridBox(children=(Label(value='0'), Label(value='1'), Label(value='2'), Label(value='3'), Label(value='4'), La…",
            "application/vnd.jupyter.widget-view+json": {
              "version_major": 2,
              "version_minor": 0,
              "model_id": "6e0ecaa1f28d4cc0bf94a5fd24b13b37"
            }
          },
          "metadata": {}
        }
      ],
      "execution_count": 106,
      "metadata": {
        "gather": {
          "logged": 1654279449609
        }
      }
    },
    {
      "cell_type": "markdown",
      "source": [
        "### Accordion"
      ],
      "metadata": {}
    },
    {
      "cell_type": "code",
      "source": [
        "accordion = widgets.Accordion(children=[widgets.IntSlider(), widgets.Text()], titles=('Slider', 'Text'))\n",
        "accordion"
      ],
      "outputs": [
        {
          "output_type": "display_data",
          "data": {
            "text/plain": "Accordion(children=(IntSlider(value=0), Text(value='')))",
            "application/vnd.jupyter.widget-view+json": {
              "version_major": 2,
              "version_minor": 0,
              "model_id": "a0549075bbe24753866c6b6bdf95c84a"
            }
          },
          "metadata": {}
        }
      ],
      "execution_count": 107,
      "metadata": {
        "gather": {
          "logged": 1654279451609
        }
      }
    },
    {
      "cell_type": "markdown",
      "source": [
        "### Tabs\n",
        "\n",
        "In this example the children are set after the tab is created. Titles for the tabs are set in the same way they are for `Accordion`."
      ],
      "metadata": {}
    },
    {
      "cell_type": "code",
      "source": [
        "tab_contents = ['P0', 'P1', 'P2', 'P3', 'P4']\n",
        "children = [widgets.Text(description=name) for name in tab_contents]\n",
        "tab = widgets.Tab()\n",
        "tab.children = children\n",
        "tab.titles = [str(i) for i in range(len(children))]\n",
        "tab"
      ],
      "outputs": [
        {
          "output_type": "display_data",
          "data": {
            "text/plain": "Tab(children=(Text(value='', description='P0'), Text(value='', description='P1'), Text(value='', description='…",
            "application/vnd.jupyter.widget-view+json": {
              "version_major": 2,
              "version_minor": 0,
              "model_id": "2178278f79b34b6b95d0402b73a04712"
            }
          },
          "metadata": {}
        }
      ],
      "execution_count": 111,
      "metadata": {
        "gather": {
          "logged": 1654279481358
        }
      }
    },
    {
      "cell_type": "markdown",
      "source": [
        "### Stacked\n",
        "\n",
        "The `Stacked` widget can have multiple children widgets as for `Tab` and `Accordion`, but only shows one at a time depending on the value of ``selected_index``:"
      ],
      "metadata": {}
    },
    {
      "cell_type": "code",
      "source": [
        "# button = widgets.Button(description='Click here')\n",
        "# slider = widgets.IntSlider()\n",
        "# stacked = widgets.Stacked([button, slider])\n",
        "# stacked  # will show only the button"
      ],
      "outputs": [
        {
          "output_type": "error",
          "ename": "AttributeError",
          "evalue": "module 'ipywidgets' has no attribute 'Stacked'",
          "traceback": [
            "\u001b[1;31m---------------------------------------------------------------------------\u001b[0m",
            "\u001b[1;31mAttributeError\u001b[0m                            Traceback (most recent call last)",
            "\u001b[1;32m<ipython-input-112-28d8b631a96d>\u001b[0m in \u001b[0;36m<module>\u001b[1;34m\u001b[0m\n\u001b[0;32m      1\u001b[0m \u001b[0mbutton\u001b[0m \u001b[1;33m=\u001b[0m \u001b[0mwidgets\u001b[0m\u001b[1;33m.\u001b[0m\u001b[0mButton\u001b[0m\u001b[1;33m(\u001b[0m\u001b[0mdescription\u001b[0m\u001b[1;33m=\u001b[0m\u001b[1;34m'Click here'\u001b[0m\u001b[1;33m)\u001b[0m\u001b[1;33m\u001b[0m\u001b[1;33m\u001b[0m\u001b[0m\n\u001b[0;32m      2\u001b[0m \u001b[0mslider\u001b[0m \u001b[1;33m=\u001b[0m \u001b[0mwidgets\u001b[0m\u001b[1;33m.\u001b[0m\u001b[0mIntSlider\u001b[0m\u001b[1;33m(\u001b[0m\u001b[1;33m)\u001b[0m\u001b[1;33m\u001b[0m\u001b[1;33m\u001b[0m\u001b[0m\n\u001b[1;32m----> 3\u001b[1;33m \u001b[0mstacked\u001b[0m \u001b[1;33m=\u001b[0m \u001b[0mwidgets\u001b[0m\u001b[1;33m.\u001b[0m\u001b[0mStacked\u001b[0m\u001b[1;33m(\u001b[0m\u001b[1;33m[\u001b[0m\u001b[0mbutton\u001b[0m\u001b[1;33m,\u001b[0m \u001b[0mslider\u001b[0m\u001b[1;33m]\u001b[0m\u001b[1;33m)\u001b[0m\u001b[1;33m\u001b[0m\u001b[1;33m\u001b[0m\u001b[0m\n\u001b[0m\u001b[0;32m      4\u001b[0m \u001b[0mstacked\u001b[0m  \u001b[1;31m# will show only the button\u001b[0m\u001b[1;33m\u001b[0m\u001b[1;33m\u001b[0m\u001b[0m\n",
            "\u001b[1;31mAttributeError\u001b[0m: module 'ipywidgets' has no attribute 'Stacked'"
          ]
        }
      ],
      "execution_count": 112,
      "metadata": {
        "gather": {
          "logged": 1654279489283
        }
      }
    },
    {
      "cell_type": "markdown",
      "source": [
        "This can be used in combination with another selection-based widget to show different widgets depending on the selection:"
      ],
      "metadata": {}
    },
    {
      "cell_type": "code",
      "source": [
        "# dropdown = widgets.Dropdown(options=['button', 'slider'])\n",
        "# widgets.jslink((dropdown, 'index'), (stacked, 'selected_index'))\n",
        "# widgets.VBox([dropdown, stacked])"
      ],
      "outputs": [
        {
          "output_type": "error",
          "ename": "NameError",
          "evalue": "name 'stacked' is not defined",
          "traceback": [
            "\u001b[1;31m---------------------------------------------------------------------------\u001b[0m",
            "\u001b[1;31mNameError\u001b[0m                                 Traceback (most recent call last)",
            "\u001b[1;32m<ipython-input-113-1b7f5438a6c1>\u001b[0m in \u001b[0;36m<module>\u001b[1;34m\u001b[0m\n\u001b[0;32m      1\u001b[0m \u001b[0mdropdown\u001b[0m \u001b[1;33m=\u001b[0m \u001b[0mwidgets\u001b[0m\u001b[1;33m.\u001b[0m\u001b[0mDropdown\u001b[0m\u001b[1;33m(\u001b[0m\u001b[0moptions\u001b[0m\u001b[1;33m=\u001b[0m\u001b[1;33m[\u001b[0m\u001b[1;34m'button'\u001b[0m\u001b[1;33m,\u001b[0m \u001b[1;34m'slider'\u001b[0m\u001b[1;33m]\u001b[0m\u001b[1;33m)\u001b[0m\u001b[1;33m\u001b[0m\u001b[1;33m\u001b[0m\u001b[0m\n\u001b[1;32m----> 2\u001b[1;33m \u001b[0mwidgets\u001b[0m\u001b[1;33m.\u001b[0m\u001b[0mjslink\u001b[0m\u001b[1;33m(\u001b[0m\u001b[1;33m(\u001b[0m\u001b[0mdropdown\u001b[0m\u001b[1;33m,\u001b[0m \u001b[1;34m'index'\u001b[0m\u001b[1;33m)\u001b[0m\u001b[1;33m,\u001b[0m \u001b[1;33m(\u001b[0m\u001b[0mstacked\u001b[0m\u001b[1;33m,\u001b[0m \u001b[1;34m'selected_index'\u001b[0m\u001b[1;33m)\u001b[0m\u001b[1;33m)\u001b[0m\u001b[1;33m\u001b[0m\u001b[1;33m\u001b[0m\u001b[0m\n\u001b[0m\u001b[0;32m      3\u001b[0m \u001b[0mwidgets\u001b[0m\u001b[1;33m.\u001b[0m\u001b[0mVBox\u001b[0m\u001b[1;33m(\u001b[0m\u001b[1;33m[\u001b[0m\u001b[0mdropdown\u001b[0m\u001b[1;33m,\u001b[0m \u001b[0mstacked\u001b[0m\u001b[1;33m]\u001b[0m\u001b[1;33m)\u001b[0m\u001b[1;33m\u001b[0m\u001b[1;33m\u001b[0m\u001b[0m\n",
            "\u001b[1;31mNameError\u001b[0m: name 'stacked' is not defined"
          ]
        }
      ],
      "execution_count": 113,
      "metadata": {
        "gather": {
          "logged": 1654279509193
        }
      }
    },
    {
      "cell_type": "markdown",
      "source": [
        "### Accordion,  Tab, and Stacked use `selected_index`, not value\n",
        "\n",
        "Unlike the rest of the widgets discussed earlier, the container widgets `Accordion` and `Tab` update their `selected_index` attribute when the user changes which accordion or tab is selected. That means that you can both see what the user is doing *and* programmatically set what the user sees by setting the value of `selected_index`.\n",
        "\n",
        "Setting `selected_index = None` closes all of the accordions or deselects all tabs."
      ],
      "metadata": {}
    },
    {
      "cell_type": "markdown",
      "source": [
        "In the cells below try displaying or setting the `selected_index` of the `tab` and/or `accordion`."
      ],
      "metadata": {}
    },
    {
      "cell_type": "code",
      "source": [
        "tab.selected_index = 3"
      ],
      "outputs": [],
      "execution_count": 116,
      "metadata": {
        "gather": {
          "logged": 1654279538840
        }
      }
    },
    {
      "cell_type": "code",
      "source": [
        "accordion.selected_index = None"
      ],
      "outputs": [],
      "execution_count": 115,
      "metadata": {
        "gather": {
          "logged": 1654279529286
        }
      }
    },
    {
      "cell_type": "markdown",
      "source": [
        "### Nesting tabs and accordions\n",
        "\n",
        "Tabs and accordions can be nested as deeply as you want. If you have a few minutes, try nesting a few accordions or putting an accordion inside a tab or a tab inside an accordion. \n",
        "\n",
        "The example below makes a couple of tabs with an accordion children in one of them"
      ],
      "metadata": {}
    },
    {
      "cell_type": "code",
      "source": [
        "tab_nest = widgets.Tab()\n",
        "tab_nest.children = [accordion, accordion]\n",
        "tab_nest.titles = ('An accordion', 'Copy of the accordion')\n",
        "tab_nest"
      ],
      "outputs": [
        {
          "output_type": "display_data",
          "data": {
            "text/plain": "Tab(children=(Accordion(children=(IntSlider(value=0), Text(value='')), selected_index=None), Accordion(childre…",
            "application/vnd.jupyter.widget-view+json": {
              "version_major": 2,
              "version_minor": 0,
              "model_id": "30615e18cca141ed95d4509452f02b01"
            }
          },
          "metadata": {}
        }
      ],
      "execution_count": 117,
      "metadata": {
        "gather": {
          "logged": 1654279548107
        }
      }
    },
    {
      "cell_type": "markdown",
      "source": [
        "[Index](Index.ipynb) - [Back](Widget Basics.ipynb) - [Next](Output Widget.ipynb)"
      ],
      "metadata": {
        "nbsphinx": "hidden"
      }
    }
  ],
  "metadata": {
    "kernelspec": {
      "name": "python3",
      "language": "python",
      "display_name": "Python 3"
    },
    "language_info": {
      "name": "python",
      "version": "3.7.6",
      "mimetype": "text/x-python",
      "codemirror_mode": {
        "name": "ipython",
        "version": 3
      },
      "pygments_lexer": "ipython3",
      "nbconvert_exporter": "python",
      "file_extension": ".py"
    },
    "kernel_info": {
      "name": "python3"
    },
    "nteract": {
      "version": "nteract-front-end@1.0.0"
    }
  },
  "nbformat": 4,
  "nbformat_minor": 4
}