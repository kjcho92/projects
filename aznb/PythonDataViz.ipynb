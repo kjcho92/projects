{
  "cells": [
    {
      "cell_type": "markdown",
      "source": [
        "Data Visualization in Python\n",
        "============================\n",
        "\n",
        "<center><img src=\"http://ijstokes-public.s3.amazonaws.com/img/continuum-logo-color.png\"></center>\n",
        "\n",
        "<a href=\"http://about.me/ijstokes\" target=\"_parent\">Ian Stokes-Rees</a> <a href=\"http://twitter.com/ijstokes\" target=\"_parent\">@ijstokes</a>\n",
        "\n",
        "<a href=\"http://continuum.io\" target=\"_parent\">Continuum Analytics</a> <a href=\"http://twitter.com/ContinuumIO\" target=\"_parent\">@ContinuumIO</a>\n",
        "\n",
        "Course Material: <a href=\"http://j.mp/pyvis-3h\" target=\"_parent\">http://j.mp/pyvis-3h</a>\n",
        "        \n",
        "Background for those new to Python: <a href=\"http://j.mp/py4sci-3h\" target=\"_parent\">http://j.mp/py4sci-3h</a>"
      ],
      "metadata": {}
    },
    {
      "cell_type": "markdown",
      "source": [
        "References\n",
        "----------\n",
        "\n",
        "* <a href=\"http://matplotlib.org/\" target=\"_parent\">matplotlib</a>\n",
        "\n",
        "* <a href=\"https://github.com/olgabot/prettyplotlib\" target=\"_parent\">prettyplotlib</a>\n",
        "\n",
        "* <a href=\"http://www.stanford.edu/~mwaskom/software/seaborn/\" target=\"_parent\">seaborn</a>\n",
        "\n",
        "* <a href=\"bokeh.pydata.org\" target=\"_parent\">bokeh</a>\n",
        "\n",
        "* <a href=\"http://docs.enthought.com/mayavi/mayavi/\" target=\"_parent\">mayavi</a> <a href=\"https://github.com/enthought/mayavi\" target=\"_parent\">[github]</a>\n",
        "\n",
        "* <a href=\"http://pandas.pydata.org/\" target=\"_parent\">pandas</a>\n",
        "\n",
        "* <a href=\"http://networkx.github.io/\" target=\"_parent\">networkx</a>\n",
        "\n",
        "* <a href=\"http://statsmodels.sourceforge.net/stable/\" target=\"_parent\">statsmodels</a>\n",
        "\n",
        "* <a href=\"http://blog.yhathq.com/posts/ggplot-for-python.html\" target=\"_parent\">ggplot for Python</a>\n"
      ],
      "metadata": {}
    },
    {
      "cell_type": "markdown",
      "source": [
        "Matplotlib\n",
        "----------\n",
        "\n",
        "* figure\n",
        "* axis\n",
        "* lines\n",
        "* decorations (text, labels, LaTeX, legends)\n",
        "* colormaps\n",
        "* subplots\n",
        "* plot styles: scatter, bar, hist\n",
        "* 3D: surface, pcolor, contour\n",
        "\n",
        "<a href=\"https://www.wakari.io/nb/url/https://raw2.github.com/jrjohansson/scientific-python-lectures/master/Lecture-4-Matplotlib.ipynb\" target=\"_parent\">matplotlib tutorial</a>\n",
        "\n",
        "<a href=\"http://matplotlib.org/gallery.html\" target=\"_parent\">matplotlib gallery</a>\n"
      ],
      "metadata": {}
    },
    {
      "cell_type": "code",
      "source": [
        "import matplotlib.pyplot as plt\n",
        "import numpy as np"
      ],
      "outputs": [],
      "execution_count": null,
      "metadata": {
        "gather": {
          "logged": 1600453779516
        }
      }
    },
    {
      "cell_type": "markdown",
      "source": [
        "import matplotlib.pylot as plt"
      ],
      "metadata": {
        "nteract": {
          "transient": {
            "deleting": false
          }
        }
      }
    },
    {
      "cell_type": "markdown",
      "source": [
        "$\\bar{x} = \\cos(2\\pi x) \\cdot e^{\\frac{-x}{T}} + \\mathcal{N}(0,A_n)$"
      ],
      "metadata": {}
    },
    {
      "cell_type": "code",
      "source": [
        "n      = 200\n",
        "A_n    = 0.1\n",
        "T      = 3\n",
        "\n",
        "x      = np.linspace(0.0, 15.0, n)\n",
        "signal = np.cos(2 * np.pi * x) * np.exp(-x/T)\n",
        "noise  = A_n * np.random.randn(n)\n",
        "obs    = signal + noise"
      ],
      "outputs": [],
      "execution_count": null,
      "metadata": {
        "gather": {
          "logged": 1600453780004
        }
      }
    },
    {
      "cell_type": "code",
      "source": [
        "plt.figure()\n",
        "_ = plt.plot(x, obs, 'r')\n",
        "plt.title('Exponential decay of RF circuit $cos(2 \\pi x)e^{-x/3}$', fontsize=18)\n",
        "plt.xlabel('time (ms)')\n",
        "plt.ylabel('dmm reading (mV)')\n",
        "plt.savefig('rf-circuit-decay.png')\n",
        "plt.savefig('rf-circuit-decay.pdf')"
      ],
      "outputs": [],
      "execution_count": null,
      "metadata": {
        "gather": {
          "logged": 1600453780674
        }
      }
    },
    {
      "cell_type": "code",
      "source": [
        "plt.figure()\n",
        "_ = plt.hist(noise, 20)"
      ],
      "outputs": [],
      "execution_count": null,
      "metadata": {
        "gather": {
          "logged": 1600453781356
        }
      }
    },
    {
      "cell_type": "markdown",
      "source": [
        "*Warm Up Exercise*\n",
        "\n",
        "1. Introduce yourself to the person beside you and share what kind of data visualization you are interested in.  Try and help each other out with the next few steps, and confirm that you're each on the same page.\n",
        "\n",
        "2. Download the course material from the course URL (*Download Entire Bundle* link at the top of the page), and unzip it somewhere appropriate -- this will be your working directory.\n",
        "\n",
        "3. Get to the terminal/command line:\n",
        "   * Windows: *Start->cmd* or *Anaconda->Python Command Prompt*\n",
        "   * Mac: `CMD-SPACE` (spotlight) then type *terminal* to find the application and `ENTER`\n",
        "   * Linux: you probably already know how to do this\n",
        "\n",
        "4. Confirm that you both have the Anaconda Python Distribution installed (if it doesn't say *Anaconda* then it is the wrong Python distribution)\n",
        "```\n",
        "    $ python -V\n",
        "    Python 2.7.6 :: Anaconda 1.8.0 (x86_64)\n",
        "```\n",
        "\n",
        "5. Navigate to the directory where you uncompressed the course material.\n",
        "\n",
        "6. Start *IPython Notebook* (or, if you are familiar with it, the *spyder* IDE)\n",
        "```\n",
        "    $ ipython notebook --matplotlib=inline\n",
        "```\n",
        "\n",
        "7. This should open your web browser.  If it doesn't, look for a URL that is output to the screen in the terminal window where you started the notebook from.  It should be `http://127.0.0.1:8888` (last 4 digits may differ).  Put this into your web browser.\n",
        "\n",
        "8. Enter the code above, run it, check that there is output on the screen and also a file on disk.  Ask for help from your new friend if necessary. Failing that, ask the instructor.\n",
        "\n",
        "9. BONUS: Experiment with updating the histogram plot to include a title and labels, then save it to disk"
      ],
      "metadata": {}
    },
    {
      "cell_type": "code",
      "source": [
        "import sys\n",
        "print sys.executable"
      ],
      "outputs": [],
      "execution_count": null,
      "metadata": {}
    },
    {
      "cell_type": "markdown",
      "source": [
        "Trojans and Spartans\n",
        "--------------------\n",
        "\n",
        "A recent careful textual, historical, and archeological study has revealed new insights into the comparative ferocity and empathy of the ancient Trojans and Spartans.\n",
        "\n",
        "Hundreds of objects and entities have been categorized according to these two measures, and a new model recently published in the *Journal of Computational Mythology*.\n",
        "\n",
        "Unfortunately everyone is having some trouble interpretting the results.  Python Data Visualization to the rescue!"
      ],
      "metadata": {}
    },
    {
      "cell_type": "code",
      "source": [
        "n1   = 500\n",
        "n2   = 150\n",
        "# amplitude\n",
        "A1 = np.array([ 3.5,  7.2])\n",
        "A2 = np.array([ 1.5,  2.5])\n",
        "\n",
        "# offset\n",
        "o1 = np.array([ 1.1,  4.5])\n",
        "o2 = np.array([-2.5, -0.5])\n",
        "\n",
        "# rotation matrix\n",
        "r1  = np.array([[ 0.92, -0.39],\n",
        "                [ 0.39,  0.92]]) # 22.5' \n",
        "r2  = np.array([[ 0.39,  0.92],\n",
        "                [-0.92,  0.39]]) # 67.5'\n",
        "\n",
        "s  = np.dot(np.random.randn(n1,2) * A1, r1) + o1\n",
        "t  = np.dot(np.random.randn(n2,2) * A2, r2) + o2"
      ],
      "outputs": [],
      "execution_count": null,
      "metadata": {}
    },
    {
      "cell_type": "code",
      "source": [
        "plt.figure()\n",
        "plt.plot(s[:,0], s[:,1])\n",
        "plt.plot(t[:,0], t[:,1])"
      ],
      "outputs": [],
      "execution_count": null,
      "metadata": {}
    },
    {
      "cell_type": "code",
      "source": [
        "plt.figure()\n",
        "plt.plot(s[:,0], s[:,1], 'o')\n",
        "plt.plot(t[:,0], t[:,1], 'o')"
      ],
      "outputs": [],
      "execution_count": null,
      "metadata": {}
    },
    {
      "cell_type": "code",
      "source": [
        "# change from plot to scatter\n",
        "plt.figure()\n",
        "plt.scatter(s[:,0], s[:,1])\n",
        "plt.scatter(t[:,0], t[:,1])"
      ],
      "outputs": [],
      "execution_count": null,
      "metadata": {
        "gather": {
          "logged": 1600454377610
        }
      }
    },
    {
      "cell_type": "code",
      "source": [
        "# gah! different parameter signature!\n",
        "plt.figure()\n",
        "plt.scatter(t[:,0], t[:,1], c='b')\n",
        "plt.scatter(s[:,0], s[:,1], c='r')"
      ],
      "outputs": [],
      "execution_count": null,
      "metadata": {
        "gather": {
          "logged": 1600454378058
        }
      }
    },
    {
      "cell_type": "code",
      "source": [
        "plt.figure()\n",
        "plt.scatter(t[:,0], t[:,1], c='b', label='Trojans')\n",
        "plt.scatter(s[:,0], s[:,1], c='r', label='Spartans')\n",
        "plt.legend()"
      ],
      "outputs": [],
      "execution_count": null,
      "metadata": {
        "gather": {
          "logged": 1600454378583
        }
      }
    },
    {
      "cell_type": "code",
      "source": [
        "plt.figure()\n",
        "plt.scatter(t[:,0], t[:,1], c='b', label='Trojans')\n",
        "plt.scatter(s[:,0], s[:,1], c='r', label='Spartans')\n",
        "plt.legend(loc='upper left')\n",
        "plt.xlabel('ferocity')\n",
        "plt.ylabel('empathy')\n",
        "plt.title('Trojan and Spartan ferocity and empathy')"
      ],
      "outputs": [],
      "execution_count": null,
      "metadata": {
        "gather": {
          "logged": 1600454379056
        }
      }
    },
    {
      "cell_type": "code",
      "source": [
        "# Hey, what about those Trojans?\n",
        "plt.figure()\n",
        "plt.scatter(t[:,0], t[:,1], c='b', alpha=0.3, linewidths=0, label='Trojans')\n",
        "plt.scatter(s[:,0], s[:,1], c='r', alpha=0.3, linewidths=0, label='Spartans')\n",
        "plt.legend(loc='lower right')\n",
        "plt.xlabel('ferocity')\n",
        "plt.ylabel('empathy')\n",
        "plt.title('Trojan and Spartan ferocity and empathy')"
      ],
      "outputs": [],
      "execution_count": null,
      "metadata": {
        "gather": {
          "logged": 1600454379488
        }
      }
    },
    {
      "cell_type": "code",
      "source": [
        "# New data! object significance\n",
        "base = 10\n",
        "s1 = base + 20*np.random.randint(1,5,size=n1)\n",
        "s2 = base + 20*np.random.randint(1,5,size=n2)"
      ],
      "outputs": [],
      "execution_count": null,
      "metadata": {
        "gather": {
          "logged": 1600454381198
        }
      }
    },
    {
      "cell_type": "code",
      "source": [
        "plt.figure(figsize=(8,6))\n",
        "plt.scatter(t[:,0], t[:,1], s=s2, c='b', alpha=0.3, linewidths=0, label='Trojans')\n",
        "plt.scatter(s[:,0], s[:,1], s=s1, c='r', alpha=0.3, linewidths=0, label='Spartans')\n",
        "plt.legend(loc='lower right')\n",
        "plt.xlabel('ferocity')\n",
        "plt.ylabel('empathy')\n",
        "plt.title('Trojan and Spartan ferocity and empathy')"
      ],
      "outputs": [],
      "execution_count": null,
      "metadata": {
        "gather": {
          "logged": 1600454381601
        }
      }
    },
    {
      "cell_type": "markdown",
      "source": [
        "Prettyplotlib\n",
        "-------------\n",
        "* matplotlib is inspired by Matlab\n",
        "* matlab plotting came to fruition in the 80s\n",
        "* *ergo* matplotlib figures can look a few decades out of date\n",
        "\n",
        "Prettyplotlib to the rescue! Inspired by <a href=\"http://www.edwardtufte.com/tufte/\" target=\"_parent\">Edward Tufte</a>: minimalist"
      ],
      "metadata": {}
    },
    {
      "cell_type": "code",
      "source": [
        "import prettyplotlib as ppl"
      ],
      "outputs": [],
      "execution_count": null,
      "metadata": {}
    },
    {
      "cell_type": "code",
      "source": [
        "plt.figure(figsize=(8,6))\n",
        "ppl.scatter(t[:,0], t[:,1], s=s2, c='b', alpha=0.5, linewidths=0, label='Trojans')\n",
        "ppl.scatter(s[:,0], s[:,1], s=s1, c='r', alpha=0.5, linewidths=0,label='Spartans')\n",
        "ppl.legend(loc='upper left')\n",
        "plt.xlabel('ferocity')\n",
        "plt.ylabel('empathy')\n",
        "plt.title('Trojan and Spartan ferocity and empathy', fontsize=16)"
      ],
      "outputs": [],
      "execution_count": null,
      "metadata": {}
    },
    {
      "cell_type": "code",
      "source": [
        "plt.figure(figsize=(8,10))\n",
        "plt.subplot(211)\n",
        "ppl.hist(s[:,0], label='Spartans')\n",
        "ppl.hist(t[:,0], label='Trojans')\n",
        "plt.subplot(212)\n",
        "ppl.hist(s[:,1], label='Spartans')\n",
        "ppl.hist(t[:,1], label='Trojans')\n",
        "ppl.legend()\n",
        "plt.savefig('hist.svg')"
      ],
      "outputs": [],
      "execution_count": null,
      "metadata": {}
    },
    {
      "cell_type": "code",
      "source": [
        "import IPython.display\n",
        "IPython.display.SVG(open('hist.svg').read())"
      ],
      "outputs": [],
      "execution_count": null,
      "metadata": {}
    },
    {
      "cell_type": "markdown",
      "source": [
        "Seaborn\n",
        "-------\n",
        "* R-inspired\n",
        "* Talks *Pandas* `DataFrames` and *Numpy* `ndarrays`"
      ],
      "metadata": {}
    },
    {
      "cell_type": "code",
      "source": [
        "from scipy import stats\n",
        "import pandas  as pd\n",
        "import seaborn as sns"
      ],
      "outputs": [],
      "execution_count": 1,
      "metadata": {
        "gather": {
          "logged": 1600454533288
        }
      }
    },
    {
      "cell_type": "code",
      "source": [
        "plt.hexbin(s[:,0],s[:,1], gridsize=12, cmap='Reds')\n",
        "plt.xlabel('ferocity')\n",
        "plt.ylabel('empathy')\n",
        "plt.title('Spartan heat map')"
      ],
      "outputs": [
        {
          "output_type": "error",
          "ename": "NameError",
          "evalue": "name 'plt' is not defined",
          "traceback": [
            "\u001b[0;31m---------------------------------------------------------------------------\u001b[0m",
            "\u001b[0;31mNameError\u001b[0m                                 Traceback (most recent call last)",
            "\u001b[0;32m<ipython-input-2-6e05efd6b3df>\u001b[0m in \u001b[0;36m<module>\u001b[0;34m\u001b[0m\n\u001b[0;32m----> 1\u001b[0;31m \u001b[0mplt\u001b[0m\u001b[0;34m.\u001b[0m\u001b[0mhexbin\u001b[0m\u001b[0;34m(\u001b[0m\u001b[0ms\u001b[0m\u001b[0;34m[\u001b[0m\u001b[0;34m:\u001b[0m\u001b[0;34m,\u001b[0m\u001b[0;36m0\u001b[0m\u001b[0;34m]\u001b[0m\u001b[0;34m,\u001b[0m\u001b[0ms\u001b[0m\u001b[0;34m[\u001b[0m\u001b[0;34m:\u001b[0m\u001b[0;34m,\u001b[0m\u001b[0;36m1\u001b[0m\u001b[0;34m]\u001b[0m\u001b[0;34m,\u001b[0m \u001b[0mgridsize\u001b[0m\u001b[0;34m=\u001b[0m\u001b[0;36m12\u001b[0m\u001b[0;34m,\u001b[0m \u001b[0mcmap\u001b[0m\u001b[0;34m=\u001b[0m\u001b[0;34m'Reds'\u001b[0m\u001b[0;34m)\u001b[0m\u001b[0;34m\u001b[0m\u001b[0;34m\u001b[0m\u001b[0m\n\u001b[0m\u001b[1;32m      2\u001b[0m \u001b[0mplt\u001b[0m\u001b[0;34m.\u001b[0m\u001b[0mxlabel\u001b[0m\u001b[0;34m(\u001b[0m\u001b[0;34m'ferocity'\u001b[0m\u001b[0;34m)\u001b[0m\u001b[0;34m\u001b[0m\u001b[0;34m\u001b[0m\u001b[0m\n\u001b[1;32m      3\u001b[0m \u001b[0mplt\u001b[0m\u001b[0;34m.\u001b[0m\u001b[0mylabel\u001b[0m\u001b[0;34m(\u001b[0m\u001b[0;34m'empathy'\u001b[0m\u001b[0;34m)\u001b[0m\u001b[0;34m\u001b[0m\u001b[0;34m\u001b[0m\u001b[0m\n\u001b[1;32m      4\u001b[0m \u001b[0mplt\u001b[0m\u001b[0;34m.\u001b[0m\u001b[0mtitle\u001b[0m\u001b[0;34m(\u001b[0m\u001b[0;34m'Spartan heat map'\u001b[0m\u001b[0;34m)\u001b[0m\u001b[0;34m\u001b[0m\u001b[0;34m\u001b[0m\u001b[0m\n",
            "\u001b[0;31mNameError\u001b[0m: name 'plt' is not defined"
          ]
        }
      ],
      "execution_count": 2,
      "metadata": {}
    },
    {
      "cell_type": "code",
      "source": [
        "plt.hexbin(t[:,0],t[:,1], gridsize=8, cmap='Blues')\n",
        "plt.xlabel('ferocity')\n",
        "plt.ylabel('empathy')\n",
        "plt.title('Trojan heat map')"
      ],
      "outputs": [],
      "execution_count": null,
      "metadata": {}
    },
    {
      "cell_type": "code",
      "source": [
        "sns.regplot(s[:,0], s[:,1],color='r')\n",
        "main, x_marg, y_marg = plt.gcf().axes\n",
        "sns.despine(ax=main)\n",
        "sns.despine(ax=x_marg, left=True)\n",
        "sns.despine(ax=y_marg, bottom=True)"
      ],
      "outputs": [],
      "execution_count": null,
      "metadata": {}
    },
    {
      "cell_type": "code",
      "source": [
        "sns.regplot(t[:,0], t[:,1],color='b')\n",
        "main, x_marg, y_marg = plt.gcf().axes\n",
        "sns.despine(ax=main)\n",
        "sns.despine(ax=x_marg, left=True)\n",
        "sns.despine(ax=y_marg, bottom=True)"
      ],
      "outputs": [],
      "execution_count": null,
      "metadata": {}
    },
    {
      "cell_type": "markdown",
      "source": [
        "<a href=\"http://bokeh.pydata.org/\" target=\"_parent\">Bokeh</a>\n",
        "-----\n",
        "\n",
        "Goal: *a billion points, meaningfully, interactively, in the browser*\n",
        "    \n",
        "<a href=\"http://bokeh.pydata.org/index.html#technicalvision\" target=\"_parent\">Technical Vision</a>\n",
        "\n",
        "Get bokeh 0.3 From the command line:\n",
        "```\n",
        "   $ conda install bokeh\n",
        "```\n",
        "\n",
        "From inside your Python interpreter:\n",
        "```\n",
        "   import bokeh\n",
        "   bokeh.sampledata.download()\n",
        "```\n",
        "\n",
        "Bokeh supports:\n",
        "    \n",
        "* stand-alone HTML output\n",
        "* server-mode (plots and data held in Redis DB)\n",
        "* IPython Notebooks (stand-alone JS, and server-connected)"
      ],
      "metadata": {}
    },
    {
      "cell_type": "markdown",
      "source": [
        "Mayavi - Interactive 3D Rendering\n",
        "---------------------------------\n",
        "* need to run these with `pythonw` due to library linking issues"
      ],
      "metadata": {}
    },
    {
      "cell_type": "code",
      "source": [
        "from numpy import pi, sin, cos, mgrid\n",
        "\n",
        "dphi, dtheta = pi/250.0, pi/250.0\n",
        "\n",
        "[phi,theta] = mgrid[0:pi+dphi*1.5:dphi,0:2*pi +dtheta*1.5:dtheta]\n",
        "\n",
        "m0, m1, m2, m3, m4, m5, m6, m7 = 4, 3, 2, 3, 6, 2, 6, 4\n",
        "\n",
        "r = sin(m0*phi)**m1 + cos(m2*phi)**m3 + sin(m4*theta)**m5 + cos(m6*theta)**m7\n",
        "\n",
        "x = r*sin(phi)*cos(theta)\n",
        "y = r*cos(phi)\n",
        "z = r*sin(phi)*sin(theta)"
      ],
      "outputs": [],
      "execution_count": null,
      "metadata": {}
    },
    {
      "cell_type": "code",
      "source": [
        "# won't work in Wakari -- needs native graphics\n",
        "from mayavi import mlab\n",
        "\n",
        "s = mlab.mesh(x, y, z)\n",
        "mlab.show()"
      ],
      "outputs": [],
      "execution_count": null,
      "metadata": {}
    },
    {
      "cell_type": "markdown",
      "source": [
        "NetworkX\n",
        "--------"
      ],
      "metadata": {}
    },
    {
      "cell_type": "code",
      "source": [
        "import networkx as nx\n",
        "import matplotlib.pyplot as plt\n",
        "\n",
        "G   = nx.house_graph()\n",
        "# explicitly set positions\n",
        "pos = {0:(0,0),\n",
        "     1:(1,0),\n",
        "     2:(0,1),\n",
        "     3:(1,1),\n",
        "     4:(0.5,2.0)}\n",
        "\n",
        "nx.draw_networkx_nodes(G,pos,node_size=2000,nodelist=[4])\n",
        "nx.draw_networkx_nodes(G,pos,node_size=3000,nodelist=[0,1,2,3],node_color='b')\n",
        "nx.draw_networkx_edges(G,pos,alpha=0.5,width=6)\n",
        "\n",
        "plt.axis('off')\n",
        "plt.show() # display"
      ],
      "outputs": [],
      "execution_count": null,
      "metadata": {}
    },
    {
      "cell_type": "code",
      "source": [
        "G      = nx.star_graph(20)\n",
        "pos    = nx.spring_layout(G)\n",
        "colors = range(20)"
      ],
      "outputs": [],
      "execution_count": null,
      "metadata": {}
    },
    {
      "cell_type": "code",
      "source": [
        "G.nodes()"
      ],
      "outputs": [],
      "execution_count": null,
      "metadata": {}
    },
    {
      "cell_type": "code",
      "source": [
        "G.edges()"
      ],
      "outputs": [],
      "execution_count": null,
      "metadata": {}
    },
    {
      "cell_type": "code",
      "source": [
        "nx.draw(G, pos, node_color='#A0CBE2', edge_color=colors, width=4, edge_cmap=plt.cm.Blues, with_labels=False)\n",
        "\n",
        "plt.show() # display"
      ],
      "outputs": [],
      "execution_count": null,
      "metadata": {}
    },
    {
      "cell_type": "code",
      "source": [
        "G=nx.random_geometric_graph(200,0.125)\n",
        "# position is stored as node attribute data for random_geometric_graph\n",
        "pos=nx.get_node_attributes(G,'pos')\n",
        "\n",
        "# find node near center (0.5,0.5)\n",
        "dmin=1\n",
        "ncenter=0\n",
        "for n in pos:\n",
        "    x,y=pos[n]\n",
        "    d=(x-0.5)**2+(y-0.5)**2\n",
        "    if d<dmin:\n",
        "        ncenter=n\n",
        "        dmin=d\n",
        "\n",
        "# color by path length from node near center\n",
        "p=nx.single_source_shortest_path_length(G,ncenter)\n",
        "\n",
        "plt.figure(figsize=(8,8))\n",
        "nx.draw_networkx_edges(G,pos,nodelist=[ncenter],alpha=0.4)\n",
        "nx.draw_networkx_nodes(G,pos,nodelist=p.keys(),\n",
        "                       node_size=80,\n",
        "                       node_color=p.values(),\n",
        "                       cmap=plt.cm.Reds_r)\n",
        "\n",
        "plt.xlim(-0.05,1.05)\n",
        "plt.ylim(-0.05,1.05)\n",
        "plt.axis('off')\n",
        "plt.show()"
      ],
      "outputs": [],
      "execution_count": null,
      "metadata": {}
    },
    {
      "cell_type": "code",
      "source": [
        "import networkx as nx\n",
        "\n",
        "# tag names specifying what game info should be\n",
        "# stored in the dict on each digraph edge\n",
        "game_details=[\"Event\",\n",
        "              \"Date\",\n",
        "              \"Result\",\n",
        "              \"ECO\",\n",
        "              \"Site\"]\n",
        "\n",
        "def chess_pgn_graph(pgn_file=\"WCC.pgn\"):\n",
        "    \"\"\"Read chess games in pgn format in pgn_file.\n",
        "\n",
        "    Filenames ending in .gz or .bz2 will be uncompressed.\n",
        "\n",
        "    Return the MultiDiGraph of players connected by a chess game.\n",
        "    Edges contain game data in a dict.\n",
        "\n",
        "    \"\"\"\n",
        "    G=nx.MultiDiGraph()\n",
        "    game={}\n",
        "    datafile = open(pgn_file)\n",
        "    lines = (line.decode().rstrip('\\r\\n') for line in datafile)\n",
        "    for line in lines:\n",
        "        if line.startswith('['):\n",
        "            tag,value=line[1:-1].split(' ',1)\n",
        "            game[str(tag)]=value.strip('\"')\n",
        "        else:\n",
        "        # empty line after tag set indicates\n",
        "        # we finished reading game info\n",
        "            if game:\n",
        "                white=game.pop('White')\n",
        "                black=game.pop('Black')\n",
        "                G.add_edge(white, black, **game)\n",
        "                game={}\n",
        "    return G\n",
        "\n",
        "\n",
        "if __name__ == '__main__':\n",
        "    import networkx as nx\n",
        "\n",
        "\n",
        "    G=chess_pgn_graph()\n",
        "\n",
        "    ngames=G.number_of_edges()\n",
        "    nplayers=G.number_of_nodes()\n",
        "\n",
        "    print(\"Loaded %d chess games between %d players\\n\"\\\n",
        "                   % (ngames,nplayers))\n",
        "\n",
        "    # identify connected components\n",
        "    # of the undirected version\n",
        "    Gcc=nx.connected_component_subgraphs(G.to_undirected())\n",
        "    if len(Gcc)>1:\n",
        "        print(\"Note the disconnected component consisting of:\")\n",
        "        print(Gcc[1].nodes())\n",
        "\n",
        "    # find all games with B97 opening (as described in ECO)\n",
        "    openings=set([game_info['ECO']\n",
        "                  for (white,black,game_info) in G.edges(data=True)])\n",
        "    print(\"\\nFrom a total of %d different openings,\"%len(openings))\n",
        "    print('the following games used the Sicilian opening')\n",
        "    print('with the Najdorff 7...Qb6 \"Poisoned Pawn\" variation.\\n')\n",
        "\n",
        "    for (white,black,game_info) in G.edges(data=True):\n",
        "        if game_info['ECO']=='B97':\n",
        "           print(white,\"vs\",black)\n",
        "           for k,v in game_info.items():\n",
        "               print(\"   \",k,\": \",v)\n",
        "           print(\"\\n\")\n",
        "\n",
        "\n",
        "    try:\n",
        "        import matplotlib.pyplot as plt\n",
        "    except ImportError:\n",
        "        import sys\n",
        "        print(\"Matplotlib needed for drawing. Skipping\")\n",
        "        sys.exit(0)\n",
        "\n",
        "    # make new undirected graph H without multi-edges\n",
        "    H=nx.Graph(G)\n",
        "\n",
        "    # edge width is proportional number of games played\n",
        "    edgewidth=[]\n",
        "    for (u,v,d) in H.edges(data=True):\n",
        "        edgewidth.append(len(G.get_edge_data(u,v)))\n",
        "\n",
        "    # node size is proportional to number of games won\n",
        "    wins=dict.fromkeys(G.nodes(),0.0)\n",
        "    for (u,v,d) in G.edges(data=True):\n",
        "        r=d['Result'].split('-')\n",
        "        if r[0]=='1':\n",
        "            wins[u]+=1.0\n",
        "        elif r[0]=='1/2':\n",
        "            wins[u]+=0.5\n",
        "            wins[v]+=0.5\n",
        "        else:\n",
        "            wins[v]+=1.0\n",
        "    try:\n",
        "        pos=nx.graphviz_layout(H)\n",
        "    except:\n",
        "        pos=nx.spring_layout(H,iterations=20)\n",
        "\n",
        "    plt.rcParams['text.usetex'] = False\n",
        "    plt.figure(figsize=(8,8))\n",
        "    nx.draw_networkx_edges(H,pos,alpha=0.3,width=edgewidth, edge_color='m')\n",
        "    nodesize=[wins[v]*50 for v in H]\n",
        "    nx.draw_networkx_nodes(H,pos,node_size=nodesize,node_color='w',alpha=0.4)\n",
        "    nx.draw_networkx_edges(H,pos,alpha=0.4,node_size=0,width=1,edge_color='k')\n",
        "    nx.draw_networkx_labels(H,pos,fontsize=14)\n",
        "    font = {'fontname'   : 'Helvetica',\n",
        "            'color'      : 'k',\n",
        "            'fontweight' : 'bold',\n",
        "            'fontsize'   : 14}\n",
        "    plt.title(\"World Chess Championship Games: 1886 - 1985\", font)\n",
        "\n",
        "    # change font and write text (using data coordinates)\n",
        "    font = {'fontname'   : 'Helvetica',\n",
        "    'color'      : 'r',\n",
        "    'fontweight' : 'bold',\n",
        "    'fontsize'   : 14}\n",
        "\n",
        "    plt.text(0.5, 0.97, \"edge width = # games played\",\n",
        "             horizontalalignment='center',\n",
        "             transform=plt.gca().transAxes)\n",
        "    plt.text(0.5, 0.94,  \"node size = # games won\",\n",
        "             horizontalalignment='center',\n",
        "             transform=plt.gca().transAxes)\n",
        "\n",
        "    plt.axis('off')\n",
        "    plt.savefig(\"chess_masters.png\",dpi=75)\n",
        "    print(\"Wrote chess_masters.png\")\n",
        "    plt.show() # display"
      ],
      "outputs": [],
      "execution_count": null,
      "metadata": {}
    },
    {
      "cell_type": "markdown",
      "source": [
        "<a href=\"http://networkx.github.io/documentation/latest/gallery.html\" target=\"_parent\">NetworkX Gallery</a>"
      ],
      "metadata": {}
    },
    {
      "cell_type": "markdown",
      "source": [
        "Statsmodels\n",
        "-----------"
      ],
      "metadata": {}
    },
    {
      "cell_type": "code",
      "source": [
        "import numpy as np\n",
        "import pandas\n",
        "import matplotlib.pyplot as plt\n",
        "import statsmodels.api as sm\n",
        "from   statsmodels.formula.api import ols"
      ],
      "outputs": [],
      "execution_count": null,
      "metadata": {}
    },
    {
      "cell_type": "code",
      "source": [
        "prestige = sm.datasets.get_rdataset(\"Duncan\", \"car\", cache=True).data"
      ],
      "outputs": [],
      "execution_count": null,
      "metadata": {}
    },
    {
      "cell_type": "code",
      "source": [
        "prestige.head(20)"
      ],
      "outputs": [],
      "execution_count": null,
      "metadata": {}
    },
    {
      "cell_type": "code",
      "source": [
        "prestige_model = ols(\"prestige ~ income + education\", data=prestige).fit()"
      ],
      "outputs": [],
      "execution_count": null,
      "metadata": {}
    },
    {
      "cell_type": "code",
      "source": [
        "fix, ax = plt.subplots(figsize=(12,14))\n",
        "fig = sm.graphics.plot_partregress(\"prestige\", \"income\", [\"education\"], data=prestige, ax=ax)"
      ],
      "outputs": [],
      "execution_count": null,
      "metadata": {}
    },
    {
      "cell_type": "code",
      "source": [
        "print prestige_model.summary()"
      ],
      "outputs": [],
      "execution_count": null,
      "metadata": {}
    },
    {
      "cell_type": "code",
      "source": [
        "fig, ax = plt.subplots(figsize=(12, 8))\n",
        "fig = sm.graphics.plot_fit(prestige_model, \"education\", ax=ax)"
      ],
      "outputs": [],
      "execution_count": null,
      "metadata": {}
    },
    {
      "cell_type": "markdown",
      "source": [
        "ggplot\n",
        "------\n",
        "\n",
        "R-style composable plotting"
      ],
      "metadata": {}
    },
    {
      "cell_type": "code",
      "source": [
        "import ggplot as gp\n",
        "import pandas as pd"
      ],
      "outputs": [],
      "execution_count": null,
      "metadata": {}
    },
    {
      "cell_type": "code",
      "source": [
        "p = gp.ggplot(gp.mtcars, gp.aes('cyl'))\n",
        "p + gp.geom_bar()\n",
        "\n",
        "gp.plt.show(1)"
      ],
      "outputs": [],
      "execution_count": null,
      "metadata": {}
    },
    {
      "cell_type": "code",
      "source": [
        "gp.ggplot(gp.diamonds, gp.aes(x='price', color='cut')) + gp.geom_density()"
      ],
      "outputs": [],
      "execution_count": null,
      "metadata": {}
    },
    {
      "cell_type": "code",
      "source": [
        "df = pd.DataFrame({\n",
        "    \"x\": range(100),\n",
        "    \"y\": np.random.choice([-1, 1], 100)\n",
        "})\n",
        "\n",
        "df.y = df.y.cumsum()\n",
        "\n",
        "p = gp.ggplot(gp.aes(x='x', y='y'), data=df)\n",
        "p + gp.geom_step()\n",
        "plt.show(True)"
      ],
      "outputs": [],
      "execution_count": null,
      "metadata": {}
    },
    {
      "cell_type": "code",
      "source": [
        "gp.ggplot(gp.aes(x='date', y='beef'), data=gp.meat) + gp.geom_point(alpha=0.3) + gp.stat_smooth(colour=\"black\", se=True)"
      ],
      "outputs": [],
      "execution_count": null,
      "metadata": {}
    },
    {
      "cell_type": "markdown",
      "source": [
        "*For Next Time*\n",
        "\n",
        "* Basemap\n",
        "* Cholopleths"
      ],
      "metadata": {}
    }
  ],
  "metadata": {
    "name": "Data Visualization in Python",
    "nteract": {
      "version": "nteract-front-end@1.0.0"
    },
    "language_info": {
      "name": "python",
      "version": "3.7.3",
      "mimetype": "text/x-python",
      "codemirror_mode": {
        "name": "ipython",
        "version": 3
      },
      "pygments_lexer": "ipython3",
      "nbconvert_exporter": "python",
      "file_extension": ".py"
    },
    "kernelspec": {
      "name": "python3",
      "language": "python",
      "display_name": "Python 3"
    },
    "kernel_info": {
      "name": "python3"
    }
  },
  "nbformat": 4,
  "nbformat_minor": 0
}