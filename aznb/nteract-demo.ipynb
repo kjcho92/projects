{
  "cells": [
    {
      "cell_type": "markdown",
      "source": [
        "# The Notable Notebook"
      ],
      "metadata": {}
    },
    {
      "cell_type": "markdown",
      "source": [
        "This is a notebook that showcases the flexibility of a first class user experience built using React and nteract. Scroll through to see how nteract\n",
        "can help build experiences for interacting with data and compute. nteract also makes it easier to build the fundamental aspects of Jupyter notebooks.\n",
        "For example, the nteract component used to render this text renders math using LaTeX as well.\n",
        "\n",
        "$f(x) = \\int_{-\\infty}^\\infty\n",
        "    \\hat f(\\xi)\\,e^{2 \\pi i \\xi x}\n",
        "    \\,d\\xi$"
      ],
      "metadata": {}
    },
    {
      "cell_type": "markdown",
      "source": [
        "# Running Notebooks on ACI"
      ],
      "metadata": {}
    },
    {
      "cell_type": "code",
      "source": [
        "print(\"hello renderer2\")"
      ],
      "outputs": [
        {
          "output_type": "stream",
          "name": "stdout",
          "text": [
            "hello renderer2\n"
          ]
        }
      ],
      "execution_count": 1,
      "metadata": {
        "collapsed": false,
        "outputHidden": false,
        "inputHidden": false
      }
    },
    {
      "cell_type": "code",
      "source": [],
      "outputs": [],
      "execution_count": null,
      "metadata": {
        "collapsed": true,
        "jupyter": {
          "source_hidden": false,
          "outputs_hidden": false
        },
        "nteract": {
          "transient": {
            "deleting": false
          }
        }
      }
    },
    {
      "cell_type": "code",
      "source": [
        "from IPython.display import display\r\n",
        "def display_image(url):\r\n",
        "    display(\r\n",
        "        {\r\n",
        "            'application/custom+devtestsample': {\r\n",
        "                'title': \"kitty renderer\",\r\n",
        "                'url': url\r\n",
        "            }\r\n",
        "        },\r\n",
        "        raw=True\r\n",
        "    )"
      ],
      "outputs": [],
      "execution_count": 2,
      "metadata": {
        "collapsed": true,
        "jupyter": {
          "source_hidden": false,
          "outputs_hidden": false
        },
        "nteract": {
          "transient": {
            "deleting": false
          }
        }
      }
    },
    {
      "cell_type": "code",
      "source": [
        "display_image(\"https://cloudfour.com/examples/img-currentsrc/images/kitten-large.png\")"
      ],
      "outputs": [
        {
          "output_type": "display_data",
          "data": {
            "application/custom+devtestsample": {
              "title": "kitty renderer",
              "url": "https://cloudfour.com/examples/img-currentsrc/images/kitten-large.png"
            }
          },
          "metadata": {}
        }
      ],
      "execution_count": 3,
      "metadata": {
        "collapsed": true,
        "jupyter": {
          "source_hidden": false,
          "outputs_hidden": false
        },
        "nteract": {
          "transient": {
            "deleting": false
          }
        }
      }
    },
    {
      "cell_type": "code",
      "source": [
        "from IPython.display import display\r\n",
        " \r\n",
        "display(\r\n",
        "    {\r\n",
        "           'application/text': {\r\n",
        "                'title': \"custom renderer\",\r\n",
        "                'url': 'https://cloudfour.com/examples/img-currentsrc/images/kitten-large.png'\r\n",
        "            }\r\n",
        "    },\r\n",
        "    raw=True\r\n",
        ")"
      ],
      "outputs": [],
      "execution_count": null,
      "metadata": {
        "collapsed": true,
        "jupyter": {
          "source_hidden": false,
          "outputs_hidden": false
        },
        "nteract": {
          "transient": {
            "deleting": false
          }
        }
      }
    },
    {
      "cell_type": "code",
      "source": [
        "from IPython.display import display\r\n",
        "\r\n",
        "display( {\r\n",
        "{\r\n",
        " 'application/geoJSON': {\r\n",
        "    \"type\": \"Feature\",\r\n",
        "    \"geometry\": {\r\n",
        "        \"type\": \"Polygon\",\r\n",
        "        \"coordinates\": [\r\n",
        "            [\r\n",
        "                [\r\n",
        "                    -80.724878,\r\n",
        "                    35.265454\r\n",
        "                ],\r\n",
        "                [\r\n",
        "                    -80.722646,\r\n",
        "                    35.260338\r\n",
        "                ],\r\n",
        "                [\r\n",
        "                    -80.720329,\r\n",
        "                    35.260618\r\n",
        "                ],\r\n",
        "                [\r\n",
        "                    -80.718698,\r\n",
        "                    35.260267\r\n",
        "                ],\r\n",
        "                [\r\n",
        "                    -80.715093,\r\n",
        "                    35.260548\r\n",
        "                ],\r\n",
        "                [\r\n",
        "                    -80.71681,\r\n",
        "                    35.255361\r\n",
        "                ],\r\n",
        "                [\r\n",
        "                    -80.710887,\r\n",
        "                    35.255361\r\n",
        "                ],\r\n",
        "                [\r\n",
        "                    -80.703248,\r\n",
        "                    35.265033\r\n",
        "                ],\r\n",
        "                [\r\n",
        "                    -80.704793,\r\n",
        "                    35.268397\r\n",
        "                ],\r\n",
        "                [\r\n",
        "                    -80.70857,\r\n",
        "                    35.268257\r\n",
        "                ],\r\n",
        "                [\r\n",
        "                    -80.712518,\r\n",
        "                    35.270359\r\n",
        "                ],\r\n",
        "                [\r\n",
        "                    -80.715179,\r\n",
        "                    35.267696\r\n",
        "                ],\r\n",
        "                [\r\n",
        "                    -80.721359,\r\n",
        "                    35.267276\r\n",
        "                ],\r\n",
        "                [\r\n",
        "                    -80.724878,\r\n",
        "                    35.265454\r\n",
        "                ]\r\n",
        "            ]\r\n",
        "        ]\r\n",
        "    },\r\n",
        "    \"properties\": {\r\n",
        "        \"name\": \"Plaza Road Park\"\r\n",
        "    }\r\n",
        "}}\r\n",
        "},\r\n",
        "raw=True)"
      ],
      "outputs": [],
      "execution_count": null,
      "metadata": {
        "collapsed": true,
        "jupyter": {
          "source_hidden": false,
          "outputs_hidden": false
        },
        "nteract": {
          "transient": {
            "deleting": false
          }
        }
      }
    },
    {
      "cell_type": "code",
      "source": [],
      "outputs": [],
      "execution_count": null,
      "metadata": {
        "collapsed": true,
        "jupyter": {
          "source_hidden": false,
          "outputs_hidden": false
        },
        "nteract": {
          "transient": {
            "deleting": false
          }
        }
      }
    },
    {
      "cell_type": "markdown",
      "source": [
        "# Exploring Data With the Data Explorer"
      ],
      "metadata": {}
    },
    {
      "cell_type": "code",
      "source": [
        "%ls"
      ],
      "outputs": [],
      "execution_count": null,
      "metadata": {
        "collapsed": false,
        "outputHidden": false,
        "inputHidden": false
      }
    },
    {
      "cell_type": "code",
      "source": [
        "import pandas as pd\n",
        "pd.options.display.html.table_schema = True\n",
        "data = pd.read_csv(\"./MOCK_DATA.csv\")\n",
        "data"
      ],
      "outputs": [],
      "execution_count": null,
      "metadata": {
        "collapsed": false,
        "outputHidden": false,
        "inputHidden": false
      }
    },
    {
      "cell_type": "markdown",
      "source": [
        "# Building Layouts with the VDOM"
      ],
      "metadata": {}
    },
    {
      "cell_type": "code",
      "source": [
        "!pip install vdom"
      ],
      "outputs": [],
      "execution_count": null,
      "metadata": {
        "collapsed": false,
        "outputHidden": false,
        "inputHidden": false
      }
    },
    {
      "cell_type": "code",
      "source": [
        "import secrets\n",
        "import time\n",
        "\n",
        "class VDOM():\n",
        "    def __init__(self, obj):\n",
        "        self.obj = obj\n",
        "        \n",
        "    def _repr_mimebundle_(self, include, exclude, **kwargs):\n",
        "        return {\n",
        "                'application/vdom.v1+json': self.obj\n",
        "        }\n",
        "      \n",
        "def h1(children=None, **kwargs):\n",
        "    return {\n",
        "        'tagName': 'h1',\n",
        "        'attributes': {\n",
        "\n",
        "            # Fold everything else in as props\n",
        "            # Note that we'd _really_ want to do some validation here\n",
        "            **kwargs\n",
        "        },\n",
        "        'children': children,\n",
        "\n",
        "    }\n",
        "  \n",
        "def marquee(children=None, **kwargs):\n",
        "    return {\n",
        "        'tagName': 'marquee',\n",
        "        'attributes': {\n",
        "            # Fold everything else in as props\n",
        "            # Note that we'd _really_ want to do some validation here\n",
        "            **kwargs\n",
        "        },\n",
        "        'children': children,\n",
        "\n",
        "    }\n",
        "\n",
        "winner = \"\"\n",
        "\n",
        "# Each player should pick an emoji that you put into this array\n",
        "choices = [\"🥑\", \"🐰\", \"🤷\", \"🚁\", \"🐰\", \"🐱\", \"🍄\", \"🚁\", \"☃\", \"🌀\", \"🏇\", \"🐼\", \"🦆\", \"🚀\", \"🎡\"]\n",
        "\n",
        "\n",
        "game = display(VDOM(h1('GAMETIME')), display_id=\"game\")\n",
        "\n",
        "for ii in range(75):\n",
        "    winner = secrets.choice(choices)\n",
        "    game.display(\n",
        "        VDOM(\n",
        "            marquee(winner, style={ \"fontSize\" : '4em' })\n",
        "        ),\n",
        "        update=True\n",
        "    )\n",
        "    time.sleep(0.1)\n",
        "\n",
        "game.display(VDOM(h1('WINNER ' + winner, style={ \"fontSize\" : '4em' })), update=True)"
      ],
      "outputs": [],
      "execution_count": null,
      "metadata": {
        "collapsed": false,
        "outputHidden": false,
        "inputHidden": false
      }
    },
    {
      "cell_type": "markdown",
      "source": [
        "# Building Progress Bars for Long-running Jobs"
      ],
      "metadata": {}
    },
    {
      "cell_type": "code",
      "source": [
        "def element(elementType):\n",
        "    def elemental(children=None, **kwargs):\n",
        "        return {\n",
        "            'tagName': elementType,\n",
        "            'attributes': {\n",
        "                # Fold everything else in as props\n",
        "                # Note that we'd _really_ want to do some validation here\n",
        "                # Likely using http://bit.ly/domprops\n",
        "                **kwargs\n",
        "            },\n",
        "            'children': children,\n",
        "\n",
        "        }\n",
        "    return elemental\n",
        "\n",
        "details = element('details')\n",
        "summary = element('summary')\n",
        "progress = element('progress')\n",
        "\n",
        "progress_style= dict(width=\"100%\", appearance=\"none\")\n",
        "\n",
        "job_progress = display(\n",
        "    VDOM(\n",
        "        details([\n",
        "            summary(\"Job Progress\"),\n",
        "            progress(value=0, max=100, style=progress_style)\n",
        "        ], open=True)\n",
        "    ),\n",
        "    display_id=\"job_progression\"\n",
        ")\n",
        "\n",
        "for value in range(10, 105, 5):\n",
        "    time.sleep(0.4)\n",
        "\n",
        "    job_progress.display(VDOM(\n",
        "            details([\n",
        "                summary(\"Job Progress - toggle me\"),\n",
        "                progress(value=value, max=100, style=progress_style),\n",
        "                \n",
        "            ], open=True),\n",
        "        \n",
        "        ),\n",
        "        update=True)"
      ],
      "outputs": [],
      "execution_count": null,
      "metadata": {
        "collapsed": false,
        "outputHidden": false,
        "inputHidden": false
      }
    },
    {
      "cell_type": "markdown",
      "source": [
        "# Rendering Maps with GeoJSON"
      ],
      "metadata": {}
    },
    {
      "cell_type": "code",
      "source": [
        "def GeoJSON(data, **kwargs):\n",
        "    bundle = {\n",
        "        'application/geo+json': data,\n",
        "        'text/plain': '<IPython.display.GeoJSON object>'\n",
        "    }\n",
        "    metadata = {\n",
        "        'application/geo+json': kwargs\n",
        "    }\n",
        "    display(bundle, metadata=metadata, raw=True)"
      ],
      "outputs": [],
      "execution_count": null,
      "metadata": {
        "collapsed": false,
        "outputHidden": false,
        "inputHidden": false
      }
    },
    {
      "cell_type": "code",
      "source": [
        "data ={\n",
        "   \"type\":\"FeatureCollection\",\n",
        "   \"features\":[\n",
        "      {\n",
        "         \"type\":\"Feature\",\n",
        "         \"properties\":{\n",
        "            \"place\":\"Building 18\",\n",
        "            \"lat\":\"47.643761\",\n",
        "            \"lon\":\"-122.128098\"\n",
        "         },\n",
        "         \"geometry\":{\n",
        "            \"type\":\"Point\",\n",
        "            \"coordinates\":[\n",
        "               -122.128098,\n",
        "               47.643761\n",
        "            ]\n",
        "         }\n",
        "      }\n",
        "   ]\n",
        "}"
      ],
      "outputs": [],
      "execution_count": null,
      "metadata": {
        "collapsed": false,
        "outputHidden": false,
        "inputHidden": false
      }
    },
    {
      "cell_type": "code",
      "source": [
        "GeoJSON(data)"
      ],
      "outputs": [],
      "execution_count": null,
      "metadata": {
        "collapsed": false,
        "outputHidden": false,
        "inputHidden": false
      }
    }
  ],
  "metadata": {
    "kernelspec": {
      "name": "python3",
      "language": "python",
      "display_name": "Python 3"
    },
    "language_info": {
      "name": "python",
      "version": "3.7.0",
      "mimetype": "text/x-python",
      "codemirror_mode": {
        "name": "ipython",
        "version": 3
      },
      "pygments_lexer": "ipython3",
      "nbconvert_exporter": "python",
      "file_extension": ".py"
    },
    "nteract": {
      "version": "nteract-front-end@1.0.0"
    },
    "kernel_info": {
      "name": "python3"
    }
  },
  "nbformat": 4,
  "nbformat_minor": 2
}