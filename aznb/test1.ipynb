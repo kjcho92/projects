{
  "cells": [
    {
      "metadata": {
        "trusted": true
      },
      "cell_type": "code",
      "source": "1+1",
      "execution_count": 3,
      "outputs": [
        {
          "output_type": "stream",
          "text": "Access your data in Azure Notebooks.ipynb\r\nCreation and Deployment of an Azure ML Web Service.ipynb\r\nDiscover Sentiments in Tweets.ipynb\r\nIntroduction to FSharp.ipynb\r\nIntroduction to Python.ipynb\r\nIntroduction to R.ipynb\r\nLinear Regression - Cricket Chirps\r\nsentiment140-subset.csv\r\n",
          "name": "stdout"
        }
      ]
    },
    
    {
      "metadata": {
        "trusted": true
      },
      "cell_type": "code",
      "source": "2+2",
      "execution_count": 3,
      "outputs": [
        {
          "output_type": "stream",
          "text": "Access your data in Azure Notebooks.ipynb\r\nCreation and Deployment of an Azure ML Web Service.ipynb\r\nDiscover Sentiments in Tweets.ipynb\r\nIntroduction to FSharp.ipynb\r\nIntroduction to Python.ipynb\r\nIntroduction to R.ipynb\r\nLinear Regression - Cricket Chirps\r\nsentiment140-subset.csv\r\n",
          "name": "stdout"
        }
      ]
    }
  ],
  "metadata": {
    "kernelspec": {
      "name": "python36",
      "display_name": "Python 3.6",
      "language": "python"
    },
    "language_info": {
      "mimetype": "text/x-python",
      "nbconvert_exporter": "python",
      "name": "python",
      "pygments_lexer": "ipython3",
      "version": "3.6.6",
      "file_extension": ".py",
      "codemirror_mode": {
        "version": 3,
        "name": "ipython"
      }
    }
  },
  "nbformat": 4,
  "nbformat_minor": 1
}
