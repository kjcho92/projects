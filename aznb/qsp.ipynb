{
 "cells": [
  {
   "cell_type": "markdown",
   "metadata": {},
   "source": [
    "# A practical introduction into quantum signal processing (QSP)\n",
    "\n",
    "In this notebook we are going to implement and run the single-qubit quantum circuits used to illustrate quantum signal processing in [arXiv:2110.11327](https://arxiv.org/abs/2110.11327) and [arXiv:2105.02859](https://arxiv.org/abs/2105.02859).\n",
    "Quantum signal processing is a systematic framework to transform quantum systems with respect to almost arbitrary polynomial functions."
   ]
  },
  {
   "cell_type": "markdown",
   "metadata": {},
   "source": [
    "We first include some functions from Qiskit, NumPy, SymPy, as well as Matplotlib."
   ]
  },
  {
   "cell_type": "code",
   "execution_count": 1,
   "metadata": {},
   "outputs": [],
   "source": [
    "from qiskit import QuantumCircuit, execute, transpile\n",
    "from qiskit.providers.basicaer import UnitarySimulatorPy\n",
    "from qiskit.tools.monitor import job_monitor\n",
    "\n",
    "import numpy as np\n",
    "import numpy.random as random\n",
    "\n",
    "import sympy as sp\n",
    "\n",
    "import matplotlib.pyplot as plt\n",
    "\n",
    "from math import acos"
   ]
  },
  {
   "cell_type": "markdown",
   "metadata": {},
   "source": [
    "## 1. QSP polynomials\n",
    "\n",
    "To illustrate quantum signal processing, consider a sequence in which we alternate a *signal* rotation operator\n",
    "$$ W(x) = \\begin{pmatrix} x & \\mathrm{i}\\sqrt{1 - x^2} \\\\ \\mathrm{i}\\sqrt{1 - x^2} & x \\end{pmatrix} $$\n",
    "for a *fixed* value $x \\in [1, -1]$ and a *processing* rotation operator\n",
    "$$ S(\\phi) = e^{\\mathrm{i}\\phi Z} $$\n",
    "for variable real numbers $\\phi$.  These two matrices are unitary and can be implemented using $R_x(-2\\cos^{-1} x) = W(x)$ and $R_z(-2 \\phi) = S(\\phi)$ operations as follows."
   ]
  },
  {
   "cell_type": "code",
   "execution_count": 2,
   "metadata": {},
   "outputs": [],
   "source": [
    "class WGate(QuantumCircuit):\n",
    "    \"\"\"Defines the W(x) gate in terms of a Rx rotation\"\"\"\n",
    "    def __init__(self, x):\n",
    "        super().__init__(1)\n",
    "\n",
    "        super().rx(-2.0 * acos(x), 0)\n",
    "\n",
    "class SGate(QuantumCircuit):\n",
    "    \"\"\"Defines the S(ɸ) gate in terms of a Rz rotation\"\"\"\n",
    "    def __init__(self, phi):\n",
    "        super().__init__(1)\n",
    "\n",
    "        super().rz(-2.0 * phi, 0)"
   ]
  },
  {
   "cell_type": "markdown",
   "metadata": {},
   "source": [
    "We also define two functions that compute the matrices explicitly as defined above.  We are using SymPy here, so we can later evaluate them symbolically to create various polynomials."
   ]
  },
  {
   "cell_type": "code",
   "execution_count": 3,
   "metadata": {},
   "outputs": [],
   "source": [
    "def expected_w(x):\n",
    "    \"\"\"Return W(x) as a SymPy matrix\"\"\"\n",
    "    return sp.Matrix([[x, 1j * sp.sqrt(1 - x**2)], [1j * sp.sqrt(1 - x**2), x]])\n",
    "\n",
    "def expected_s(phi):\n",
    "    \"\"\"Return S(x) as a SymPy matrix\"\"\"\n",
    "    return sp.diag([sp.exp(1j * phi), sp.exp(-1j * phi)], unpack=True)"
   ]
  },
  {
   "cell_type": "markdown",
   "metadata": {},
   "source": [
    "Let's now test whether the `WGate` and the `SGate` do compute the expected matrices.  For this purpose, we create quantum circuits with a single gate and random values for $x$ and $\\phi$ and compare the unitary of the circuit with the expected unitary from the function."
   ]
  },
  {
   "cell_type": "code",
   "execution_count": 4,
   "metadata": {},
   "outputs": [
    {
     "name": "stdout",
     "output_type": "stream",
     "text": [
      "All tests passed.\n"
     ]
    }
   ],
   "source": [
    "# Create Qiskit backend to obtain unitary matrices from quantum circuits\n",
    "unitary_backend = UnitarySimulatorPy()\n",
    "\n",
    "# Check for 100 random numbers\n",
    "for _ in range(100):\n",
    "    # Draw an x in [-1, 1] to test WGate\n",
    "    x = random.rand() * 2 - 1\n",
    "\n",
    "    circ = QuantumCircuit(1)\n",
    "    circ.append(WGate(x), [0])\n",
    "\n",
    "    # Run circuit and return unitary matrix\n",
    "    actual = execute(circ, unitary_backend).result().get_unitary()\n",
    "\n",
    "    # Expected result from definition (transforms SymPy matrix into NumPy array)\n",
    "    expected = np.array(expected_w(x).evalf()).astype(complex)\n",
    "\n",
    "    assert np.allclose(actual, expected)\n",
    "\n",
    "\n",
    "    # Draw a ɸ in [0, 2π] to test SGate\n",
    "    phi = random.rand() * np.pi\n",
    "\n",
    "    circ = QuantumCircuit(1)\n",
    "    circ.append(SGate(phi), [0])\n",
    "\n",
    "    # Run circuit and return unitary matrix\n",
    "    actual = execute(circ, unitary_backend).result().get_unitary()\n",
    "\n",
    "    # Expected result from definition (transforms SymPy matrix into NumPy array)\n",
    "    expected = np.array(expected_s(phi).evalf()).astype(complex)\n",
    "\n",
    "    assert np.allclose(actual, expected)\n",
    "\n",
    "print(\"All tests passed.\")"
   ]
  },
  {
   "cell_type": "markdown",
   "metadata": {},
   "source": [
    "Now that we have a better understanding of $W(x)$ and $S(\\phi)$, let's get back to quantum signal processing, or short QSP.\n",
    "For a set of so-called *QSP phases* $\\vec \\phi = (\\phi_0, \\dots, \\phi_d)$ we can construct the unitary matrix\n",
    "$$ U^{\\vec\\phi} = S(\\phi_0)\\prod_{i=1}^d W(x) S(\\phi_i) = \\begin{pmatrix} P(x) & \\mathrm{i}Q(x) \\sqrt{1-x^2} \\\\ \\mathrm{i}Q^*(x)\\sqrt{1-x^2} & P^*(x) \\end{pmatrix}$$\n",
    "for some polynomials $P(x)$ and $Q(x)$ such that $\\mathrm{deg}(P) \\le d$, $\\mathrm{deg}(Q) < d$.  You can find more details about this remarkable result in [arXiv:1603.03996](https://arxiv.org/abs/1603.03996).\n",
    "\n",
    "Also the inverse direction works! Given any polynomial $P(x)$ that fulfills the requirement properties and some error bound $\\epsilon$ we can find QSP phases $\\vec\\phi$ from which we can build the alternating gate sequence $U^{\\vec\\phi}$.  Algorithms to find these phases are described, e.g., in [arXiv:1806.10236](https://arxiv.org/abs/1806.10236) and [arXiv:2003.02831](https://arxiv.org/abs/2003.02831).  But instead of using such approaches to find phases for some polynomial, we are picking some phases and use whatever polynomial results from them in our experiments."
   ]
  },
  {
   "cell_type": "code",
   "execution_count": 5,
   "metadata": {},
   "outputs": [],
   "source": [
    "def qsp_polynomial(x, phases):\n",
    "    \"\"\"\n",
    "    Given 𝑑 + 1 QSP phases ɸ[0], ..., ɸ[𝑑], returns the unitary matrix U^ɸ as described above,\n",
    "    the polynomial in its top-left corner, and the expression in the top-right corner.\"\"\"\n",
    "    assert phases, \"phases cannot be empty\"\n",
    "\n",
    "    poly = expected_s(phases[0])\n",
    "\n",
    "    for phi in phases[1:]:\n",
    "        poly = poly * expected_w(x) * expected_s(phi)\n",
    "    \n",
    "    poly = sp.simplify(poly)\n",
    "    return poly, poly[0, 0], poly[0, 1]"
   ]
  },
  {
   "cell_type": "markdown",
   "metadata": {},
   "source": [
    "Let's use this functions to create a polynomial of degree 1 with phases $0.1$, $0.2$, $0.3$, and $0.4$."
   ]
  },
  {
   "cell_type": "code",
   "execution_count": 6,
   "metadata": {},
   "outputs": [
    {
     "data": {
      "text/latex": [
       "$\\displaystyle x \\left(- 1.0 \\left(1 - x^{2}\\right) \\left(1.92106099400289 + 0.389418342308651 i\\right) + \\left(1.0 x^{2} + x^{2} e^{0.4 i} - 1.0\\right) e^{0.6 i}\\right)$"
      ],
      "text/plain": [
       "x*(-1.0*(1 - x**2)*(1.92106099400289 + 0.389418342308651*I) + (1.0*x**2 + x**2*exp(0.4*I) - 1.0)*exp(0.6*I))"
      ]
     },
     "execution_count": 6,
     "metadata": {},
     "output_type": "execute_result"
    }
   ],
   "source": [
    "# For now we want the polynomial symbolically for some variable 𝑥\n",
    "x = sp.Symbol('x')\n",
    "phases = [0.1, 0.2, 0.3, 0.4]\n",
    "\n",
    "# For our first experiment we do not need the polynomial in the top-right corner\n",
    "U, poly, _ = qsp_polynomial(x, phases)\n",
    "\n",
    "poly"
   ]
  },
  {
   "cell_type": "markdown",
   "metadata": {},
   "source": [
    "Let's also plot the squared magnitude $|P(x)|^2$ of this polynomial in the range $x \\in [-1, 1]$."
   ]
  },
  {
   "cell_type": "code",
   "execution_count": 7,
   "metadata": {},
   "outputs": [
    {
     "data": {
      "image/png": "[encoded data removed]",
      "text/plain": [
       "<Figure size 432x288 with 1 Axes>"
      ]
     },
     "metadata": {
      "needs_background": "light"
     },
     "output_type": "display_data"
    }
   ],
   "source": [
    "# translate amplitude polynomial into probability polynomial\n",
    "poly_abs = sp.Abs(poly)**2\n",
    "\n",
    "# discretization points (this will correspond to the number of quantum jobs)\n",
    "discretization_points = 30\n",
    "\n",
    "xs = np.linspace(-1, 1, discretization_points)\n",
    "ys = [poly_abs.evalf(subs={'x': x}) for x in xs]\n",
    "\n",
    "fig = plt.figure()\n",
    "ax = fig.add_subplot(1, 1, 1)\n",
    "ax.plot(xs, ys)\n",
    "plt.show()"
   ]
  },
  {
   "cell_type": "markdown",
   "metadata": {},
   "source": [
    "## 2. Simulating the QSP polynomial with a quantum circuit\n",
    "\n",
    "Next, we are creating the quantum circuit using $W$ and $S$ gates that is supposed to implement our target unitary with the QSP polynomial $P$ in the top-left corner."
   ]
  },
  {
   "cell_type": "code",
   "execution_count": 8,
   "metadata": {},
   "outputs": [],
   "source": [
    "def qsp_circuit(x, phases):\n",
    "    \"\"\"Creates a single-qubit unitary for some given QSP phases\"\"\"\n",
    "\n",
    "    # Map SumPy phases into NumPy phases and reverse them (gate application\n",
    "    # direction is opposite to matrix multiplication)\n",
    "    np_phases = [float(phi) for phi in phases]\n",
    "    np_phases.reverse()\n",
    "\n",
    "    circ = QuantumCircuit(1)\n",
    "\n",
    "    # We need to apply gates in reverse order to matrix multiplication\n",
    "    circ.append(SGate(np_phases[0]), [0])  # apply last angle\n",
    "    for phi in np_phases[1:]:           # iterate through all but last angle in reverse order\n",
    "        circ.append(WGate(x), [0])\n",
    "        circ.append(SGate(phi), [0])\n",
    "\n",
    "    return circ"
   ]
  },
  {
   "cell_type": "markdown",
   "metadata": {},
   "source": [
    "We simulate the unitary matrices of QSP circuits constructed for some random values of $x \\in [-1, 1]$ and compare them to the unitary $U$ that we explicitly constructed above."
   ]
  },
  {
   "cell_type": "code",
   "execution_count": 9,
   "metadata": {},
   "outputs": [],
   "source": [
    "# Test QSP polynomial\n",
    "for _ in range(10):\n",
    "    x = random.rand() * 2.0 - 1.0\n",
    "\n",
    "    # Create circuit\n",
    "    circ = qsp_circuit(x, phases)\n",
    "\n",
    "    # Run circuit and return unitary matrix\n",
    "    actual = execute(circ, unitary_backend).result().get_unitary()\n",
    "\n",
    "    # Expected result from U by plugging in x value for x symbol (transforms SymPy matrix into NumPy array)\n",
    "    expected = np.array(U.evalf(subs={'x': x})).astype(complex)\n",
    "\n",
    "    assert np.allclose(actual, expected)"
   ]
  },
  {
   "cell_type": "markdown",
   "metadata": {},
   "source": [
    "Great, the test passes! This means we should be able to reconstruct the polynomial $|P(x)|^2$ that we plotted above by running the QSP circuit several times and estimate the measurement probability of receiving $|0\\rangle$ from various measurement results iterating through different values for $x$.\n",
    "We set ourselves up by first creating a function that takes as input a quantum circuit that can be parameterized for a value $x$ a set of values from which we draw $x$, as well as a number of shots that indicates how many times the circuit is run for each $x$.\n",
    "The function returns a list of measurement probabilities that approximate $|P(x)|^2$ based on running the QSP circuit.\n",
    "\n",
    "The reason that we approximate the probability of measuring $|0\\rangle$ is because we obtain $P(x) = \\langle 0|U^{\\vec\\phi} |0\\rangle$, i.e., as a projection to the top-left corner.\n",
    "\n",
    "For the upcoming experiments we are going to simulate the QSP polynomial on a quantum computing backend.\n",
    "To do this, we connect to the Azure Quantum service.\n",
    "We construct an instance of the `AzureQuantumProvider`. Note that it's imported from `azure.quantum.qiskit`."
   ]
  },
  {
   "cell_type": "code",
   "execution_count": 10,
   "metadata": {},
   "outputs": [],
   "source": [
    "# Create a backend for quantum circuit simulation (e.g., ionq_simulator or ionq_qpu)\n",
    "from azure.quantum.qiskit import AzureQuantumProvider\n",
    "provider = AzureQuantumProvider (\n",
    "    resource_id = \"\",\n",
    "    location = \"\"\n",
    ")"
   ]
  },
  {
   "cell_type": "code",
   "execution_count": 11,
   "metadata": {},
   "outputs": [
    {
     "name": "stdout",
     "output_type": "stream",
     "text": [
      "This workspace's targets:\n",
      "- honeywell.hqs-lt-s1\n",
      "- honeywell.hqs-lt-s1-apival\n",
      "- honeywell.hqs-lt-s2\n",
      "- honeywell.hqs-lt-s2-apival\n",
      "- honeywell.hqs-lt-s1-sim\n",
      "- ionq.qpu\n",
      "- ionq.simulator\n"
     ]
    }
   ],
   "source": [
    "# List all available targets\n",
    "print(\"This workspace's targets:\")\n",
    "for backend in provider.backends():\n",
    "    print(\"- \" + backend.name())\n",
    "\n",
    "# Select ionq.simulator target\n",
    "backend = provider.get_backend(\"ionq.simulator\")"
   ]
  },
  {
   "cell_type": "code",
   "execution_count": 12,
   "metadata": {},
   "outputs": [],
   "source": [
    "def simulate_polynomial(circuit_function, xs, num_shots):\n",
    "    \"\"\"\n",
    "    This function creates experiment circuits for each `x` in `xs`,\n",
    "    simulates them for the given number of shots and returns a list\n",
    "    of measurement probabilities for each input value `x`.\n",
    "    \"\"\"\n",
    "    # Array in which we store all simulated probabilities\n",
    "    ys_simulated = []\n",
    "\n",
    "    # Submit jobs for each x\n",
    "    jobs = [backend.run(circuit_function(x), shots=num_shots) for x in xs]\n",
    "\n",
    "    # After we submitted all the jobs, we wait for each of them.\n",
    "    # It does not matter whether jobs finishes in a different order than they were executed, since we\n",
    "    # traverse the jobs in the same order as they were executed.\n",
    "    for job in jobs:\n",
    "        # Wait for the job to finish\n",
    "        job_monitor(job)\n",
    "\n",
    "        # Derive probability of |0⟩ outcome\n",
    "        counts = job.result().get_counts()\n",
    "        probability = counts.get('0', 0) / counts.shots()\n",
    "\n",
    "        # Append probability to simulated probabilies for plotting\n",
    "        ys_simulated.append(probability)\n",
    "\n",
    "    return ys_simulated"
   ]
  },
  {
   "cell_type": "markdown",
   "metadata": {},
   "source": [
    "Let's try this function for our QSP circuit.  We can use the `qsp_circuit` function that we created above, but we must add a measurement instruction at the end of the circuit.\n",
    "Calling the `simulate_polynomial` function returns values that we plot alongside the values we got from directly evaluating the formula."
   ]
  },
  {
   "cell_type": "code",
   "execution_count": 13,
   "metadata": {},
   "outputs": [
    {
     "name": "stdout",
     "output_type": "stream",
     "text": [
      "Job Status: job has successfully run\n",
      "Job Status: job has successfully run\n",
      "Job Status: job has successfully run\n",
      "Job Status: job has successfully run\n",
      "Job Status: job has successfully run\n",
      "Job Status: job has successfully run\n",
      "Job Status: job has successfully run\n",
      "Job Status: job has successfully run\n",
      "Job Status: job has successfully run\n",
      "Job Status: job has successfully run\n",
      "Job Status: job has successfully run\n",
      "Job Status: job has successfully run\n",
      "Job Status: job has successfully run\n",
      "Job Status: job has successfully run\n",
      "Job Status: job has successfully run\n",
      "Job Status: job has successfully run\n",
      "Job Status: job has successfully run\n",
      "Job Status: job has successfully run\n",
      "Job Status: job has successfully run\n",
      "Job Status: job has successfully run\n",
      "Job Status: job has successfully run\n",
      "Job Status: job has successfully run\n",
      "Job Status: job has successfully run\n",
      "Job Status: job has successfully run\n",
      "Job Status: job has successfully run\n",
      "Job Status: job has successfully run\n",
      "Job Status: job has successfully run\n",
      "Job Status: job has successfully run\n",
      "Job Status: job has successfully run\n",
      "Job Status: job has successfully run\n"
     ]
    },
    {
     "data": {
      "image/png": "[encoded data removed]",
      "text/plain": [
       "<Figure size 432x288 with 1 Axes>"
      ]
     },
     "metadata": {
      "needs_background": "light"
     },
     "output_type": "display_data"
    }
   ],
   "source": [
    "# Number of shots per x value (choose a higher x to increse the precision)\n",
    "num_shots = 100\n",
    "\n",
    "# Creates an experiment circuit based on x\n",
    "def experiment_circuit(x):\n",
    "    # Create circuit\n",
    "    circ = qsp_circuit(x, phases)\n",
    "\n",
    "    # Measure qubit\n",
    "    circ.measure_all()\n",
    "\n",
    "    # Transpile circuit\n",
    "    return transpile(circ, backend)\n",
    "\n",
    "ys_simulated = simulate_polynomial(experiment_circuit, xs, num_shots)\n",
    "\n",
    "# Plot both evaluated probabilities `ys`` and simulated ones `simulated_ys``\n",
    "fig = plt.figure()\n",
    "ax = fig.add_subplot(1, 1, 1)\n",
    "ax.plot(xs, ys, label='formula')\n",
    "ax.plot(xs, ys_simulated, label='simulated')\n",
    "plt.legend(loc='upper right')\n",
    "plt.show()"
   ]
  },
  {
   "cell_type": "markdown",
   "metadata": {},
   "source": [
    "## 3. Projecting into the $\\{|+\\rangle, |-\\rangle\\}$ basis\n",
    "\n",
    "In the previous section we projected the unitary into the $\\{|0\\rangle, |1\\rangle\\}$ basis, and we could compute $\\langle 0|U^{\\vec\\phi}|0\\rangle = P(x)$.\n",
    "When projecting into the $\\{|+\\rangle, |-\\rangle\\}$ basis, we can construct a richer set of polynomials, since\n",
    "$$\n",
    "    \\langle +|U^{\\vec\\phi}|+\\rangle = \\mathrm{Re}(P(x)) + \\mathrm{i}\\cdot\\mathrm{Re}(Q(x))\\cdot\\sqrt{1 - x^2}\n",
    "$$"
   ]
  },
  {
   "cell_type": "code",
   "execution_count": 14,
   "metadata": {},
   "outputs": [],
   "source": [
    "# For now we want the polynomial symbolically for some variable 𝑥 and we use the same phases as above\n",
    "x = sp.Symbol('x')\n",
    "phases = [0.1, 0.2, 0.3, 0.4]\n",
    "\n",
    "# This time we need to the entry in the top-right corner of the unitary\n",
    "_, poly, qpoly = qsp_polynomial(x, phases)"
   ]
  },
  {
   "cell_type": "code",
   "execution_count": 15,
   "metadata": {},
   "outputs": [
    {
     "data": {
      "image/png": "[encoded data removed]",
      "text/plain": [
       "<Figure size 432x288 with 1 Axes>"
      ]
     },
     "metadata": {
      "needs_background": "light"
     },
     "output_type": "display_data"
    }
   ],
   "source": [
    "# translate amplitude polynomial into probability polynomial\n",
    "sum_poly = sp.re(poly) + 1j * sp.re(qpoly / 1j)\n",
    "sum_poly_abs = sp.Abs(sum_poly)**2\n",
    "\n",
    "# we use the same number of discretization points\n",
    "discretization_points = 30\n",
    "\n",
    "# and evaluate the new polynomial for all values in xs\n",
    "xs = np.linspace(-1, 1, discretization_points)\n",
    "ys = [sum_poly_abs.evalf(subs={'x': x}) for x in xs]\n",
    "\n",
    "fig = plt.figure()\n",
    "ax = fig.add_subplot(1, 1, 1)\n",
    "ax.plot(xs, ys)\n",
    "plt.show()"
   ]
  },
  {
   "cell_type": "code",
   "execution_count": 16,
   "metadata": {},
   "outputs": [
    {
     "name": "stdout",
     "output_type": "stream",
     "text": [
      "Job Status: job has successfully run\n",
      "Job Status: job has successfully run\n",
      "Job Status: job has successfully run\n",
      "Job Status: job has successfully run\n",
      "Job Status: job has successfully run\n",
      "Job Status: job has successfully run\n",
      "Job Status: job has successfully run\n",
      "Job Status: job has successfully run\n",
      "Job Status: job has successfully run\n",
      "Job Status: job has successfully run\n",
      "Job Status: job has successfully run\n",
      "Job Status: job has successfully run\n",
      "Job Status: job has successfully run\n",
      "Job Status: job has successfully run\n",
      "Job Status: job has successfully run\n",
      "Job Status: job has successfully run\n",
      "Job Status: job has successfully run\n",
      "Job Status: job has successfully run\n",
      "Job Status: job has successfully run\n",
      "Job Status: job has successfully run\n",
      "Job Status: job has successfully run\n",
      "Job Status: job has successfully run\n",
      "Job Status: job has successfully run\n",
      "Job Status: job has successfully run\n",
      "Job Status: job has successfully run\n",
      "Job Status: job has successfully run\n",
      "Job Status: job has successfully run\n",
      "Job Status: job has successfully run\n",
      "Job Status: job has successfully run\n",
      "Job Status: job has successfully run\n"
     ]
    },
    {
     "data": {
      "image/png": "[encoded data removed]",
      "text/plain": [
       "<Figure size 432x288 with 1 Axes>"
      ]
     },
     "metadata": {
      "needs_background": "light"
     },
     "output_type": "display_data"
    }
   ],
   "source": [
    "# Creates an experiment circuit based on x (this time adds H gates to the beginning and end)\n",
    "def experiment_circuit(x):\n",
    "    # Create circuit\n",
    "    circ = qsp_circuit(x, phases)\n",
    "\n",
    "    # Sandwich the circuit with H gates\n",
    "    h_circ = QuantumCircuit(1)\n",
    "    h_circ.h(0)\n",
    "    circ = h_circ.compose(circ).compose(h_circ)\n",
    "\n",
    "    # Measure qubit\n",
    "    circ.measure_all()\n",
    "\n",
    "    # Transpile circuit\n",
    "    return transpile(circ, backend)\n",
    "\n",
    "ys_simulated = simulate_polynomial(experiment_circuit, xs, num_shots)\n",
    "\n",
    "# Plot both evaluated probabilities `ys`` and simulated ones `simulated_ys``\n",
    "fig = plt.figure()\n",
    "ax = fig.add_subplot(1, 1, 1)\n",
    "ax.plot(xs, ys, label='formula')\n",
    "ax.plot(xs, ys_simulated, label='simulated')\n",
    "plt.legend(loc='upper right')\n",
    "plt.show()"
   ]
  },
  {
   "cell_type": "markdown",
   "metadata": {},
   "source": [
    "## 4. Next steps\n",
    "\n",
    "We hope you enjoyed our concrete demonstration of quantum signal processing. We encourage you to explore this notebook further, for example by:\n",
    "\n",
    "* Trying out different phase angles to construct other polynomials.\n",
    "* Changing the number of discretization points and number of shots to increase or decrease the precision of the plots.\n",
    "* Trying out different backends: How would the 3D-bar plot look like when running on a real QPU? Just replace `ionq.simulator` by `ionq.qpu`.\n",
    "\n",
    "To learn more about submitting Qiskit circuits to Azure Quantum, review [the Azure Quantum documentation](https://docs.microsoft.com/azure/quantum/quickstart-microsoft-qiskit?pivots=platform-ionq).\n",
    "\n",
    "To learn more about job pricing, also review [the Azure Quantum documentation](https://docs.microsoft.com/azure/quantum/azure-quantum-job-costs)."
   ]
  }
 ],
 "metadata": {},
 "nbformat": 4,
 "nbformat_minor": 2
}