{
  "cells": [
    {
      "metadata": {
        "trusted": true
      },
      "cell_type": "code",
      "source": [
        "%%markdown\n",
        "# Heading 1\n",
        "** bold text **\n",
        "\n",
        "<ins> bold text </ins> \n",
        "\n",
        "<u> bold text </u>"
      ],
      "execution_count": 2,
      "outputs": [
        {
          "output_type": "display_data",
          "data": {
            "text/plain": "<IPython.core.display.Markdown object>",
            "text/markdown": "# Heading 1\n** bold text **\n\n<ins> bold text </ins> \n\n<u> bold text </u>\n"
          },
          "metadata": {}
        }
      ]
    },
    {
      "source": [
        "## markdown\r\n",
        "\r\n",
        "** bold text **\r\n",
        "\r\n",
        "<ins> bold text </ins> \r\n",
        "\r\n",
        "<u> bold text </u> \r\n"
      ],
      "cell_type": "markdown",
      "metadata": {}
    }
  ],
  "metadata": {
    "kernelspec": {
      "name": "python378jvsc74a57bd057baa5815c940fdaff4d14510622de9616cae602444507ba5d0b6727c008cbd6",
      "display_name": "Python 3.7.8 64-bit"
    },
    "language_info": {
      "mimetype": "text/x-python",
      "nbconvert_exporter": "python",
      "name": "python",
      "pygments_lexer": "ipython3",
      "version": "3.7.8",
      "file_extension": ".py",
      "codemirror_mode": {
        "version": 3,
        "name": "ipython"
      }
    },
    "metadata": {
      "interpreter": {
        "hash": "57baa5815c940fdaff4d14510622de9616cae602444507ba5d0b6727c008cbd6"
      }
    }
  },
  "nbformat": 4,
  "nbformat_minor": 1
}