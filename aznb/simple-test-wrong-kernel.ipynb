{
  "cells": [
    {
      "metadata": {
        "trusted": true
      },
      "cell_type": "code",
      "source": "b",
      "execution_count": 3,
      "outputs": [        
      ]
    },
    
    {
      "metadata": {
        "trusted": true
      },
      "cell_type": "code",
      "source": "c",
      "execution_count": 3,
      "outputs": [
      ]
    },
    
    {
      "metadata": {
        "trusted": true
      },
      "cell_type": "code",
      "source": "1",
      "execution_count": 3,
      "outputs": [
      ]
    },
    
    {
      "metadata": {
        "trusted": true
      },
      "cell_type": "code",
      "source": "d",
      "execution_count": 3,
      "outputs": [
      ]
    }

  ],
  "metadata": {
    "kernelspec": {
      "display_name": "abc",
      "language": "abc",
      "name": "abc"
    },
    "language_info": {
      "mimetype": "text/x-python",
      "nbconvert_exporter": "python",
      "name": "python",
      "pygments_lexer": "ipython3",
      "version": "3.6.6",
      "file_extension": ".py",
      "codemirror_mode": {
        "version": 3,
        "name": "ipython"
      }
    }
  },
  "nbformat": 4,
  "nbformat_minor": 1
}
