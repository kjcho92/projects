{
  "cells": [
    {
      "metadata": {
        "trusted": true
      },
      "cell_type": "code",
      "source": [
        "%%markdown\n",
        "# Heading 1 with `code`\n",
        "## Heading 2\n",
        "### Heading 3\n",
        "\n",
        "LaTeX:\n",
        "$$\n",
        "\\LaTeX\\\n",
        "e^{\\pi i}+1 = 0\\\n",
        "\\thisshouldfail\\\n",
        "\\frac{numerator}{denominator}\n",
        "$$\n",
        "\n",
        "Tables:\n",
        "\n",
        "| sample table heading 1 | sample table heading 2 | sample table heading 3 |\n",
        "| :--- | :---: | ---: |\n",
        "| left align | center align | right align |\n",
        "\n",
        "Code:\n",
        "```javascript\n",
        "// this is javascript code. It should have syntax highlighting\n",
        "var x = 1;\n",
        "console.log(x + 1);\n",
        "```\n",
        "\n",
        "Scripting (nothing should happen):\n",
        "<script>alert(\"This shouldn't happen\")</script>\n",
        "<img onload=\"alert('This shouldn\\'t happen')\" />"
      ],
      "execution_count": 2,
      "outputs": [
        {
          "output_type": "display_data",
          "data": {
            "text/plain": "<IPython.core.display.Markdown object>",
            "text/markdown": "# Heading 1 with `code`\n## Heading 2\n### Heading 3\n\nLaTeX:\n$$\n\\LaTeX\\\ne^{\\pi i}+1 = 0\\\n\\thisshouldfail\\\n\\frac{numerator}{denominator}\n$$\n\nTables:\n\n| sample table heading 1 | sample table heading 2 | sample table heading 3 |\n| :--- | :---: | ---: |\n| left align | center align | right align |\n\nCode:\n```javascript\n// this is javascript code. It should have syntax highlighting\nvar x = 1;\nconsole.log(x + 1);\n```\n\nScripting (nothing should happen):\n<script>alert(\"This shouldn't happen\")</script>\n<img onload=\"alert('This shouldn\\'t happen')\" />\n"
          },
          "metadata": {}
        }
      ]
    }
  ],
  "metadata": {
    "kernelspec": {
      "display_name": "Python 3",
      "language": "python",
      "name": "python3"
    },
    "language_info": {
      "mimetype": "text/x-python",
      "nbconvert_exporter": "python",
      "name": "python",
      "pygments_lexer": "ipython3",
      "version": "3.7.6-final",
      "file_extension": ".py",
      "codemirror_mode": {
        "version": 3,
        "name": "ipython"
      }
    }
  },
  "nbformat": 4,
  "nbformat_minor": 1
}