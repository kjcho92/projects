{
  "cells": [
    {
      "metadata": {
        "trusted": true
      },
      "cell_type": "code",
      "source": [
        "x = 1\r\n",
        "while True:\r\n",
        "\tx * x"
      ],
      "execution_count": 1,
      "outputs": []
    },
    {
      "cell_type": "code",
      "execution_count": null,
      "metadata": {},
      "outputs": [],
      "source": [
        "arr = bytearray(1 << 31)"
      ]
    }
  ],
  "metadata": {
    "kernelspec": {
      "name": "python376jvsc74a57bd06ba72ebbaa826ee37cf6582935c20c6019c056159de29556b8a4c852cccd9c03",
      "display_name": "Python 3.7.6 64-bit ('base': conda)"
    },
    "language_info": {
      "mimetype": "text/x-python",
      "nbconvert_exporter": "python",
      "name": "python",
      "pygments_lexer": "ipython3",
      "version": "3.7.6",
      "file_extension": ".py",
      "codemirror_mode": {
        "version": 3,
        "name": "ipython"
      }
    }
  },
  "nbformat": 4,
  "nbformat_minor": 1
}