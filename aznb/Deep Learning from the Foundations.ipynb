{
 "cells": [
  {
   "cell_type": "markdown",
   "metadata": {
    "nteract": {
     "transient": {
      "deleting": false
     }
    }
   },
   "source": [
    "# Deep Learning from the Foundations\r\n",
    "\r\n",
    "These are my notes on [Jeremy Howard's](https://twitter.com/jeremyphoward?ref_src=twsrc%5Egoogle%7Ctwcamp%5Eserp%7Ctwgr%5Eauthor) \r\n",
    "most excellent [Deep Learning from the Foundations](https://course.fast.ai/part2) course. \r\n",
    "\r\n",
    "These notes are, as Jeremy puts it quite nicely in the course video, _notes for me from six months ago_."
   ]
  },
  {
   "cell_type": "markdown",
   "metadata": {
    "nteract": {
     "transient": {
      "deleting": false
     }
    }
   },
   "source": [
    "Let's make sure that the requirements for running this notebook are installed. When I wrote this, I'm using `v1.0.60` of \r\n",
    "the `fastai` library. Note that all of the information is contained within the `requirements.txt` file within this repository.\r\n",
    "\r\n",
    "Run the code cell below to see the contents of this file!"
   ]
  },
  {
   "cell_type": "code",
   "execution_count": 2,
   "metadata": {
    "collapsed": false,
    "jupyter": {
     "outputs_hidden": false,
     "source_hidden": false
    },
    "nteract": {
     "transient": {
      "deleting": false
     }
    }
   },
   "outputs": [
    {
     "name": "stdout",
     "output_type": "stream",
     "text": [
      "1.0.60\n"
     ]
    }
   ],
   "source": [
    "import fastai\r\n",
    "print(fastai.__version__)"
   ]
  },
  {
   "cell_type": "code",
   "execution_count": 4,
   "metadata": {
    "collapsed": false,
    "jupyter": {
     "outputs_hidden": false,
     "source_hidden": false
    },
    "nteract": {
     "transient": {
      "deleting": false
     }
    }
   },
   "outputs": [
    {
     "name": "stdout",
     "output_type": "stream",
     "text": [
      "alembic==1.3.3\r\n",
      "async-generator==1.10\r\n",
      "attrs==19.3.0\r\n",
      "backcall==0.1.0\r\n",
      "bleach==3.1.0\r\n",
      "blinker==1.4\r\n",
      "certifi==2019.11.28\r\n",
      "certipy==0.1.3\r\n",
      "cffi==1.13.2\r\n",
      "chardet==3.0.4\r\n",
      "cryptography==2.8\r\n",
      "decorator==4.4.1\r\n",
      "defusedxml==0.6.0\r\n",
      "entrypoints==0.3\r\n",
      "fastai==1.0.60\r\n",
      "idna==2.8\r\n",
      "importlib-metadata==1.5.0\r\n",
      "inflect==4.0.0\r\n",
      "ipykernel==5.1.4\r\n",
      "ipython==7.11.1\r\n",
      "ipython-genutils==0.2.0\r\n",
      "ipywidgets==7.5.1\r\n",
      "jaraco.itertools==5.0.0\r\n",
      "jedi==0.16.0\r\n",
      "Jinja2==2.11.0\r\n",
      "json5==0.8.5\r\n",
      "jsonschema==3.2.0\r\n",
      "jupyter-client==5.3.4\r\n",
      "jupyter-core==4.6.1\r\n",
      "jupyter-telemetry==0.0.4\r\n",
      "jupyterhub==1.1.0\r\n",
      "jupyterlab==1.2.6\r\n",
      "jupyterlab-server==1.0.6\r\n",
      "Mako==1.1.0\r\n",
      "MarkupSafe==1.1.1\r\n",
      "mistune==0.8.4\r\n",
      "more-itertools==8.2.0\r\n",
      "nbconvert==5.6.1\r\n",
      "nbformat==5.0.4\r\n",
      "notebook==6.0.3\r\n",
      "nteract-on-jupyter==2.1.3\r\n",
      "oauthlib==3.0.1\r\n",
      "pamela==1.0.0\r\n",
      "pandocfilters==1.4.2\r\n",
      "parso==0.6.0\r\n",
      "pexpect==4.8.0\r\n",
      "pickleshare==0.7.5\r\n",
      "prometheus-client==0.7.1\r\n",
      "prompt-toolkit==3.0.3\r\n",
      "ptyprocess==0.6.0\r\n",
      "pycparser==2.19\r\n",
      "pycurl==7.43.0.5\r\n",
      "Pygments==2.5.2\r\n",
      "PyJWT==1.7.1\r\n",
      "pyOpenSSL==19.1.0\r\n",
      "pyrsistent==0.15.7\r\n",
      "PySocks==1.7.1\r\n",
      "python-dateutil==2.8.1\r\n",
      "python-editor==1.0.4\r\n",
      "python-json-logger==0.1.11\r\n",
      "pyzmq==18.1.1\r\n",
      "requests==2.22.0\r\n",
      "ruamel.yaml==0.16.6\r\n",
      "ruamel.yaml.clib==0.2.0\r\n",
      "Send2Trash==1.5.0\r\n",
      "six==1.14.0\r\n",
      "SQLAlchemy==1.3.13\r\n",
      "terminado==0.8.3\r\n",
      "testpath==0.4.4\r\n",
      "tornado==6.0.3\r\n",
      "traitlets==4.3.3\r\n",
      "urllib3==1.25.7\r\n",
      "wcwidth==0.1.8\r\n",
      "webencodings==0.5.1\r\n",
      "widgetsnbextension==3.5.1\r\n",
      "zipp==2.1.0\r\n"
     ]
    }
   ],
   "source": [
    "!cat requirements.txt"
   ]
  },
  {
   "cell_type": "markdown",
   "metadata": {
    "nteract": {
     "transient": {
      "deleting": false
     }
    }
   },
   "source": [
    "There are a bunch of interesting observations that Jeremy is making when looking at the different ecosystems, especially as he \r\n",
    "compares and contrasts between `PyTorch` and `Swift for Tensorflow`.git/\r\n",
    "\r\n",
    "He's still calling out Python's relatively poor performance (certainly compared to Swift). I wonder how much faster it would be \r\n",
    "relative to TorchScript?"
   ]
  },
  {
   "cell_type": "markdown",
   "metadata": {
    "nteract": {
     "transient": {
      "deleting": false
     }
    }
   },
   "source": [
    "## Recreate much of fastai library \r\n",
    "\r\n",
    "This is the came - recreate much of `fastai` but we can only use:\r\n",
    "\r\n",
    "- python\r\n",
    "- python standard library\r\n",
    "- non-data science module\r\n",
    "- can use PyTorch arrays, RNG, IndexError\r\n",
    "- can use fastai.datasets library\r\n",
    "- can use matplotlib\r\n",
    "\r\n",
    "So that we can __really__ experiment, understand it by __creating it__, learn the kinds of things that you can __tweak__,\r\n",
    "__contribute__ to development and __correlate papers__ with code."
   ]
  },
  {
   "cell_type": "markdown",
   "metadata": {
    "nteract": {
     "transient": {
      "deleting": false
     }
    }
   },
   "source": [
    "### Some generally helpful resources\r\n",
    "\r\n",
    "- a Wikipedia page that lists [mathematical symbols](https://en.wikipedia.org/wiki/List_of_mathematical_symbols)\r\n",
    "- a site that lets you [draw a mathematical symbol](http://detexify.kirelabs.org/classify.html) and it will generate the corresponding TeX notation!\r\n",
    "\r\n",
    "### nbdev\r\n",
    "\r\n",
    "This is the way that Jeremy writes code. It's pretty cool, and he shows off a number of things in this course video.\r\n",
    "\r\n",
    "One thing that I found particularly interesting was how straightforward it is to use [nbformat]() to execute a notebook. \r\n",
    "It is quite literally two lines of code:\r\n",
    "\r\n",
    "``` python\r\n",
    "import nbformat    \r\n",
    "from nbconvert.preprocessors import ExecutePreprocessor\r\n",
    "\r\n",
    "def run_notebook(path):\r\n",
    "    nb = nbformat.fread(open(path), as_version=nbformat.NO_CONVERT)\r\n",
    "    ExecutePreprocessor(timeout=600).preprocess(nb, {})\r\n",
    "```\r\n",
    "\r\n",
    "He also shows off the way he implements the `#export` command as well. Again, it is very simple, so there really isn't \r\n",
    "much of a reason why we cannot build this kind of functionality into the Azure Notebooks component. All we really need \r\n",
    "to do is run the script below everytime a user executes a cell __successfully__. How hard would that be?\r\n",
    "\r\n",
    "This is all of the code for generating the exported libraries:\r\n",
    "\r\n",
    "``` python\r\n",
    "def is_export(cell):\r\n",
    "    if cell['cell_type'] != 'code':\r\n",
    "        return False\r\n",
    "    src = cell['source']\r\n",
    "    if len(src) == 0 or len(src[0]) < 7:\r\n",
    "        return False\r\n",
    "    return re.match(r'^\\s*#\\s*export\\s*$', src[0], re.IGNORECASE) is not None \r\n",
    "\r\n",
    "def notebook2script(fname):\r\n",
    "    fname = Path(fname)\r\n",
    "    fname_out = f'nb_{fname.stem.split(\"_\")[0]}.py'\r\n",
    "    main_dic = json.load(open(fname, 'r'))\r\n",
    "    code_cells = [c for c in main_dic['cells']] if is_export(c)]\r\n",
    "    module = f'''\r\n",
    "### AUTOGENERATED FILE WARNING ###\r\n",
    "'''\r\n",
    "    for cell in code_cells: \r\n",
    "        module += ''.join(cell['source'][1:]) + '\\n\\n'\r\n",
    "    module = re.sub(r' +$', '', module, flags=re.MULTILINE)\r\n",
    "    open(fname.parent/'exp'/fname_out,'w').write(module[:-2])\r\n",
    "```\r\n",
    "\r\n",
    "\r\n",
    "He also mentions the Python [fire](https://github.com/google/python-fire) library from Google which will automatically convert \r\n",
    "a Python program into a CLI by examining function parameters. It really is very nice, and I wish there were a golang equivalent!"
   ]
  },
  {
   "cell_type": "markdown",
   "metadata": {
    "nteract": {
     "transient": {
      "deleting": false
     }
    }
   },
   "source": [
    "### Roadmap\r\n",
    "\r\n",
    "Trying to create a basic modern CNN model which involves the following sequence of steps:\r\n",
    "\r\n",
    "- matrix multiplication\r\n",
    "- RELU/init \r\n",
    "- fully connected network forward step \r\n",
    "- fully connected network backward step \r\n",
    "- Train loop \r\n",
    "- Conv \r\n",
    "- Optim \r\n",
    "- Batch normalization \r\n"
   ]
  },
  {
   "cell_type": "markdown",
   "metadata": {
    "nteract": {
     "transient": {
      "deleting": false
     }
    }
   },
   "source": [
    "## Matrix multiplication \r\n",
    "\r\n",
    "Now, Jeremy starts doing things using [nbdev](http://nbdev.fast.ai/). I'm going to branch here where I can keep going in the Azure Notebooks\r\n",
    "component. But I will also spend some time doing the same thing using JupyterLab so that I can try out the `nbdev` workflow.\r\n",
    "\r\n",
    "Let's get started by writing a cell that imports everything that we are legally allowed to do based on our rules above:"
   ]
  },
  {
   "cell_type": "code",
   "execution_count": 7,
   "metadata": {
    "collapsed": false,
    "jupyter": {
     "outputs_hidden": false,
     "source_hidden": false
    },
    "nteract": {
     "transient": {
      "deleting": false
     }
    }
   },
   "outputs": [],
   "source": [
    "from pathlib import Path\r\n",
    "from IPython.core.debugger import set_trace \r\n",
    "from fastai import datasets\r\n",
    "import pickle, gzip, math, torch, matplotlib as mpl\r\n",
    "import matplotlib.pyplot as plt \r\n",
    "from torch import tensor"
   ]
  },
  {
   "cell_type": "markdown",
   "metadata": {
    "nteract": {
     "transient": {
      "deleting": false
     }
    }
   },
   "source": [
    "Next, let's download and load some matrix data so we can test it using our `matmul` implementation that we will soon write. \r\n",
    "Note that we're using the fastai library's `datasets` library to locate and download our dataset as a gzip file."
   ]
  },
  {
   "cell_type": "code",
   "execution_count": 8,
   "metadata": {
    "collapsed": false,
    "jupyter": {
     "outputs_hidden": false,
     "source_hidden": false
    },
    "nteract": {
     "transient": {
      "deleting": false
     }
    }
   },
   "outputs": [
    {
     "name": "stdout",
     "output_type": "stream",
     "text": [
      "Downloading http://deeplearning.net/data/mnist/mnist.pkl\n"
     ]
    },
    {
     "data": {
      "text/html": [],
      "text/plain": [
       "<IPython.core.display.HTML object>"
      ]
     },
     "metadata": {},
     "output_type": "display_data"
    },
    {
     "data": {
      "text/plain": [
       "PosixPath('/home/jflam/.fastai/data/mnist.pkl.gz')"
      ]
     },
     "execution_count": 8,
     "metadata": {},
     "output_type": "execute_result"
    }
   ],
   "source": [
    "MNIST_URL='http://deeplearning.net/data/mnist/mnist.pkl'\r\n",
    "path = datasets.download_data(MNIST_URL, ext='.gz')\r\n",
    "path"
   ]
  },
  {
   "cell_type": "markdown",
   "metadata": {
    "nteract": {
     "transient": {
      "deleting": false
     }
    }
   },
   "source": [
    "Use a combination of `gzip` and `pickle` to deserialize the data into a set of `numpy` arrays. "
   ]
  },
  {
   "cell_type": "code",
   "execution_count": 9,
   "metadata": {
    "collapsed": false,
    "jupyter": {
     "outputs_hidden": false,
     "source_hidden": false
    },
    "nteract": {
     "transient": {
      "deleting": false
     }
    }
   },
   "outputs": [],
   "source": [
    "with gzip.open(path, 'rb') as f:\r\n",
    "    ((x_train, y_train), (x_valid, y_valid), _) = pickle.load(f, encoding='latin-1')"
   ]
  },
  {
   "cell_type": "markdown",
   "metadata": {
    "nteract": {
     "transient": {
      "deleting": false
     }
    }
   },
   "source": [
    "However, we can't use `numpy` arrays per our rules, so let's convert the data into a PyTorch `tensor` and dump the results of the conversion. \r\n",
    "The code calls `tensor()` against each of the `x_train,y_train,x_valid,y_valid` `numpy` arrays to convert into PyTorch `tensors`:"
   ]
  },
  {
   "cell_type": "code",
   "execution_count": 10,
   "metadata": {
    "collapsed": false,
    "jupyter": {
     "outputs_hidden": false,
     "source_hidden": false
    },
    "nteract": {
     "transient": {
      "deleting": false
     }
    }
   },
   "outputs": [
    {
     "data": {
      "text/plain": [
       "(tensor([[0., 0., 0.,  ..., 0., 0., 0.],\n",
       "         [0., 0., 0.,  ..., 0., 0., 0.],\n",
       "         [0., 0., 0.,  ..., 0., 0., 0.],\n",
       "         ...,\n",
       "         [0., 0., 0.,  ..., 0., 0., 0.],\n",
       "         [0., 0., 0.,  ..., 0., 0., 0.],\n",
       "         [0., 0., 0.,  ..., 0., 0., 0.]]),\n",
       " torch.Size([50000, 784]),\n",
       " tensor([5, 0, 4,  ..., 8, 4, 8]),\n",
       " torch.Size([50000]),\n",
       " tensor(0),\n",
       " tensor(9))"
      ]
     },
     "execution_count": 10,
     "metadata": {},
     "output_type": "execute_result"
    }
   ],
   "source": [
    "x_train,y_train,x_valid,y_valid = map(tensor, (x_train,y_train,x_valid,y_valid))\r\n",
    "n,c = x_train.shape\r\n",
    "x_train, x_train.shape, y_train, y_train.shape, y_train.min(), y_train.max()"
   ]
  },
  {
   "cell_type": "markdown",
   "metadata": {
    "nteract": {
     "transient": {
      "deleting": false
     }
    }
   },
   "source": [
    "Now let's plot one of the digits. From above, you can see that each digit in MNIST is actually stored as a PyTorch `torch.FloatTensor` of \r\n",
    "length 784. The [view()](https://pytorch.org/docs/stable/tensors.html#torch.Tensor.view) method from PyTorch lets us easily convert it into a matrix of size (28,28) so that it can\r\n",
    "be plotted by `matplotlib`. "
   ]
  },
  {
   "cell_type": "code",
   "execution_count": 25,
   "metadata": {
    "collapsed": false,
    "jupyter": {
     "outputs_hidden": false,
     "source_hidden": false
    },
    "nteract": {
     "transient": {
      "deleting": false
     }
    }
   },
   "outputs": [
    {
     "name": "stdout",
     "output_type": "stream",
     "text": [
      "torch.Size([784])\n"
     ]
    },
    {
     "data": {
      "text/plain": [
       "torch.Size([28, 28])"
      ]
     },
     "execution_count": 25,
     "metadata": {},
     "output_type": "execute_result"
    }
   ],
   "source": [
    "img = x_train[0]\r\n",
    "print(img.shape)\r\n",
    "z = img.view(28,28)\r\n",
    "z.shape"
   ]
  },
  {
   "cell_type": "markdown",
   "metadata": {
    "nteract": {
     "transient": {
      "deleting": false
     }
    }
   },
   "source": [
    "Next, let's plot `z` using `matplotlib`:"
   ]
  },
  {
   "cell_type": "code",
   "execution_count": 26,
   "metadata": {
    "collapsed": false,
    "jupyter": {
     "outputs_hidden": false,
     "source_hidden": false
    },
    "nteract": {
     "transient": {
      "deleting": false
     }
    }
   },
   "outputs": [
    {
     "data": {
      "text/plain": [
       "<matplotlib.image.AxesImage at 0x7f8850c1bc90>"
      ]
     },
     "execution_count": 26,
     "metadata": {},
     "output_type": "execute_result"
    },
    {
     "data": {
      "image/png": "[encoded data removed]",
      "text/plain": [
       "<Figure size 432x288 with 1 Axes>"
      ]
     },
     "metadata": {
      "needs_background": "light"
     },
     "output_type": "display_data"
    }
   ],
   "source": [
    "mpl.rcParams['image.cmap'] = 'gray'\r\n",
    "plt.imshow(z)\r\n"
   ]
  },
  {
   "cell_type": "markdown",
   "metadata": {
    "nteract": {
     "transient": {
      "deleting": false
     }
    }
   },
   "source": [
    "Let's create a simple linear function: $y = ax + b$ where:\r\n",
    "\r\n",
    "- a is a bunch of weights that map our input tenor to our outputs (predicted digits)\r\n",
    "- b is our bias which we will initially start with zeroes"
   ]
  },
  {
   "cell_type": "code",
   "execution_count": 27,
   "metadata": {
    "collapsed": false,
    "jupyter": {
     "outputs_hidden": false,
     "source_hidden": false
    },
    "nteract": {
     "transient": {
      "deleting": false
     }
    }
   },
   "outputs": [],
   "source": [
    "weights = torch.randn(784, 10)\r\n",
    "bias = torch.zeros(10)"
   ]
  },
  {
   "cell_type": "markdown",
   "metadata": {
    "nteract": {
     "transient": {
      "deleting": false
     }
    }
   },
   "source": [
    "Next let's implement a naive matrix multiplication. Note that we have an assert below to ensure that the matrices are of\r\n",
    "the right dimensions such that they can be legally multiplied (columns of a == rows of b):"
   ]
  },
  {
   "cell_type": "code",
   "execution_count": 28,
   "metadata": {
    "collapsed": false,
    "jupyter": {
     "outputs_hidden": false,
     "source_hidden": false
    },
    "nteract": {
     "transient": {
      "deleting": false
     }
    }
   },
   "outputs": [],
   "source": [
    "def matmul(a,b):\r\n",
    "    ar,ac = a.shape \r\n",
    "    br,bc = b.shape\r\n",
    "    assert ac==br \r\n",
    "    c = torch.zeros(ar, bc)\r\n",
    "    for i in range(ar):\r\n",
    "        for j in range(bc):\r\n",
    "            for k in range(ac):\r\n",
    "                c[i,j] += a[i,k]*b[k,j]"
   ]
  },
  {
   "cell_type": "code",
   "execution_count": null,
   "metadata": {
    "collapsed": false,
    "jupyter": {
     "outputs_hidden": false,
     "source_hidden": false
    },
    "nteract": {
     "transient": {
      "deleting": false
     }
    }
   },
   "outputs": [],
   "source": []
  }
 ],
 "metadata": {
  "kernel_info": {
   "name": "python3"
  },
  "kernelspec": {
   "display_name": "Python 3",
   "language": "python",
   "name": "python3"
  },
  "language_info": {
   "codemirror_mode": {
    "name": "ipython",
    "version": 3
   },
   "file_extension": ".py",
   "mimetype": "text/x-python",
   "name": "python",
   "nbconvert_exporter": "python",
   "pygments_lexer": "ipython3",
   "version": "3.7.6"
  },
  "nteract": {
   "version": "nteract-front-end@1.0.0"
  }
 },
 "nbformat": 4,
 "nbformat_minor": 4
}
