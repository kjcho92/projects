{
  "cells": [
    {
      "cell_type": "code",
      "source": [
        "1+1"
      ],
      "outputs": [
        {
          "output_type": "display_data",
          "data": {
            "application/vnd.livy.statement-meta+json": {
              "spark_pool": "dummy",
              "session_id": -1,
              "statement_id": 420535,
              "state": "submitted",
              "livy_statement_state": "running",
              "queued_time": "2021-08-05T09:19:50.4419275Z",
              "session_start_time": null,
              "execution_start_time": "2021-08-05T09:19:50.6820848Z",
              "execution_finish_time": null
            },
            "text/plain": "StatementMeta(dummy, -1, 420535, Submitted, Running)"
          },
          "metadata": {}
        },
        {
          "output_type": "execute_result",
          "execution_count": 1,
          "data": {},
          "metadata": {}
        }
      ],
      "execution_count": 1,
      "metadata": {}
    },
    {
      "cell_type": "code",
      "source": [
        "1+1"
      ],
      "outputs": [
        {
          "output_type": "display_data",
          "data": {
            "application/vnd.livy.statement-meta+json": {
              "spark_pool": "dummy",
              "session_id": -1,
              "statement_id": 719011,
              "state": "finished",
              "livy_statement_state": "available",
              "queued_time": "2021-08-05T09:19:50.5907526Z",
              "session_start_time": null,
              "execution_start_time": "2021-08-05T09:19:51.0598573Z",
              "execution_finish_time": "2021-08-05T09:19:51.1657227Z"
            },
            "text/plain": "StatementMeta(dummy, -1, 719011, Finished, Available)"
          },
          "metadata": {}
        },
        {
          "output_type": "execute_result",
          "execution_count": 2,
          "data": {},
          "metadata": {}
        }
      ],
      "execution_count": 2,
      "metadata": {
        "collapsed": true,
        "jupyter": {
          "source_hidden": false,
          "outputs_hidden": false
        },
        "nteract": {
          "transient": {
            "deleting": false
          }
        }
      }
    },
    {
      "cell_type": "code",
      "source": [
        "1+1"
      ],
      "outputs": [
        {
          "output_type": "display_data",
          "data": {
            "application/vnd.livy.statement-meta+json": {
              "spark_pool": "dummy",
              "session_id": -1,
              "statement_id": 651280,
              "state": "finished",
              "livy_statement_state": "available",
              "queued_time": "2021-08-05T09:19:51.0846696Z",
              "session_start_time": null,
              "execution_start_time": "2021-08-05T09:19:51.4015791Z",
              "execution_finish_time": "2021-08-05T09:19:51.5166607Z"
            },
            "text/plain": "StatementMeta(dummy, -1, 651280, Finished, Available)"
          },
          "metadata": {}
        },
        {
          "output_type": "execute_result",
          "execution_count": 3,
          "data": {},
          "metadata": {}
        }
      ],
      "execution_count": 3,
      "metadata": {
        "collapsed": true,
        "jupyter": {
          "source_hidden": false,
          "outputs_hidden": false
        },
        "nteract": {
          "transient": {
            "deleting": false
          }
        }
      }
    },
    {
      "cell_type": "code",
      "source": [
        "1+1"
      ],
      "outputs": [
        {
          "output_type": "display_data",
          "data": {
            "application/vnd.livy.statement-meta+json": {
              "spark_pool": "dummy",
              "session_id": -1,
              "statement_id": 495096,
              "state": "submitted",
              "livy_statement_state": "running",
              "queued_time": "2021-08-05T09:19:51.3158548Z",
              "session_start_time": null,
              "execution_start_time": "2021-08-05T09:19:51.6938553Z",
              "execution_finish_time": null
            },
            "text/plain": "StatementMeta(dummy, -1, 495096, Submitted, Running)"
          },
          "metadata": {}
        },
        {
          "output_type": "execute_result",
          "execution_count": 4,
          "data": {},
          "metadata": {}
        }
      ],
      "execution_count": 4,
      "metadata": {
        "collapsed": true,
        "jupyter": {
          "source_hidden": false,
          "outputs_hidden": false
        },
        "nteract": {
          "transient": {
            "deleting": false
          }
        }
      }
    },
    {
      "cell_type": "code",
      "source": [
        "1+1"
      ],
      "outputs": [
        {
          "output_type": "display_data",
          "data": {
            "application/vnd.livy.statement-meta+json": {
              "spark_pool": "dummy",
              "session_id": -1,
              "statement_id": 972519,
              "state": "finished",
              "livy_statement_state": "available",
              "queued_time": "2021-08-05T09:19:51.7417788Z",
              "session_start_time": null,
              "execution_start_time": "2021-08-05T09:19:52.0446484Z",
              "execution_finish_time": "2021-08-05T09:19:52.1616369Z"
            },
            "text/plain": "StatementMeta(dummy, -1, 972519, Finished, Available)"
          },
          "metadata": {}
        },
        {
          "output_type": "execute_result",
          "execution_count": 5,
          "data": {},
          "metadata": {}
        }
      ],
      "execution_count": 5,
      "metadata": {
        "collapsed": true,
        "jupyter": {
          "source_hidden": false,
          "outputs_hidden": false
        },
        "nteract": {
          "transient": {
            "deleting": false
          }
        }
      }
    },
    {
      "cell_type": "code",
      "source": [
        "1+1"
      ],
      "outputs": [
        {
          "output_type": "display_data",
          "data": {
            "application/vnd.livy.statement-meta+json": {
              "spark_pool": "dummy",
              "session_id": -1,
              "statement_id": 664466,
              "state": "finished",
              "livy_statement_state": "available",
              "queued_time": "2021-08-05T09:19:52.3697946Z",
              "session_start_time": null,
              "execution_start_time": "2021-08-05T09:19:52.5107354Z",
              "execution_finish_time": "2021-08-05T09:19:52.6136629Z"
            },
            "text/plain": "StatementMeta(dummy, -1, 664466, Finished, Available)"
          },
          "metadata": {}
        },
        {
          "output_type": "execute_result",
          "execution_count": 6,
          "data": {},
          "metadata": {}
        }
      ],
      "execution_count": 6,
      "metadata": {
        "collapsed": true,
        "jupyter": {
          "source_hidden": false,
          "outputs_hidden": false
        },
        "nteract": {
          "transient": {
            "deleting": false
          }
        }
      }
    },
    {
      "cell_type": "code",
      "source": [
        "1+1"
      ],
      "outputs": [
        {
          "output_type": "display_data",
          "data": {
            "application/vnd.livy.statement-meta+json": {
              "spark_pool": "dummy",
              "session_id": -1,
              "statement_id": 356832,
              "state": "finished",
              "livy_statement_state": "available",
              "queued_time": "2021-08-05T09:19:52.9414754Z",
              "session_start_time": null,
              "execution_start_time": "2021-08-05T09:19:53.103214Z",
              "execution_finish_time": "2021-08-05T09:19:53.2186828Z"
            },
            "text/plain": "StatementMeta(dummy, -1, 356832, Finished, Available)"
          },
          "metadata": {}
        },
        {
          "output_type": "execute_result",
          "execution_count": 7,
          "data": {},
          "metadata": {}
        }
      ],
      "execution_count": 7,
      "metadata": {
        "collapsed": true,
        "jupyter": {
          "source_hidden": false,
          "outputs_hidden": false
        },
        "nteract": {
          "transient": {
            "deleting": false
          }
        }
      }
    },
    {
      "cell_type": "code",
      "source": [
        "1+1"
      ],
      "outputs": [
        {
          "output_type": "display_data",
          "data": {
            "application/vnd.livy.statement-meta+json": {
              "spark_pool": "dummy",
              "session_id": -1,
              "statement_id": 507341,
              "state": "finished",
              "livy_statement_state": "available",
              "queued_time": "2021-08-05T09:19:53.4621088Z",
              "session_start_time": null,
              "execution_start_time": "2021-08-05T09:19:53.5970993Z",
              "execution_finish_time": "2021-08-05T09:19:53.6978218Z"
            },
            "text/plain": "StatementMeta(dummy, -1, 507341, Finished, Available)"
          },
          "metadata": {}
        },
        {
          "output_type": "execute_result",
          "execution_count": 8,
          "data": {},
          "metadata": {}
        }
      ],
      "execution_count": 8,
      "metadata": {
        "collapsed": true,
        "jupyter": {
          "source_hidden": false,
          "outputs_hidden": false
        },
        "nteract": {
          "transient": {
            "deleting": false
          }
        }
      }
    }
  ],
  "metadata": {
    "language_info": {
      "name": "python"
    },
    "kernelspec": {
      "name": "synapse_pyspark",
      "language": "Python",
      "display_name": "Synapse PySpark"
    },
    "kernel_info": {
      "name": "synapse_pyspark"
    },
    "save_output": true,
    "synapse_widget": {
      "version": "0.1",
      "state": {}
    }
  },
  "nbformat": 4,
  "nbformat_minor": 2
}